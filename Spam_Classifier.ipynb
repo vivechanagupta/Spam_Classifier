{
  "nbformat": 4,
  "nbformat_minor": 0,
  "metadata": {
    "colab": {
      "name": "Spam_Classifier.ipynb",
      "provenance": [],
      "collapsed_sections": []
    },
    "kernelspec": {
      "name": "python3",
      "display_name": "Python 3"
    }
  },
  "cells": [
    {
      "cell_type": "markdown",
      "metadata": {
        "id": "JimWRWX36Jwp",
        "colab_type": "text"
      },
      "source": [
        "**Importing Libraries**"
      ]
    },
    {
      "cell_type": "code",
      "metadata": {
        "id": "MnMnLq0xYRP7",
        "colab_type": "code",
        "colab": {}
      },
      "source": [
        "import pandas as pd\n",
        "import numpy as np\n",
        "import re\n",
        "import nltk \n",
        "\n",
        "#for plotting\n",
        "import matplotlib.pyplot as plt\n",
        "\n",
        "#for ML models\n",
        "from sklearn.feature_extraction.text import CountVectorizer, TfidfVectorizer\n",
        "from sklearn.model_selection import train_test_split\n",
        "from sklearn.naive_bayes import MultinomialNB\n",
        "from sklearn.metrics import accuracy_score\n",
        "\n",
        "#for processing the text\n",
        "from nltk.corpus import stopwords\n",
        "from nltk.stem import PorterStemmer "
      ],
      "execution_count": 308,
      "outputs": []
    },
    {
      "cell_type": "markdown",
      "metadata": {
        "id": "gwPAOK0Z6P2s",
        "colab_type": "text"
      },
      "source": [
        "**Loading Dataset**"
      ]
    },
    {
      "cell_type": "code",
      "metadata": {
        "id": "BJVixbTpKS99",
        "colab_type": "code",
        "colab": {
          "base_uri": "https://localhost:8080/",
          "height": 204
        },
        "outputId": "05d5de0c-9473-435e-a53e-640b0b42511a"
      },
      "source": [
        "spam_class_dataset_csv=pd.read_csv(\"/content/SPAM text message 20170820 - Data.csv\")\n",
        "spam_class_dataset_csv.head()"
      ],
      "execution_count": 309,
      "outputs": [
        {
          "output_type": "execute_result",
          "data": {
            "text/html": [
              "<div>\n",
              "<style scoped>\n",
              "    .dataframe tbody tr th:only-of-type {\n",
              "        vertical-align: middle;\n",
              "    }\n",
              "\n",
              "    .dataframe tbody tr th {\n",
              "        vertical-align: top;\n",
              "    }\n",
              "\n",
              "    .dataframe thead th {\n",
              "        text-align: right;\n",
              "    }\n",
              "</style>\n",
              "<table border=\"1\" class=\"dataframe\">\n",
              "  <thead>\n",
              "    <tr style=\"text-align: right;\">\n",
              "      <th></th>\n",
              "      <th>Category</th>\n",
              "      <th>Message</th>\n",
              "    </tr>\n",
              "  </thead>\n",
              "  <tbody>\n",
              "    <tr>\n",
              "      <th>0</th>\n",
              "      <td>ham</td>\n",
              "      <td>Go until jurong point, crazy.. Available only ...</td>\n",
              "    </tr>\n",
              "    <tr>\n",
              "      <th>1</th>\n",
              "      <td>ham</td>\n",
              "      <td>Ok lar... Joking wif u oni...</td>\n",
              "    </tr>\n",
              "    <tr>\n",
              "      <th>2</th>\n",
              "      <td>spam</td>\n",
              "      <td>Free entry in 2 a wkly comp to win FA Cup fina...</td>\n",
              "    </tr>\n",
              "    <tr>\n",
              "      <th>3</th>\n",
              "      <td>ham</td>\n",
              "      <td>U dun say so early hor... U c already then say...</td>\n",
              "    </tr>\n",
              "    <tr>\n",
              "      <th>4</th>\n",
              "      <td>ham</td>\n",
              "      <td>Nah I don't think he goes to usf, he lives aro...</td>\n",
              "    </tr>\n",
              "  </tbody>\n",
              "</table>\n",
              "</div>"
            ],
            "text/plain": [
              "  Category                                            Message\n",
              "0      ham  Go until jurong point, crazy.. Available only ...\n",
              "1      ham                      Ok lar... Joking wif u oni...\n",
              "2     spam  Free entry in 2 a wkly comp to win FA Cup fina...\n",
              "3      ham  U dun say so early hor... U c already then say...\n",
              "4      ham  Nah I don't think he goes to usf, he lives aro..."
            ]
          },
          "metadata": {
            "tags": []
          },
          "execution_count": 309
        }
      ]
    },
    {
      "cell_type": "markdown",
      "metadata": {
        "id": "7LG8g2wg6TZA",
        "colab_type": "text"
      },
      "source": [
        "**Analysing the dataset**"
      ]
    },
    {
      "cell_type": "code",
      "metadata": {
        "id": "lvewoHD9Ybxy",
        "colab_type": "code",
        "colab": {
          "base_uri": "https://localhost:8080/",
          "height": 170
        },
        "outputId": "e9a46650-6d3b-4a9e-ff1c-7cc00b3da8be"
      },
      "source": [
        "spam_class_dataset.info()"
      ],
      "execution_count": 310,
      "outputs": [
        {
          "output_type": "stream",
          "text": [
            "<class 'pandas.core.frame.DataFrame'>\n",
            "RangeIndex: 5572 entries, 0 to 5571\n",
            "Data columns (total 2 columns):\n",
            " #   Column   Non-Null Count  Dtype \n",
            "---  ------   --------------  ----- \n",
            " 0   Label    5572 non-null   object\n",
            " 1   Message  5572 non-null   object\n",
            "dtypes: object(2)\n",
            "memory usage: 87.2+ KB\n"
          ],
          "name": "stdout"
        }
      ]
    },
    {
      "cell_type": "code",
      "metadata": {
        "id": "w3qTcDwDuasH",
        "colab_type": "code",
        "colab": {
          "base_uri": "https://localhost:8080/",
          "height": 173
        },
        "outputId": "f015f43e-cdb8-48d6-f092-a48ccd1b90f9"
      },
      "source": [
        "spam_class_dataset_csv.describe()"
      ],
      "execution_count": 311,
      "outputs": [
        {
          "output_type": "execute_result",
          "data": {
            "text/html": [
              "<div>\n",
              "<style scoped>\n",
              "    .dataframe tbody tr th:only-of-type {\n",
              "        vertical-align: middle;\n",
              "    }\n",
              "\n",
              "    .dataframe tbody tr th {\n",
              "        vertical-align: top;\n",
              "    }\n",
              "\n",
              "    .dataframe thead th {\n",
              "        text-align: right;\n",
              "    }\n",
              "</style>\n",
              "<table border=\"1\" class=\"dataframe\">\n",
              "  <thead>\n",
              "    <tr style=\"text-align: right;\">\n",
              "      <th></th>\n",
              "      <th>Category</th>\n",
              "      <th>Message</th>\n",
              "    </tr>\n",
              "  </thead>\n",
              "  <tbody>\n",
              "    <tr>\n",
              "      <th>count</th>\n",
              "      <td>5572</td>\n",
              "      <td>5572</td>\n",
              "    </tr>\n",
              "    <tr>\n",
              "      <th>unique</th>\n",
              "      <td>2</td>\n",
              "      <td>5157</td>\n",
              "    </tr>\n",
              "    <tr>\n",
              "      <th>top</th>\n",
              "      <td>ham</td>\n",
              "      <td>Sorry, I'll call later</td>\n",
              "    </tr>\n",
              "    <tr>\n",
              "      <th>freq</th>\n",
              "      <td>4825</td>\n",
              "      <td>30</td>\n",
              "    </tr>\n",
              "  </tbody>\n",
              "</table>\n",
              "</div>"
            ],
            "text/plain": [
              "       Category                 Message\n",
              "count      5572                    5572\n",
              "unique        2                    5157\n",
              "top         ham  Sorry, I'll call later\n",
              "freq       4825                      30"
            ]
          },
          "metadata": {
            "tags": []
          },
          "execution_count": 311
        }
      ]
    },
    {
      "cell_type": "code",
      "metadata": {
        "id": "cM8cwrlKuWN0",
        "colab_type": "code",
        "colab": {
          "base_uri": "https://localhost:8080/",
          "height": 68
        },
        "outputId": "39d7a29c-b2da-4d93-e116-63fc3efb9789"
      },
      "source": [
        "spam_class_dataset_csv[\"Category\"].value_counts()"
      ],
      "execution_count": 312,
      "outputs": [
        {
          "output_type": "execute_result",
          "data": {
            "text/plain": [
              "ham     4825\n",
              "spam     747\n",
              "Name: Category, dtype: int64"
            ]
          },
          "metadata": {
            "tags": []
          },
          "execution_count": 312
        }
      ]
    },
    {
      "cell_type": "code",
      "metadata": {
        "id": "I4oMzl7sJoO0",
        "colab_type": "code",
        "colab": {
          "base_uri": "https://localhost:8080/",
          "height": 282
        },
        "outputId": "df1f456e-3f2d-425b-ad59-0e798cde2597"
      },
      "source": [
        "spam_class_dataset_csv[\"Category\"].value_counts().hist()"
      ],
      "execution_count": 313,
      "outputs": [
        {
          "output_type": "execute_result",
          "data": {
            "text/plain": [
              "<matplotlib.axes._subplots.AxesSubplot at 0x7ff8b93331d0>"
            ]
          },
          "metadata": {
            "tags": []
          },
          "execution_count": 313
        },
        {
          "output_type": "display_data",
          "data": {
            "image/png": "[encoded data removed]",
            "text/plain": [
              "<Figure size 432x288 with 1 Axes>"
            ]
          },
          "metadata": {
            "tags": [],
            "needs_background": "light"
          }
        }
      ]
    },
    {
      "cell_type": "markdown",
      "metadata": {
        "id": "xfPE0I0LFGmU",
        "colab_type": "text"
      },
      "source": [
        "*Separating labels and the data*"
      ]
    },
    {
      "cell_type": "code",
      "metadata": {
        "id": "rDzS29o_VOm1",
        "colab_type": "code",
        "colab": {}
      },
      "source": [
        "y = spam_class_dataset_csv.Category\n",
        "X = spam_class_dataset_csv.drop(\"Category\",axis=1)"
      ],
      "execution_count": 314,
      "outputs": []
    },
    {
      "cell_type": "code",
      "metadata": {
        "id": "FdUvJr0yFT4w",
        "colab_type": "code",
        "colab": {
          "base_uri": "https://localhost:8080/",
          "height": 419
        },
        "outputId": "d32848db-77de-4a2c-b718-e897e8053c0e"
      },
      "source": [
        "X"
      ],
      "execution_count": 315,
      "outputs": [
        {
          "output_type": "execute_result",
          "data": {
            "text/html": [
              "<div>\n",
              "<style scoped>\n",
              "    .dataframe tbody tr th:only-of-type {\n",
              "        vertical-align: middle;\n",
              "    }\n",
              "\n",
              "    .dataframe tbody tr th {\n",
              "        vertical-align: top;\n",
              "    }\n",
              "\n",
              "    .dataframe thead th {\n",
              "        text-align: right;\n",
              "    }\n",
              "</style>\n",
              "<table border=\"1\" class=\"dataframe\">\n",
              "  <thead>\n",
              "    <tr style=\"text-align: right;\">\n",
              "      <th></th>\n",
              "      <th>Message</th>\n",
              "    </tr>\n",
              "  </thead>\n",
              "  <tbody>\n",
              "    <tr>\n",
              "      <th>0</th>\n",
              "      <td>Go until jurong point, crazy.. Available only ...</td>\n",
              "    </tr>\n",
              "    <tr>\n",
              "      <th>1</th>\n",
              "      <td>Ok lar... Joking wif u oni...</td>\n",
              "    </tr>\n",
              "    <tr>\n",
              "      <th>2</th>\n",
              "      <td>Free entry in 2 a wkly comp to win FA Cup fina...</td>\n",
              "    </tr>\n",
              "    <tr>\n",
              "      <th>3</th>\n",
              "      <td>U dun say so early hor... U c already then say...</td>\n",
              "    </tr>\n",
              "    <tr>\n",
              "      <th>4</th>\n",
              "      <td>Nah I don't think he goes to usf, he lives aro...</td>\n",
              "    </tr>\n",
              "    <tr>\n",
              "      <th>...</th>\n",
              "      <td>...</td>\n",
              "    </tr>\n",
              "    <tr>\n",
              "      <th>5567</th>\n",
              "      <td>This is the 2nd time we have tried 2 contact u...</td>\n",
              "    </tr>\n",
              "    <tr>\n",
              "      <th>5568</th>\n",
              "      <td>Will ü b going to esplanade fr home?</td>\n",
              "    </tr>\n",
              "    <tr>\n",
              "      <th>5569</th>\n",
              "      <td>Pity, * was in mood for that. So...any other s...</td>\n",
              "    </tr>\n",
              "    <tr>\n",
              "      <th>5570</th>\n",
              "      <td>The guy did some bitching but I acted like i'd...</td>\n",
              "    </tr>\n",
              "    <tr>\n",
              "      <th>5571</th>\n",
              "      <td>Rofl. Its true to its name</td>\n",
              "    </tr>\n",
              "  </tbody>\n",
              "</table>\n",
              "<p>5572 rows × 1 columns</p>\n",
              "</div>"
            ],
            "text/plain": [
              "                                                Message\n",
              "0     Go until jurong point, crazy.. Available only ...\n",
              "1                         Ok lar... Joking wif u oni...\n",
              "2     Free entry in 2 a wkly comp to win FA Cup fina...\n",
              "3     U dun say so early hor... U c already then say...\n",
              "4     Nah I don't think he goes to usf, he lives aro...\n",
              "...                                                 ...\n",
              "5567  This is the 2nd time we have tried 2 contact u...\n",
              "5568               Will ü b going to esplanade fr home?\n",
              "5569  Pity, * was in mood for that. So...any other s...\n",
              "5570  The guy did some bitching but I acted like i'd...\n",
              "5571                         Rofl. Its true to its name\n",
              "\n",
              "[5572 rows x 1 columns]"
            ]
          },
          "metadata": {
            "tags": []
          },
          "execution_count": 315
        }
      ]
    },
    {
      "cell_type": "code",
      "metadata": {
        "id": "NAkA41-qKctB",
        "colab_type": "code",
        "colab": {}
      },
      "source": [
        "spam_class_dataset_csv.rename(columns = {'Category':'Label'}, inplace=True)"
      ],
      "execution_count": 316,
      "outputs": []
    },
    {
      "cell_type": "code",
      "metadata": {
        "id": "mXeMlKDaMwQw",
        "colab_type": "code",
        "colab": {
          "base_uri": "https://localhost:8080/",
          "height": 34
        },
        "outputId": "73cc1b5b-4a4f-4715-aabd-e65561adaeb2"
      },
      "source": [
        "spam_class_dataset_csv.columns"
      ],
      "execution_count": 317,
      "outputs": [
        {
          "output_type": "execute_result",
          "data": {
            "text/plain": [
              "Index(['Label', 'Message'], dtype='object')"
            ]
          },
          "metadata": {
            "tags": []
          },
          "execution_count": 317
        }
      ]
    },
    {
      "cell_type": "code",
      "metadata": {
        "id": "-MGhqxuRNSBV",
        "colab_type": "code",
        "colab": {
          "base_uri": "https://localhost:8080/",
          "height": 419
        },
        "outputId": "b4c7bd22-2c3b-4887-8a03-5c62b84f8879"
      },
      "source": [
        "spam_class_dataset = spam_class_dataset_csv.replace({'spam':'1','ham':'0'})\n",
        "spam_class_dataset"
      ],
      "execution_count": 318,
      "outputs": [
        {
          "output_type": "execute_result",
          "data": {
            "text/html": [
              "<div>\n",
              "<style scoped>\n",
              "    .dataframe tbody tr th:only-of-type {\n",
              "        vertical-align: middle;\n",
              "    }\n",
              "\n",
              "    .dataframe tbody tr th {\n",
              "        vertical-align: top;\n",
              "    }\n",
              "\n",
              "    .dataframe thead th {\n",
              "        text-align: right;\n",
              "    }\n",
              "</style>\n",
              "<table border=\"1\" class=\"dataframe\">\n",
              "  <thead>\n",
              "    <tr style=\"text-align: right;\">\n",
              "      <th></th>\n",
              "      <th>Label</th>\n",
              "      <th>Message</th>\n",
              "    </tr>\n",
              "  </thead>\n",
              "  <tbody>\n",
              "    <tr>\n",
              "      <th>0</th>\n",
              "      <td>0</td>\n",
              "      <td>Go until jurong point, crazy.. Available only ...</td>\n",
              "    </tr>\n",
              "    <tr>\n",
              "      <th>1</th>\n",
              "      <td>0</td>\n",
              "      <td>Ok lar... Joking wif u oni...</td>\n",
              "    </tr>\n",
              "    <tr>\n",
              "      <th>2</th>\n",
              "      <td>1</td>\n",
              "      <td>Free entry in 2 a wkly comp to win FA Cup fina...</td>\n",
              "    </tr>\n",
              "    <tr>\n",
              "      <th>3</th>\n",
              "      <td>0</td>\n",
              "      <td>U dun say so early hor... U c already then say...</td>\n",
              "    </tr>\n",
              "    <tr>\n",
              "      <th>4</th>\n",
              "      <td>0</td>\n",
              "      <td>Nah I don't think he goes to usf, he lives aro...</td>\n",
              "    </tr>\n",
              "    <tr>\n",
              "      <th>...</th>\n",
              "      <td>...</td>\n",
              "      <td>...</td>\n",
              "    </tr>\n",
              "    <tr>\n",
              "      <th>5567</th>\n",
              "      <td>1</td>\n",
              "      <td>This is the 2nd time we have tried 2 contact u...</td>\n",
              "    </tr>\n",
              "    <tr>\n",
              "      <th>5568</th>\n",
              "      <td>0</td>\n",
              "      <td>Will ü b going to esplanade fr home?</td>\n",
              "    </tr>\n",
              "    <tr>\n",
              "      <th>5569</th>\n",
              "      <td>0</td>\n",
              "      <td>Pity, * was in mood for that. So...any other s...</td>\n",
              "    </tr>\n",
              "    <tr>\n",
              "      <th>5570</th>\n",
              "      <td>0</td>\n",
              "      <td>The guy did some bitching but I acted like i'd...</td>\n",
              "    </tr>\n",
              "    <tr>\n",
              "      <th>5571</th>\n",
              "      <td>0</td>\n",
              "      <td>Rofl. Its true to its name</td>\n",
              "    </tr>\n",
              "  </tbody>\n",
              "</table>\n",
              "<p>5572 rows × 2 columns</p>\n",
              "</div>"
            ],
            "text/plain": [
              "     Label                                            Message\n",
              "0        0  Go until jurong point, crazy.. Available only ...\n",
              "1        0                      Ok lar... Joking wif u oni...\n",
              "2        1  Free entry in 2 a wkly comp to win FA Cup fina...\n",
              "3        0  U dun say so early hor... U c already then say...\n",
              "4        0  Nah I don't think he goes to usf, he lives aro...\n",
              "...    ...                                                ...\n",
              "5567     1  This is the 2nd time we have tried 2 contact u...\n",
              "5568     0               Will ü b going to esplanade fr home?\n",
              "5569     0  Pity, * was in mood for that. So...any other s...\n",
              "5570     0  The guy did some bitching but I acted like i'd...\n",
              "5571     0                         Rofl. Its true to its name\n",
              "\n",
              "[5572 rows x 2 columns]"
            ]
          },
          "metadata": {
            "tags": []
          },
          "execution_count": 318
        }
      ]
    },
    {
      "cell_type": "markdown",
      "metadata": {
        "id": "-E3tSZAu7ULL",
        "colab_type": "text"
      },
      "source": [
        "**Stemming of data**"
      ]
    },
    {
      "cell_type": "code",
      "metadata": {
        "id": "--tBKTajnyDb",
        "colab_type": "code",
        "colab": {}
      },
      "source": [
        "ps = PorterStemmer() \n",
        "\n",
        "def stemming(sentence):\n",
        "  stem_words = []\n",
        "\n",
        "  for j in sentence.split():\n",
        "    stem_words.append(ps.stem(j))\n",
        "  \n",
        "  return stem_words"
      ],
      "execution_count": 319,
      "outputs": []
    },
    {
      "cell_type": "markdown",
      "metadata": {
        "id": "Zcj5YcXN7Gh4",
        "colab_type": "text"
      },
      "source": [
        "**Pre-Processing of data**"
      ]
    },
    {
      "cell_type": "code",
      "metadata": {
        "id": "Kq6kXfLmCcdg",
        "colab_type": "code",
        "colab": {}
      },
      "source": [
        "def pre_process(text):\n",
        "  preprocessed=[]\n",
        "\n",
        "  for sent in text:\n",
        "    sent = re.sub(r'[\\.•,;:?!@#=+$%^&*_~><\\-\\(\\)\\{\\}\\[\\]\\\"\\'\\|\\/]','',sent)        # to remove special chars from sentence\n",
        "    sent = re.sub(r'[\\d+]','',sent)                # to remove numbers from the sentence\n",
        "    sent = re.sub('\\n',' ',sent)\n",
        "    sent = sent.lower()               # lowercase\n",
        "    stemmed = stemming(sent)\n",
        "\n",
        "    preprocessed.append(sent)\n",
        "  return preprocessed"
      ],
      "execution_count": 320,
      "outputs": []
    },
    {
      "cell_type": "code",
      "metadata": {
        "id": "BlbvBRVkCvjl",
        "colab_type": "code",
        "colab": {
          "base_uri": "https://localhost:8080/",
          "height": 34
        },
        "outputId": "88d22747-4f5f-4b78-d36b-7e106a38bea4"
      },
      "source": [
        "clean_text = pre_process(X['Message'])\n",
        "print(type(clean_text))"
      ],
      "execution_count": 321,
      "outputs": [
        {
          "output_type": "stream",
          "text": [
            "<class 'list'>\n"
          ],
          "name": "stdout"
        }
      ]
    },
    {
      "cell_type": "code",
      "metadata": {
        "id": "7QMSzJJPDf5K",
        "colab_type": "code",
        "colab": {
          "base_uri": "https://localhost:8080/",
          "height": 1000
        },
        "outputId": "e7e478b6-6fdc-48fa-f3eb-f12641f30b55"
      },
      "source": [
        "clean_text"
      ],
      "execution_count": 322,
      "outputs": [
        {
          "output_type": "execute_result",
          "data": {
            "text/plain": [
              "['go until jurong point crazy available only in bugis n great world la e buffet cine there got amore wat',\n",
              " 'ok lar joking wif u oni',\n",
              " 'free entry in  a wkly comp to win fa cup final tkts st may  text fa to  to receive entry questionstd txt ratetcs apply overs',\n",
              " 'u dun say so early hor u c already then say',\n",
              " 'nah i dont think he goes to usf he lives around here though',\n",
              " 'freemsg hey there darling its been  weeks now and no word back id like some fun you up for it still tb ok xxx std chgs to send £ to rcv',\n",
              " 'even my brother is not like to speak with me they treat me like aids patent',\n",
              " 'as per your request melle melle oru minnaminunginte nurungu vettam has been set as your callertune for all callers press  to copy your friends callertune',\n",
              " 'winner as a valued network customer you have been selected to receivea £ prize reward to claim call  claim code kl valid  hours only',\n",
              " 'had your mobile  months or more u r entitled to update to the latest colour mobiles with camera for free call the mobile update co free on ',\n",
              " 'im gonna be home soon and i dont want to talk about this stuff anymore tonight k ive cried enough today',\n",
              " 'six chances to win cash from  to  pounds txt csh and send to  cost pday days  tsandcs apply reply hl  info',\n",
              " 'urgent you have won a  week free membership in our £ prize jackpot txt the word claim to no  tc wwwdbuknet lccltd pobox ldnwarw',\n",
              " 'ive been searching for the right words to thank you for this breather i promise i wont take your help for granted and will fulfil my promise you have been wonderful and a blessing at all times',\n",
              " 'i have a date on sunday with will',\n",
              " 'xxxmobilemovieclub to use your credit click the wap link in the next txt message or click here httpwap xxxmobilemovieclubcomnqjkgighjjgcbl',\n",
              " 'oh kim watching here',\n",
              " 'eh u remember how  spell his name yes i did he v naughty make until i v wet',\n",
              " 'fine if that\\x92s the way u feel that\\x92s the way its gota b',\n",
              " 'england v macedonia  dont miss the goalsteam news txt ur national team to  eg england to  trywales scotland txtú poboxoxwwq ',\n",
              " 'is that seriously how you spell his name',\n",
              " 'i‘m going to try for  months ha ha only joking',\n",
              " 'so ü pay first lar then when is da stock comin',\n",
              " 'aft i finish my lunch then i go str down lor ard  smth lor u finish ur lunch already',\n",
              " 'ffffffffff alright no way i can meet up with you sooner',\n",
              " 'just forced myself to eat a slice im really not hungry tho this sucks mark is getting worried he knows im sick when i turn down pizza lol',\n",
              " 'lol your always so convincing',\n",
              " 'did you catch the bus  are you frying an egg  did you make a tea are you eating your moms left over dinner  do you feel my love ',\n",
              " 'im back amp were packing the car now ill let you know if theres room',\n",
              " 'ahhh work i vaguely remember that what does it feel like lol',\n",
              " 'wait thats still not all that clear were you not sure about me being sarcastic or that thats why x doesnt want to live with us',\n",
              " 'yeah he got in at  and was v apologetic n had fallen out and she was actin like spoilt child and he got caught up in that till  but we wont go there not doing too badly cheers you',\n",
              " 'k tell me anything about you',\n",
              " 'for fear of fainting with the of all that housework you just did quick have a cuppa',\n",
              " 'thanks for your subscription to ringtone uk your mobile will be charged £month please confirm by replying yes or no if you reply no you will not be charged',\n",
              " 'yup ok i go home look at the timings then i msg ü again xuhui going to learn on nd may too but her lesson is at am',\n",
              " 'oops ill let you know when my roommates done',\n",
              " 'i see the letter b on my car',\n",
              " 'anything lor u decide',\n",
              " 'hello hows you and how did saturday go i was just texting to see if youd decided to do anything tomo not that im trying to invite myself or anything',\n",
              " 'pls go ahead with watts i just wanted to be sure do have a great weekend abiola',\n",
              " 'did i forget to tell you  i want you  i need you i crave you  but most of all  i love you my sweet arabian steed  mmmmmm  yummy',\n",
              " '  rodger burns  msg  we tried to call you re your reply to our sms for a free nokia mobile  free camcorder please call now  for delivery tomorrow',\n",
              " 'who are you seeing',\n",
              " 'great i hope you like your man well endowed i am  ltgt  inches',\n",
              " 'no callsmessagesmissed calls',\n",
              " 'didnt you get hep b immunisation in nigeria',\n",
              " 'fair enough anything going on',\n",
              " 'yeah hopefully if tyler cant do it i could maybe ask around a bit',\n",
              " 'u dont know how stubborn i am i didnt even want to go to the hospital i kept telling mark im not a weak sucker hospitals are for weak suckers',\n",
              " 'what you thinked about me first time you saw me in class',\n",
              " 'a gram usually runs like  ltgt  a half eighth is smarter though and gets you almost a whole second gram for  ltgt',\n",
              " 'k fyi x has a ride early tomorrow morning but hes crashing at our place tonight',\n",
              " 'wow i never realized that you were so embarassed by your accomodations i thought you liked it since i was doing the best i could and you always seemed so happy about the cave im sorry i didnt and dont have more to give im sorry i offered im sorry your room was so embarassing',\n",
              " 'sms ac sptv the new jersey devils and the detroit red wings play ice hockey correct or incorrect end reply end sptv',\n",
              " 'do you know what mallika sherawat did yesterday find out now   lturlgt',\n",
              " 'congrats  year special cinema pass for  is yours call  now c suprman v matrix starwars etc all  free bxipwe pm dont miss out',\n",
              " 'sorry ill call later in meeting',\n",
              " 'tell where you reached',\n",
              " 'yesgauti and sehwag out of odi series',\n",
              " 'your gonna have to pick up a  burger for yourself on your way home i cant even move pain is killing me',\n",
              " 'ha ha ha good joke girls are situation seekers',\n",
              " 'its a part of checking iq',\n",
              " 'sorry my roommates took forever it ok if i come by now',\n",
              " 'ok lar i double check wif da hair dresser already he said wun cut v short he said will cut until i look nice',\n",
              " 'as a valued customer i am pleased to advise you that following recent review of your mob no you are awarded with a £ bonus prize call ',\n",
              " 'today is song dedicated day which song will u dedicate for me send this to all ur valuable frnds but first rply me',\n",
              " 'urgent ur awarded a complimentary trip to eurodisinc trav acoentry or £ to claim txt dis to  £morefrmmob shracomorsglsuplt ls aj',\n",
              " 'did you hear about the new divorce barbie it comes with all of kens stuff',\n",
              " 'i plane to give on this month end',\n",
              " 'wah lucky man then can save money hee',\n",
              " 'finished class where are you',\n",
              " 'hi babe im at home now wanna do something xx',\n",
              " 'kkwhere are youhow did you performed',\n",
              " 'u can call me now',\n",
              " 'i am waiting machan call me once you free',\n",
              " 'thats cool i am a gentleman and will treat you with dignity and respect',\n",
              " 'i like you peoples very much but am very shy pa',\n",
              " 'does not operate after  ltgt  or what',\n",
              " 'its not the same here still looking for a job how much do tas earn there',\n",
              " 'sorry ill call later',\n",
              " 'k did you call me just now ah',\n",
              " 'ok i am on the way to home hi hi',\n",
              " 'you will be in the place of that man',\n",
              " 'yup next stop',\n",
              " 'i call you later dont have network if urgnt sms me',\n",
              " 'for real when u getting on yo i only need  more tickets and one more jacket and im done i already used all my multis',\n",
              " 'yes i started to send requests to make it but pain came back so im back in bed double coins at the factory too i gotta cash in all my nitros',\n",
              " 'im really not up to it still tonight babe',\n",
              " 'ela kanoil download come wen ur free',\n",
              " 'yeah do don‘t stand to close tho you‘ll catch something',\n",
              " 'sorry to be a pain is it ok if we meet another night i spent late afternoon in casualty and that means i havent done any of y stuffmoro and that includes all my time sheets and that sorry',\n",
              " 'smile in pleasure smile in pain smile when trouble pours like rain smile when sum hurts u smile becoz someone still loves to see u smiling',\n",
              " 'please call our customer service representative on    between ampm as you have won a guaranteed £ cash or £ prize',\n",
              " 'havent planning to buy later i check already lido only got  show in e afternoon u finish work already',\n",
              " 'your free ringtone is waiting to be collected simply text the password mix to  to verify get usher and britney fml po box  mk h ppw ',\n",
              " 'watching telugu moviewat abt u',\n",
              " 'i see when we finish we have loads of loans to pay',\n",
              " 'hi wk been ok  on hols now yes on for a bit of a run forgot that i have hairdressers appointment at four so need to get home n shower beforehand does that cause prob for u',\n",
              " 'i see a cup of coffee animation',\n",
              " 'please dont text me anymore i have nothing else to say',\n",
              " 'okay name ur price as long as its legal wen can i pick them up y u ave x ams xx',\n",
              " 'im still looking for a car to buy and have not gone the driving test yet',\n",
              " 'as per your request melle melle oru minnaminunginte nurungu vettam has been set as your callertune for all callers press  to copy your friends callertune',\n",
              " 'wow youre right i didnt mean to do that i guess once i gave up on boston men and changed my search location to nyc something changed cuz on my signin page it still says boston',\n",
              " 'umma my life and vava umma love you lot dear',\n",
              " 'thanks a lot for your wishes on my birthday thanks you for making my birthday truly memorable',\n",
              " 'aight ill hit you up when i get some cash',\n",
              " 'how would my ip address test that considering my computer isnt a minecraft server',\n",
              " 'i know grumpy old people my mom was like you better not be lying then again i am always the one to play jokes',\n",
              " 'dont worry i guess hes busy',\n",
              " 'what is the plural of the noun research',\n",
              " 'going for dinnermsg you after',\n",
              " 'im ok wif it cos i like  try new things but i scared u dun like mah cos u said not too loud',\n",
              " 'gent we are trying to contact you last weekends draw shows that you won a £ prize guaranteed call  claim code k valid hrs only ppm',\n",
              " 'wa ur openin sentence very formal anyway im fine too juz tt im eatin too much n puttin on weighthaha so anythin special happened',\n",
              " 'as i entered my cabin my pa said  happy bday boss  i felt special she askd me  lunch after lunch she invited me to her apartment we went there',\n",
              " 'you are a winner u have been specially selected  receive £ or a  holiday flights inc speak to a live operator  claim pmin ',\n",
              " 'goodo yes we must speak friday  eggpotato ratio for tortilla needed',\n",
              " 'hmmmy uncle just informed me that hes paying the school directly so pls buy food',\n",
              " 'private your  account statement for  shows  unredeemed bonus points to claim call  identifier code  expires',\n",
              " 'urgent your mobile no was awarded £ bonus caller prize on  this is our final try to contact u call from landline  boxwrc ppm',\n",
              " 'here is my new address applespairsall that malarky',\n",
              " 'todays voda numbers ending  are selected to receive a  award if you have a match please call  quoting claim code  standard rates app',\n",
              " 'i am going to sao mu today will be done only at ',\n",
              " 'ü predict wat time üll finish buying',\n",
              " 'good stuff will do',\n",
              " 'just so that you knowyetunde hasnt sent money yet i just sent her a text not to bother sending so its over you dont have to involve yourself in anything i shouldnt have imposed anything on you in the first place so for that i apologise',\n",
              " 'are you there in room',\n",
              " 'hey girl how r u hope u r well me an del r bak again long time no c give me a call sum time from lucyxx',\n",
              " 'kkhow much does it cost',\n",
              " 'im home',\n",
              " 'dear will call tmorrowpls accomodate',\n",
              " 'first answer my question',\n",
              " 'sunshine quiz wkly q win a top sony dvd player if u know which country the algarve is in txt ansr to  £ sptyrone',\n",
              " 'want  get laid tonight want real dogging locations sent direct  ur mob join the uks largest dogging network bt txting gravel to  nt eca pmsgp',\n",
              " 'i only haf msn its yijuehotmailcom',\n",
              " 'he is there you call and meet him',\n",
              " 'no no i will check all rooms befor activities',\n",
              " 'youll not rcv any more msgs from the chat svc for free hardcore services text go to  if u get nothing u must age verify with yr network  try again',\n",
              " 'got c i lazy to type i forgot ü in lect i saw a pouch but like not v nice',\n",
              " 'k text me when youre on the way',\n",
              " 'sir waiting for your mail',\n",
              " 'a swt thought nver get tired of doing little things  lovable persons cozsomtimes those little things occupy d biggest part in their hearts gud ni',\n",
              " 'i know you are can you pls open the back',\n",
              " 'yes see ya not on the dot',\n",
              " 'whats the staff name who is taking class for us',\n",
              " 'freemsg why havent you replied to my text im randy sexy female and live local luv to hear from u netcollex ltd p per msg reply stop to end',\n",
              " 'ummmawill call after check inour life will begin from qatar so pls pray very hard',\n",
              " 'ki deleted my contact that why',\n",
              " 'sindu got job in birla soft ',\n",
              " 'the wine is flowing and im i have nevering',\n",
              " 'yup i thk cine is better cos no need  go down  plaza mah',\n",
              " 'ok ur typical reply',\n",
              " 'as per your request melle melle oru minnaminunginte nurungu vettam has been set as your callertune for all callers press  to copy your friends callertune',\n",
              " 'you are everywhere dirt on the floor the windows even on my shirt and sometimes when i open my mouth you are all that comes flowing out i dream of my world without you then half my chores are out too a time of joy for me lots of tv shows ill see but i guess like all things you just must exist like rain hail and mist and when my time here is done you and i become one',\n",
              " 'aaooooright are you at work',\n",
              " 'im leaving my house now',\n",
              " 'hello my love what are you doing did you get to that interview today are you you happy are you being a good boy do you think of meare you missing me ',\n",
              " 'customer service annoncement you have a new years delivery waiting for you please call  now to arrange delivery',\n",
              " 'you are a winner u have been specially selected  receive £ cash or a  holiday flights inc speak to a live operator  claim ',\n",
              " 'keep yourself safe for me because i need you and i miss you already and i envy everyone that sees you in real life',\n",
              " 'new car and house for my parentsi have only new job in hand',\n",
              " 'im so in love with you im excited each day i spend with you you make me so happy',\n",
              " 'pls stop bootydelious f is inviting you to be her friend reply yes or no see her wwwsmsacubootydelious stop send stop frnd to ',\n",
              " 'bangbabes ur order is on the way u should receive a service msg  download ur content if u do not goto wap bangb tv on ur mobile internetservice menu',\n",
              " 'i place all ur points on e cultures module already',\n",
              " 'urgent we are trying to contact you last weekends draw shows that you have won a £ prize guaranteed call  claim code s valid hrs only',\n",
              " 'hi frnd which is best way to avoid missunderstding wit our beloved ones',\n",
              " 'great escape i fancy the bridge but needs her lager see you tomo',\n",
              " 'yes it completely in out of formclark also utter waste',\n",
              " 'sir i need axis bank account no and bank address',\n",
              " 'hmmm thk sure got time to hop ard ya can go  free abt muz call u to discuss liao',\n",
              " 'what time you coming down later',\n",
              " 'bloody hell cant believe you forgot my surname mr  ill give u a clue its spanish and begins with m',\n",
              " 'well im gonna finish my bath now have a goodfine night',\n",
              " 'let me know when youve got the money so carlos can make the call',\n",
              " 'u still going to the mall',\n",
              " 'turns out my friends are staying for the whole show and wont be back til  ltgt  so feel free to go ahead and smoke that  ltgt  worth',\n",
              " 'text her if she doesnt reply let me know so i can have her log in',\n",
              " 'hi you just spoke to maneesha v wed like to know if you were satisfied with the experience reply toll free with yes or no',\n",
              " 'you lifted my hopes with the offer of money i am in need especially when the end of the month approaches and it hurts my studying anyways have a gr weekend',\n",
              " 'lol no u can trust me',\n",
              " 'ok i am a gentleman and will treat you with dignity and respect',\n",
              " 'he will you guys close',\n",
              " 'going on nothing greatbye',\n",
              " 'hello handsome  are you finding that job  not being lazy  working towards getting back that net for mummy  wheres my boytoy now  does he miss me ',\n",
              " 'haha awesome be there in a minute',\n",
              " 'please call our customer service representative on freephone    between ampm as you have won a guaranteed £ cash or £ prize',\n",
              " 'have you got xmas radio times if not i will get it now',\n",
              " 'i jus reached home i go bathe first but my sis using net tell u when she finishes k',\n",
              " 'are you unique enough find out from th august wwwareyouuniquecouk',\n",
              " 'im sorry ive joined the league of people that dont keep in touch you mean a great deal to me you have been a friend at all times even at great personal cost do have a great week',\n",
              " 'hi finally i completed the course',\n",
              " 'it will stop on itself i however suggest she stays with someone that will be able to give ors for every stool',\n",
              " 'how are you doing hope youve settled in for the new school year just wishin you a gr day',\n",
              " 'gud mrng dear hav a nice day',\n",
              " 'did u got that persons story',\n",
              " 'is your hamster dead hey so tmr i meet you at pm orchard mrt',\n",
              " 'hi its kate how is your evening i hope i can see you tomorrow for a bit but i have to bloody babyjontet txt back if u can  xxx',\n",
              " 'found it enc  ltgt  where you at',\n",
              " 'i sent you  ltgt  bucks',\n",
              " 'hello darlin ive finished college now so txt me when u finish if u can love kate xxx',\n",
              " 'your account has been refilled successfully by inr  ltdecimalgt  your keralacircle prepaid account balance is rs  ltdecimalgt  your transaction id is kr ltgt ',\n",
              " 'goodmorning sleeping ga',\n",
              " 'u call me alter at  ok',\n",
              " 'ü say until like dat i dun buy ericsson oso cannot oredi lar',\n",
              " 'as i entered my cabin my pa said  happy bday boss  i felt special she askd me  lunch after lunch she invited me to her apartment we went there',\n",
              " 'aight yo dats straight dogg',\n",
              " 'you please give us connection today itself before  ltdecimalgt  or refund the bill',\n",
              " 'both  i shoot big loads so get ready',\n",
              " 'whats up bruv hope you had a great break do have a rewarding semester',\n",
              " 'home so we can always chat',\n",
              " 'kkgoodstudy well',\n",
              " 'yup how ü noe leh',\n",
              " 'sounds great are you home now',\n",
              " 'finally the match heading towards draw as your prediction',\n",
              " 'tired i havent slept well the past few nights',\n",
              " 'easy ahsen got selected means its good',\n",
              " 'i have to take exam with march ',\n",
              " 'yeah you should i think you can use your gt atm now to register not sure but if theres anyway i can help let me know but when you do be sure you are ready',\n",
              " 'ok no prob take ur time',\n",
              " 'there is os called ubandu which will run without installing in hard diskyou can use that os to copy the important files in system and give it to repair shop',\n",
              " 'sorry ill call later',\n",
              " 'u say leh of course nothing happen lar not say v romantic jus a bit only lor i thk e nite scenery not so nice leh',\n",
              " ' new mobiles from  must go txt nokia to no   collect yours todayfrom only £ wwwtcbiz optout gbpmtmsg',\n",
              " 'would really appreciate if you call me just need someone to talk to',\n",
              " 'will u meet ur dream partner soon is ur career off  a flyng start  find out free txt horo followed by ur star sign e g horo aries',\n",
              " 'hey company elama po mudyadhu',\n",
              " 'life is more strict than teacher bcoz teacher teaches lesson amp then conducts exam but life first conducts exam amp then teaches lessons happy morning  ',\n",
              " 'dear good morning now only i am up',\n",
              " 'get down in gandhipuram and walk to cross cut road right side ltgt street road and turn at first right',\n",
              " 'dear we are going to our rubber place',\n",
              " 'sorry battery died yeah im here',\n",
              " 'yeshere tv is always available in work place',\n",
              " 'text  meet someone sexy today u can find a date or even flirt its up to u join  just p reply with name  age eg sam   msg recdthirtyeight pence',\n",
              " 'i have printed it oh so  ltgt  come upstairs',\n",
              " 'or ill be a little closer like at the bus stop on the same street',\n",
              " 'where are youwhen wil you reach here',\n",
              " 'new theory argument wins d situation but loses the person so dont argue with ur friends just    kick them amp say im always correct',\n",
              " 'u  have a secret admirer who is looking  make contact with ufind out who they rreveal who thinks ur so specialcall on ',\n",
              " 'tomarrow final hearing on my laptop case so i cant',\n",
              " 'pleassssssseeeeee tel me v avent done sportsx',\n",
              " 'okay no no just shining on that was meant to be signing but that sounds better',\n",
              " 'although i told u dat im into baig face watches now but i really like e watch u gave cos its fr u thanx  everything dat uve done today im touched',\n",
              " 'u dont remember that old commercial',\n",
              " 'too late i said i have the website i didnt i have or dont have the slippers',\n",
              " 'i asked you to call him now ok',\n",
              " 'kallis wont bat in nd innings',\n",
              " 'it didnt work again oh ok goodnight then ill fix and have it ready by the time you wake up you are very dearly missed have a good night sleep',\n",
              " 'congratulations ur awarded  of cd vouchers or gift guaranteed  free entry   wkly draw txt music to  tncs wwwldewcomwinppmxage',\n",
              " 'ranjith cal drpd deeraj and deepak min hold',\n",
              " 'wen ur lovable bcums angry wid u dnt take it seriously coz being angry is d most childish n true way of showing deep affection care n luv kettoda manda have nice day da',\n",
              " 'what you doinghow are you',\n",
              " 'ups which is days also and the shipping company that takes wks the other way is usps which takes a week but when it gets to lag you may have to bribe nipost to get your stuff',\n",
              " 'im back lemme know when youre ready',\n",
              " 'dont necessarily expect it to be done before you get back though because im just now headin out',\n",
              " 'mmm so yummy babe  nice jolt to the suzy',\n",
              " 'where are you lover  i need you ',\n",
              " 'we tried to contact you re your reply to our offer of a video handset  anytime networks mins unlimited text camcorder reply or call  now',\n",
              " 'i‘m parked next to a mini when are you coming in today do you think',\n",
              " 'yup',\n",
              " 'anyway im going shopping on my own now cos my sis not done yet dun disturb u liao',\n",
              " 'my no in luton  ring me if ur around h',\n",
              " 'hey i am really horny want to chat or see me naked text hot to  text charged at pm to unsubscribe text stop ',\n",
              " 'why you dint come with us',\n",
              " 'same wana plan a trip sometme then',\n",
              " 'not sure yet still trying to get a hold of him',\n",
              " 'ur ringtone service has changed  free credits go to clubmobilescom to choose content now stop txt club stop to  pwk club po box mk wt',\n",
              " 'the evo i just had to download flash jealous',\n",
              " 'ringtone club get the uk singles chart on your mobile each week and choose any top quality ringtone this message is free of charge',\n",
              " 'come to mu were sorting out our narcotics situation',\n",
              " 'night has ended for another day morning has come in a special way may you smile like the sunny rays and leaves your worries at the blue blue bay',\n",
              " 'hmv bonus special  pounds of genuine hmv vouchers to be won just answer  easy questions play now send hmv to  more infowwwpercentrealcom',\n",
              " 'usf i guess might as well take  car',\n",
              " 'no objection my bf not coming',\n",
              " 'thanx',\n",
              " 'tell rob to mack his gf in the theater',\n",
              " 'awesome ill see you in a bit',\n",
              " 'just sent it so what type of food do you like',\n",
              " 'all done all handed in celebrations in full swing yet',\n",
              " 'you got called a tool',\n",
              " 'wen u miss someone the person is definitely special for u but if the person is so special why to miss them just keepintouch gdeve',\n",
              " 'ok i asked for money how far',\n",
              " 'okie',\n",
              " 'yeah i think my usual guys still passed out from last night if you get ahold of anybody let me know and ill throw down',\n",
              " 'k i might come by tonight then if my class lets out early',\n",
              " 'ok',\n",
              " 'hi baby im cruisin with my girl friend what r u up  give me a call in and hour at home if thats alright or fone me on this fone now love jenny xxx',\n",
              " 'my life means a lot to me not because i love my life but because i love the people in my life the world calls them friends i call them my world ge',\n",
              " 'dearshall mail tonitebusy in the streetshall update you tonitethings are looking okvarunnathu edukkukayee raksha ollubut a good one in real sense',\n",
              " 'hey you told your name to gautham ah',\n",
              " 'haf u found him i feel so stupid da v cam was working',\n",
              " 'oops  got that bit',\n",
              " 'are you this much buzy',\n",
              " 'i accidentally deleted the message resend please',\n",
              " 'tmobile customer you may now claim your free camera phone upgrade  a pay  go sim card for your loyalty call on   offer ends thfebtcs apply',\n",
              " 'unless its a situation where you go gurl would be more appropriate',\n",
              " 'hurt me tease me make me cry but in the end of my life when i die plz keep one rose on my grave and say stupid i miss u have a nice day bslvyl',\n",
              " 'i cant pick the phone right now pls send a message',\n",
              " 'need a coffee run tomocant believe its that time of week already',\n",
              " 'awesome i remember the last time we got somebody high for the first time with diesel v',\n",
              " 'shit that is really shocking and scary cant imagine for a second def up for night out do u think there is somewhere i could crash for night save on taxi',\n",
              " 'oh and by the way you do have more food in your fridge want to go out for a meal tonight',\n",
              " 'he is a womdarfull actor',\n",
              " 'sms ac blind date u rodds is m from aberdeen united kingdom check him out httpimg sms acwicmbcktzr no blind dates send hide',\n",
              " 'yup from what i remb i think should be can book',\n",
              " 'jos ask if u wana meet up',\n",
              " 'lol yes our friendship is hanging on a thread cause u wont buy stuff',\n",
              " 'themob check out our newest selection of content games tones gossip babes and sport keep your mobile fit and funky text wap to ',\n",
              " 'where are the garage keys they arent on the bookshelf',\n",
              " 'today is accept dayu accept me as brother sister lover dear best clos lvblefrnd jstfrnd cutefrnd lifpartnr belovd swtheart bstfrnd no rply means enemy',\n",
              " 'think ur smart  win £ this week in our weekly quiz text play to  nowtcs winnersclub po box  m uz  gbpweek',\n",
              " 'he says hell give me a call when his friends got the money but that hes definitely buying before the end of the week',\n",
              " 'hi the way i was with u day is the normal waythis is the real me ur uniquei hope i know u  the rest of mylife hope u find wot was lost',\n",
              " 'you made my day do have a great day too',\n",
              " 'kkadvance happy pongal',\n",
              " 'hmmm guess we can go  kb n power yoga haha dunno we can tahan power yoga anot thk got lo oso forgot liao',\n",
              " 'not really dude have no friends im afraid ',\n",
              " 'december only had your mobile mths you are entitled to update to the latest colour camera mobile for free call the mobile update co free on ',\n",
              " 'coffee cake i guess',\n",
              " 'merry christmas to you too babe i love ya kisses',\n",
              " 'hey why dont we just go watch x men and have lunch haha',\n",
              " 'cud u tell ppl im gona b a bit l cos  buses hav gon past cos they were full  im still waitin   pete x',\n",
              " 'that would be great well be at the guild could meet on bristol road or somewhere  will get in touch over weekend our plans take flight have a good week',\n",
              " 'no problem how are you doing',\n",
              " 'no callsmessagesmissed calls',\n",
              " 'hi dahow is the todays class',\n",
              " 'id say thats a good sign but well you know my track record at reading women',\n",
              " 'cool text me when youre parked',\n",
              " 'im reading the text i just sent you its meant to be a joke so read it in that light',\n",
              " 'kkapo kgood movie',\n",
              " 'maybe i could get book out tomo then return it immediately  or something',\n",
              " 'call germany for only  pence per minute call from a fixed line via access number     no prepayment direct access',\n",
              " 'any chance you might have had with me evaporated as soon as you violated my privacy by stealing my phone number from your employers paperwork not cool at all please do not contact me again or i will report you to your supervisor',\n",
              " 'valentines day special win over £ in our quiz and take your partner on the trip of a lifetime send go to  now pmsg rcvd custcare',\n",
              " 'tadaaaaa i am home babe are you still up ',\n",
              " 'cool so how come you havent been wined and dined before',\n",
              " 'just sleepingand surfing',\n",
              " 'sorry ill call later',\n",
              " 'u calling me right call my hand phone',\n",
              " 'ok thats great thanx a lot',\n",
              " 'i take it the post has come then you must have s of texts now happy reading my one from wiv hello caroline at the end is my favourite bless him',\n",
              " 'where u been hiding stranger',\n",
              " 'am not interested to do like that',\n",
              " 'my sister cleared two round in birla soft yesterday',\n",
              " 'gudnitetcpractice going on',\n",
              " 'dis is yijue i jus saw ur mail in case huiming havent sent u my num dis is my num',\n",
              " 'one small prestige problem now',\n",
              " 'fancy a shag i dointerested sextextukcom txt xxuk suzy to  txts cost  per msg tncs on website x',\n",
              " 'just checking in on you really do miss seeing jeremiah do have a great month',\n",
              " 'nah cant help you there ive never had an iphone',\n",
              " 'if youre not in my car in an hour and a half im going apeshit',\n",
              " 'today is sorry day if ever i was angry with you if ever i misbehaved or hurt you plz plz just slap urself bcoz its ur fault im basically good',\n",
              " 'yo you guys ever figure out how much we need for alcohol jay and i are trying to figure out how much we can safely spend on weed',\n",
              " 'ltgt ish minutes was  minutes ago wtf',\n",
              " 'thank you for callingforgot to say happy onam to you sirjii am fine here and remembered you when i met an insurance personmeet you in qatar insha allahrakhesh ex tata aig who joined tisscotayseer',\n",
              " 'congratulations ur awarded  of cd vouchers or gift guaranteed  free entry   wkly draw txt music to  tncs wwwldewcomwinppmxage',\n",
              " 'ur cashbalance is currently  pounds  to maximize ur cashin now send cash to  only pmsg cc  hgsuitelands rowwjhl',\n",
              " 'im an actor when i work i work in the evening and sleep late since im unemployed at the moment i always sleep late when youre unemployed every day is saturday',\n",
              " 'hello just got here st andrewsboy its a long way its cold i will keep you posted',\n",
              " 'ha ha cool cool chikku chikkudb',\n",
              " 'oh ok no prob',\n",
              " 'check audreys status right now',\n",
              " 'busy here trying to finish for new year i am looking forward to finally meeting you',\n",
              " 'good afternoon sunshine how dawns that day  are we refreshed and happy to be alive do we breathe in the air and smile  i think of you my love  as always',\n",
              " 'well i know z will take care of me so no worries',\n",
              " 'updatenow  xmas offer latest motorola sonyericsson  nokia  free bluetooth double mins   txt on orange call mobileupd on  or calloptoutfq',\n",
              " 'here is your discount code rp to stop further messages reply stop wwwregalportfoliocouk customer services ',\n",
              " 'wat uniform in where get',\n",
              " 'cool text me when youre ready',\n",
              " 'hello my boytoy  geeee i miss you already and i just woke up i wish you were here in bed with me cuddling me i love you ',\n",
              " 'i will spoil you in bed as well ',\n",
              " 'im going for bath will msg you next  ltgt  min',\n",
              " 'i cant keep talking to people if am not sure i can pay them if they agree to price so pls tell me what you want to really buy and how much you are willing to pay',\n",
              " 'thanks for your ringtone order reference t you will be charged gbp  per week you can unsubscribe at anytime by calling customer services on ',\n",
              " 'can you say what happen',\n",
              " 'you could have seen mei didt recognise you face',\n",
              " 'well theres not a lot of things happening in lindsay on new years sighs some bars in ptbo and the blue heron has something going',\n",
              " 'keep my payasam there if rinu brings',\n",
              " 'i taught that ranjith sir called me so only i sms like that becaus hes verifying about project prabu told today so only pa dont mistake me',\n",
              " 'i guess thats why you re worried you must know that theres a way the body repairs itself and im quite sure you shouldnt worry well take it slow first the tests they will guide when your ovulation is then just relax nothing youve said is a reason to worry but ill keep on followin you up',\n",
              " 'yeah sure give me a couple minutes to track down my wallet',\n",
              " 'hey leave it not a big deal take care',\n",
              " 'hey i will be late ah meet you at ',\n",
              " 'double mins and txts  months free bluetooth on orange available on sony nokia motorola phones call mobileupd on  or calloptoutndx',\n",
              " 'it took mr owl  licks',\n",
              " 'customer place i will call you',\n",
              " 'mm that time you dont like fun',\n",
              " 'mths half price orange line rental  latest camera phones  free had your phone mths  call mobilesdirect free on  to update now orstoptxt',\n",
              " 'yup having my lunch buffet now u eat already',\n",
              " 'huh so late fr dinner',\n",
              " 'hey so this sat are we going for the intro pilates only or the kickboxing too',\n",
              " 'morning only i can ok',\n",
              " 'yes i think so i am in office but my lap is in room i think thats on for the last few days i didnt shut that down',\n",
              " 'pick you up bout ish what time are  and that going',\n",
              " 'from here after the performance award is calculated every two monthnot for current one month period',\n",
              " 'was actually sleeping and still might when u call back so a text is gr you rock sis will send u a text wen i wake',\n",
              " 'you are always putting your business out there you put pictures of your ass on facebook you are one of the most open people ive ever met why would i think a picture of your room would hurt you make you feel violated',\n",
              " 'good evening sir al salam wahleykkumsharing a happy newsby the grace of god i got an offer from tayseertissco and i joinedhope you are fineinshah allahmeet you sometimerakheshvisitor from india',\n",
              " 'hmmmkbut i want to change the field quickly dai wanna get system administrator or network administrator',\n",
              " 'free ringtone text first to  for a poly or text get to  for a true tone help    after st free tones are x£pw to e£nd txt stop',\n",
              " 'dear how is chechi did you talk to her',\n",
              " 'the hair cream has not been shipped',\n",
              " 'none of thats happening til you get here though',\n",
              " 'yep the great loxahatchee xmas tree burning of  ltgt  starts in an hour',\n",
              " 'haha get used to driving to usf man i know a lot of stoners',\n",
              " 'all was well until slightly disastrous class this pm with my fav darlings hope day off ok coffee wld be good as cant stay late tomorrow same time  place as always',\n",
              " 'hello good week fancy a drink or something later',\n",
              " 'headin towards busetop',\n",
              " 'messagesome text missing sendername missing number missing sentdate missing missing u a lot thats y everything is missing sent via fullonsmscom',\n",
              " 'come by our room at some point so we can iron out the plan for this weekend',\n",
              " 'cos i want it to be your thing',\n",
              " 'okies ill go yan jiu too we can skip ard oso go cine den go mrt one blah blah blah',\n",
              " 'bring home some wendy d',\n",
              " ' dating service call  boxskch',\n",
              " 'whatsup there dont u want to sleep',\n",
              " 'alright i have a new goal now',\n",
              " 'free entry into our £ weekly competition just text the word win to  now  tc wwwtxttowincouk',\n",
              " 'alright ill head out in a few minutes text me where to meet you',\n",
              " 'send a logo  ur lover   names joined by a heart txt love name name mobno eg love adam eve  to  yahoo poboxwwq txtno  no ads p',\n",
              " 'yesfrom last week itself im taking live call',\n",
              " 'someone has contacted our dating service and entered your phone because they fancy you to find out who it is call from a landline   poboxntfp',\n",
              " 'siva is in hostel aha',\n",
              " 'urgent your mobile number has been awarded with a £ prize guaranteed call  from land line claim  valid hrs only',\n",
              " 'send this to ur friends and receive something about ur voice how is my speaking expression childish naughty sentiment rowdy ful of attitude romantic shy attractive funny  ltgt irritating  ltgt lovable reply me',\n",
              " 'ok shell be ok i guess',\n",
              " 'aathiwhere are you dear',\n",
              " 'any pain on urination any thing else',\n",
              " ' at esplanade do ü mind giving me a lift cos i got no car today',\n",
              " 'i wnt to buy a bmw car urgentlyits vry urgentbut hv a shortage of  ltgt lacsthere is no source to arng dis amt ltgt lacsthats my prob',\n",
              " 'at home watching tv lor',\n",
              " 'does she usually take fifteen fucking minutes to respond to a yes or no question',\n",
              " 'congrats nokia  video camera phone is your call  calls cost ppm ave call mins vary from mobiles  close  post bcm ldn wcnxx',\n",
              " 'booked ticket for pongal',\n",
              " 'you available now im like right around hillsborough amp  ltgt th',\n",
              " 'the message sent is askin for  ltgt dollars shoul i pay  ltgt  or  ltgt ',\n",
              " 'ask g or iouri ive told the story like ten times already',\n",
              " 'how long does applebees fucking take',\n",
              " 'hi hope u get this txtjourney hasnt been gdnow about  mins late i think',\n",
              " 'but i have to i like to have love and arrange',\n",
              " 'yeshe is really greatbhaji told kallis best cricketer after sachin in worldvery tough to get out',\n",
              " 'you were supposed to wake me up gt',\n",
              " 'oic i saw him too but i tot he din c me i found a group liao',\n",
              " 'sorry ill call later',\n",
              " 'hey hey werethe monkeespeople say we monkeyaround howdy gorgeous howu doin foundurself a jobyet sausagelove jen xxx',\n",
              " 'sorry my battery died i can come by but im only getting a gram for now wheres your place',\n",
              " 'well done blimey exercise yeah i kinda remember wot that is hmm',\n",
              " 'i wont get concentration dear you know you are my mind and everything ',\n",
              " 'lol  have you made plans for new years',\n",
              " ' min later k',\n",
              " 'hanks lotsly',\n",
              " 'thanks for this hope you had a good day today',\n",
              " 'kkwhat are detail you want to transferacc no enough',\n",
              " 'ok i will tell her to stay out yeah its been tough but we are optimistic things will improve this month',\n",
              " 'loan for any purpose £  £ homeowners  tenants welcome have you been previously refused we can still help call free   or text back help',\n",
              " 'si si i think ill go make those oreo truffles',\n",
              " 'look at amy ure a beautiful intelligent woman and i like u a lot i know u don\\x92t like me like that so don\\x92t worry',\n",
              " 'i hope you thats the result of being consistently intelligent and kind start asking him about practicum links and keep your ears open and all the best ttyl',\n",
              " ' that call cost which i guess isnt bad miss ya need ya want ya love ya',\n",
              " 'going thru a very different feelingwavering decisions and coping up with the same is the same individualtime will heal everything i believe',\n",
              " 'where did u go my phone is gonna die you have to stay in here',\n",
              " 'great never been better each day gives even more reasons to thank god',\n",
              " 'upgrdcentre orange customer you may now claim your free camera phone upgrade for your loyalty call now on    offer ends th july tcs apply optout available',\n",
              " 'sorry ill call later ok bye',\n",
              " 'ok i am on the way to railway',\n",
              " 'great princess i love giving and receiving oral doggy style is my fave position how about you i enjoy making love  ltgt  times per night ',\n",
              " 'they dont put that stuff on the roads to keep it from getting slippery over there',\n",
              " 'when are you going to ride your bike',\n",
              " 'yup no need ill jus wait  e rain  stop',\n",
              " 'there are many company tell me the language',\n",
              " 'okmail dear dave this is your final notice to collect your  tenerife holiday or  cash award call  from landline tcs sae box cwwx ppm',\n",
              " 'how long has it been since you screamed princess',\n",
              " 'nothing i meant that once the money enters your account here the bank will remove its flat rate someone transfered  ltgt  to my account and  ltgt dollars got removed so the banks differ and charges also differbe sure you trust the ja person you are sending account details to cos',\n",
              " 'want  get laid tonight want real dogging locations sent direct  ur mob join the uks largest dogging network by txting moan to nyt eca pmsgp',\n",
              " 'nice line said by a broken heart plz dont cum  more times infront of me other wise once again i ll trust u good t',\n",
              " 'ok im gonna head up to usf in like fifteen minutes',\n",
              " 'love you aathilove u lot',\n",
              " 'tension ahwhat machiany problem',\n",
              " 'k can i pick up another th when youre done',\n",
              " 'whenre you guys getting back g said you were thinking about not staying for mcr',\n",
              " 'almost there see u in a sec',\n",
              " 'yo carlos a few friends are already asking me about you you working at all this weekend',\n",
              " 'watching tv lor',\n",
              " 'thank you baby i cant wait to taste the real thing',\n",
              " 'you should change your fb to jaykwon thuglyfe falconerf',\n",
              " 'if we win its really no  side for long time',\n",
              " 'free message activate your  free text messages by replying to this message with the word free for terms  conditions visit wwwcom',\n",
              " 'dear reached railway what happen to you',\n",
              " 'depends on quality if you want the type i sent boye faded glory then about  if you want ralphs maybe ',\n",
              " 'i think ive fixed it can you send a test message',\n",
              " 'sorry man my accounts dry or i would if you want we could trade back half or i could buy some shit with my credit card',\n",
              " 'congrats  year special cinema pass for  is yours call  now c suprman v matrix starwars etc all  free bxipwe pm dont miss out',\n",
              " 'sorryin meeting ill call later',\n",
              " 'what class of  ltgt  reunion',\n",
              " 'are you free nowcan i call now',\n",
              " 'got meh when',\n",
              " 'nope think i will go for it on monday sorry i replied so late',\n",
              " 'some of them told accenture is not confirm is it true',\n",
              " 'kate jackson rec center before ish right',\n",
              " 'dear i have reache room',\n",
              " 'fighting with the world is easy u either win or lose bt fightng with some who is close to u is dificult if u lose  u lose if u win  u still lose',\n",
              " 'when can ü come out',\n",
              " 'check with nuerologist',\n",
              " 'lolnice i went from a fish to water',\n",
              " 'error',\n",
              " 'no its waiting in e car dats bored wat cos wait outside got nothing  do at home can do my stuff or watch tv wat',\n",
              " 'maybe westshore or hyde park village the place near my house',\n",
              " 'you should know now so hows anthony are you bringing money ive school fees to pay and rent and stuff like that thats why i need your help a friend in need',\n",
              " 'whats the significance',\n",
              " 'your opinion about me  over  jada  kusruthi  lovable  silent  spl character  not matured  stylish  simple pls reply',\n",
              " ' at the latest gs still there if you can scrounge up some ammo and want to give the new ak a try',\n",
              " 'prabhaim sorydarealyfrm heart im sory',\n",
              " 'lol ok your forgiven ',\n",
              " 'nojst change tat only',\n",
              " 'you are guaranteed the latest nokia phone a gb ipod mp player or a £ prize txt word collect to no  ibhltd ldnwh pmtmsgrcvd',\n",
              " 'sno competition for him',\n",
              " 'boltblue tones for p reply poly or mono eg poly  cha cha slide  yeah  slow jamz  toxic  come with me or stop  more tones txt more',\n",
              " 'your credits have been topped up for httpwwwbubbletextcom your renewal pin is tgxxrz',\n",
              " 'that way transport is less problematic than on sat night by the way if u want to ask  n  to join my bday feel free but need to know definite nos as booking on fri',\n",
              " 'usually the person is unconscious thats in children but in adults they may just behave abnormally ill call you now',\n",
              " 'but thats on ebay it might be less elsewhere',\n",
              " 'shall i come to get pickle',\n",
              " 'were gonna go get some tacos',\n",
              " 'thats very rude you on campus',\n",
              " 'urgent your mobile no was awarded a £ bonus caller prize on  this is our nd attempt to contact you call  boxqu',\n",
              " 'hi i wont b ard  christmas but do enjoy n merry xmas',\n",
              " 'todays offer claim ur £ worth of discount vouchers text yes to  now savamob member offers mobile t cs  £ sub   unsub reply x',\n",
              " 'yes how is a pretty lady like you single',\n",
              " 'you will recieve your tone within the next hrs for terms and conditions please see channel u teletext pg ',\n",
              " 'jay says that youre a doublefaggot',\n",
              " 'private your  account statement for  shows  unredeemed sim points call  identifier code  expires ',\n",
              " 'what todaysundaysunday is holidayso no work',\n",
              " 'gudnitetcpractice going on',\n",
              " 'ill be late',\n",
              " 'ive not called you in a while this is hoping it was lr malaria and that you know that we miss you guys i miss bani big so pls give her my love especially have a great day',\n",
              " 'good afternoon my love how goes that day  i hope maybe you got some leads on a job i think of you boytoy and send you a passionate kiss from across the sea',\n",
              " 'probably gonna be here for a while see you later tonight lt',\n",
              " 'or maybe my fat fingers just press all these buttons and it doesnt know what to do',\n",
              " 'ummmmmaah many many happy returns of d day my dear sweet heart happy birthday dear',\n",
              " 'i am in tirupur da once you started from office call me',\n",
              " 'from wwwapplausestorecom monthlysubscriptionpmsg maxmonth tcsc web age stop txt stop',\n",
              " 'a famous quote  when you develop the ability to listen to anything unconditionally without losing your temper or self confidence it means you are  married',\n",
              " 'but am going to college pa what to do are else ill come there it self pa',\n",
              " ' oclock at mine just to bash out a flat plan',\n",
              " 'this girl does not stay in bed this girl doesnt need recovery time id rather pass out while having fun then be cooped up in bed',\n",
              " 'then any special there',\n",
              " 'i know but you need to get hotel now i just got my invitation but i had to apologise cali is to sweet for me to come to some english blokes weddin',\n",
              " 'sorry that took so long omw now',\n",
              " 'wait  ltgt  min',\n",
              " 'ok give me  minutes i think i see her btw youre my alibi you were cutting my hair the whole time',\n",
              " 'imagine you finally get to sink into that bath after i have put you through your paces maybe even having you eat me for a while before i left  but also imagine the feel of that cage on your cock surrounded by the bath water reminding you always who owns you  enjoy my cuck',\n",
              " 'hurry up ive been weeddeficient for like three days',\n",
              " 'sure if i get an acknowledgement from you that its astoundingly tactless and generally faggy to demand a blood oath fo',\n",
              " 'ok every night take a warm bath drink a cup of milk and youll see a work of magic you still need to loose weight just so that you know',\n",
              " 'i‘ll have a look at the frying pan in case it‘s cheap or a book perhaps no that‘s silly a frying pan isn‘t likely to be a book',\n",
              " 'o well uv causes mutations sunscreen is like essential thesedays',\n",
              " 'having lunchyou are not in onlinewhy',\n",
              " 'i know that my friend already told that',\n",
              " 'hi princess thank you for the pics you are very pretty how are you',\n",
              " 'aiyo u always c our ex one i dunno abt mei she haven reply first time u reply so fast y so lucky not workin huh got bao by ur sugardad ahgee',\n",
              " 'hi msg meim in office',\n",
              " 'thanx  e brownie its v nice',\n",
              " 'geeeee  i love you so much i can barely stand it',\n",
              " 'gent we are trying to contact you last weekends draw shows that you won a £ prize guaranteed call  claim code k valid hrs only ppm',\n",
              " 'fuck babe  i miss you already you know  cant you let me send you some money towards your net  i need you  i want you  i crave you ',\n",
              " 'ill call u mrw at ninish with my address that icky american freek wont stop callin me  bad jen k eh',\n",
              " 'oooh bed ridden ey what are you thinking of',\n",
              " 'so anyways you can just go to your gym or whatever my love smiles i hope your ok and having a good day babe  i miss you so much already',\n",
              " 'love it daddy will make you scream with pleasure i am going to slap your ass with my dick',\n",
              " 'wot u wanna do then missy',\n",
              " 'yar lor wait  my mum  finish sch then have lunch lor i whole morning stay at home clean my room now my room quite clean hee',\n",
              " 'do you know where my lab goggles went',\n",
              " 'can you open the door',\n",
              " 'waiting for your call',\n",
              " 'nope i waiting in sch  daddy',\n",
              " 'you have won  cash or a  prize to claim call',\n",
              " 'im tired of arguing with you about this week after week do what you want and from now on ill do the same',\n",
              " 'ü wait  me in sch i finish ard ',\n",
              " 'our mobile number has won £ to claim calls us back or ring the claims hot line on ',\n",
              " 'arngd marriage is while u r walkin unfortuntly a snake bites u bt love marriage is dancing in frnt of d snake amp sayin bite me bite me',\n",
              " 'huh so early then ü having dinner outside izzit',\n",
              " 'ok anyway no need to change with what you said',\n",
              " 'we tried to contact you re your reply to our offer of  mins  textand a new video phone call  now or reply for free delivery tomorrow',\n",
              " 'my exwife was not able to have kids do you want kids one day',\n",
              " 'so hows scotland hope you are not over showing your jjc tendencies take care live the dream',\n",
              " 'tell them u have a headache and just want to use  hour of sick time',\n",
              " 'i dun thk ill quit yet hmmm can go jazz  yogasana oso can we can go meet em after our lessons den',\n",
              " 'pete can you please ring meive hardly gotany credit',\n",
              " 'ya srsly better than yi tho',\n",
              " 'im in a meeting call me later at',\n",
              " 'for ur chance to win a £ wkly shopping spree txt shop to  tscs wwwtxtshopcom custcare  xpwk',\n",
              " 'you have been specially selected to receive a  pound award call  before the lines close cost ppm  tcs apply ag promo',\n",
              " 'private your  account statement for  shows  unredeemed s i m points call  identifier code  expires ',\n",
              " 'you still at grand prix',\n",
              " 'i met you as a stranger and choose you as my friend as long as the world stands our friendship never ends lets be friends forever gud nitz',\n",
              " 'i am great how are you',\n",
              " 'gud mrng dear have a nice day',\n",
              " 'you have an important customer service announcement call freephone    now',\n",
              " 'will do was exhausted on train this morning too much wine and pie you sleep well too',\n",
              " 'im going out to buy mums present ar',\n",
              " 'mind blastin no more tsunamis will occur from now on rajnikant stopped swimming in indian oceand',\n",
              " 'if u sending her home first its ok lor im not ready yet',\n",
              " 'speaking of does he have any cash yet',\n",
              " 'be happy there i will come after noon',\n",
              " 'meet after lunch la',\n",
              " 'take care n get well soon',\n",
              " 'xclusiveclubsaisai morow  soiree speciale zouk with nichols from parisfree roses  all ladies  info ',\n",
              " 'what i meant to say is cant wait to see u again getting bored of this bridgwater banter',\n",
              " 'neva mind its ok',\n",
              " 'its fine imma get a drink or somethin want me to come find you',\n",
              " ' days to kick off for euro u will be kept up to date with the latest news and results daily to be removed send get txt stop to ',\n",
              " 'its a valentine game   send dis msg to all ur friends  if  answers r d same then someone really loves u ques which colour suits me the bestrply me',\n",
              " 'i have many dependents',\n",
              " 'thanx today cer it was nice  catch up but we ave  find more time more often oh well take care c u soonc',\n",
              " 'i called and said all to himthen he have to choose this future',\n",
              " 'happy valentines day i know its early but i have hundreds of handsomes and beauties to wish so i thought to finish off aunties and uncles st',\n",
              " 'he like not v shock leh cos telling shuhui is like telling leona also like dat almost all know liao he got ask me abt ur reaction lor',\n",
              " 'for my family happiness',\n",
              " 'i come n pick ü up come out immediately aft ur lesson',\n",
              " 'let there be snow let there be snow this kind of weather brings ppl together so friendships can grow',\n",
              " 'dear we got  ltgt  dollars hi hi',\n",
              " 'good words but words may leave u in dismay many times',\n",
              " 'make sure alex knows his birthday is over in fifteen minutes as far as youre concerned',\n",
              " 'sorry no have got few things to do may be in pub later',\n",
              " 'nah its straight if you can just bring bud or drinks or something thats actually a little more useful than straight cash',\n",
              " 'haha good to hear im officially paid and on the market for an th',\n",
              " 'how many licks does it take to get to the center of a tootsie pop',\n",
              " 'yup i thk they r e teacher said that will make my face look longer darren ask me not  cut too short',\n",
              " 'new textbuddy chat  horny guys in ur area  just p free  receive search postcode or at gaytextbuddycom txt one name to ',\n",
              " 'todays vodafone numbers ending with  are selected to a receive a £ award if your number matches call  to receive your £ award',\n",
              " 'please dont say like that hi hi hi',\n",
              " 'thank u',\n",
              " 'oh that was a forwarded message i thought you send that to me',\n",
              " 'got it seventeen pounds for seven hundred ml – hope ok',\n",
              " 'dear voucher holder  claim this weeks offer at your pc go to httpwwwetlpcoukexpressoffer tscs apply stop texts txt stop to ',\n",
              " 'me n him so funny',\n",
              " 'sweetheart hope you are not having that kind of day have one with loads of reasons to smile biola',\n",
              " 'when ü login dat time dad fetching ü home now',\n",
              " 'what will we do in the shower baby',\n",
              " 'i had askd u a question some hours before its answer',\n",
              " 'well imma definitely need to restock before thanksgiving ill let you know when im out',\n",
              " 'said kiss kiss i cant do the sound effects he is a gorgeous man isnt he kind of person who needs a smile to brighten his day',\n",
              " 'probably gonna swing by in a wee bit',\n",
              " 'ya very nice  be ready on thursday',\n",
              " 'allo we have braved the buses and taken on the trains and triumphed i mean we‘re in b‘ham have a jolly good rest of week',\n",
              " 'watching cartoon listening music amp at eve had to go temple amp church what about u',\n",
              " 'do you mind if i ask what happened you dont have to say if it is uncomfortable',\n",
              " 'private your  account statement for shows  unredeemed s i m points call  identifier code  expires ',\n",
              " 'no prob i will send to your email',\n",
              " 'you have won  cash or a  prize to claim call tc rstm sw ss ppm',\n",
              " 'thats cool sometimes slow and gentle sonetimes rough and hard ',\n",
              " 'im gonna say no sorry i would but as normal am starting to panic about time sorry again are you seeing on tuesday',\n",
              " 'wait do you know if wesleys in town i bet she does hella drugs',\n",
              " 'fine i miss you very much',\n",
              " 'did u got that persons story',\n",
              " 'tell them the drug dealers getting impatient',\n",
              " 'sun cant come to earth but send luv as rays cloud cant come to river but send luv as rain i cant come to meet u but can send my care as msg to u gud evng',\n",
              " 'you will be in the place of that man',\n",
              " 'it doesnt make sense to take it there unless its free if you need to know more wikipediacom',\n",
              " ' and  are premium phone services call ',\n",
              " 'under the sea there lays a rock in the rock there is an envelope in the envelope there is a paper on the paper there are  words ',\n",
              " 'then mums repent how',\n",
              " 'sorry me going home first daddy come fetch ü later',\n",
              " 'leave it de start prepare for next',\n",
              " 'yes baby we can study all the positions of the kama sutra ',\n",
              " 'en chikku nange bakra msg kalstiyathen had teacoffee',\n",
              " 'carlosll be here in a minute if you still need to buy',\n",
              " 'this pay is  ltdecimalgt  lakhs',\n",
              " 'have a good evening ttyl',\n",
              " 'did u receive my msg',\n",
              " 'ho ho  big belly laugh see ya tomo',\n",
              " 'sms ac sun posts helloyou seem cool wanted to say hi hi stop send stop to ',\n",
              " 'get ur st ringtone free now reply to this msg with tone gr top  tones to your phone every week just £ per wk  opt out send stop  ',\n",
              " 'ditto and you wont have to worry about me saying anything to you anymore like i said last night you do whatever you want and ill do the same peace',\n",
              " 'ive got  ltgt  any way i could pick up',\n",
              " 'i dont knw pa i just drink milk',\n",
              " 'maybe say hi to  and find out if  got his card great escape or wetherspoons',\n",
              " 'piggy r u awake i bet ure still sleeping im going  lunch now',\n",
              " 'cause im not freaky lol',\n",
              " 'missed your call cause i was yelling at scrappy miss u cant wait for u to come home im so lonely today',\n",
              " 'what is this hex place you talk of explain',\n",
              " 'ü log off  wat its sdrybi',\n",
              " 'is xy going  e lunch',\n",
              " 'hi im sue i am  years old and work as a lapdancer i love sex text me live  im i my bedroom now text sue to  by textoperator g da ppmsg ',\n",
              " 'i wanted to ask ü to wait  me to finish lect cos my lect finishes in an hour anyway',\n",
              " 'have you finished work yet ',\n",
              " 'every king was once a crying baby and every great building was once a map not imprtant where u r today but where u wil reach tomorw gud ni',\n",
              " 'dearme at cherthalain case u r coming cochin pls call bfore u starti shall also reach accordinglyor tell me which day u r comingtmorow i am engaged ans its holiday',\n",
              " 'thanks love but am i doing torch or bold',\n",
              " 'forwarded from please call  immediately as there is an urgent message waiting for you',\n",
              " 'was the farm open',\n",
              " 'sorry to trouble u again can buy d for my dad again    all  big  small sat n sun thanx',\n",
              " 'my sister in law hope you are having a great month just saying hey abiola',\n",
              " 'will purchase d stuff today and mail to you do you have a po box number',\n",
              " 'ah poop looks like ill prob have to send in my laptop to get fixed cuz it has a gpu problem',\n",
              " 'good good job i like entrepreneurs',\n",
              " 'aight you close by or still down around alexs place',\n",
              " 'meet you in corporation st outside gap … you can see how my mind is working',\n",
              " 'mum ask ü to buy food home',\n",
              " 'ku also dont msg or reply to his msg',\n",
              " 'how much r ü willing to pay',\n",
              " 'sorry ill call later',\n",
              " 'what is important is that you prevent dehydration by giving her enough fluids',\n",
              " 'thats a bit weird even  where is the do supposed to be happening but good idea sure they will be in pub',\n",
              " 'true deari sat to pray evening and felt soso i smsd you in some time',\n",
              " 'i dont think i can get away for a trek that long with family in town sorry',\n",
              " 'so when do you wanna gym harri',\n",
              " 'quite late lar ard  anyway i wun b drivin',\n",
              " 'to review and keep the fantastic nokia ngage game deck with club nokia go  wwwcnupdatescomnewsletter unsubscribe from alerts reply with the word out',\n",
              " 'mths half price orange line rental  latest camera phones  free had your phone mths call mobilesdirect free on  to update now orstoptxt tcs',\n",
              " 'height of confidence all the aeronautics professors wer calld amp they wer askd  sit in an aeroplane aftr they sat they wer told dat the plane ws made by their students dey all hurried out of d plane bt only  didnt move he saidif it is made by my studentsthis wont even start datz confidence',\n",
              " 'it just seems like weird timing that the night that all you and g want is for me to come smoke is the same day as when a shitstorm is attributed to me always coming over and making everyone smoke',\n",
              " ' between ampm cost p',\n",
              " 'save yourself the stress if the person has a dorm account just send your account details and the money will be sent to you',\n",
              " 'he also knows about lunch menu only da  i know',\n",
              " 'when i have stuff to sell ill tell you',\n",
              " 'error',\n",
              " 'book which lesson then you msg me i will call up after work or sth im going to get specs my membership is px',\n",
              " 'you have won a guaranteed £ cash or a £ prize to claim yr prize call our customer service representative on  between ampm',\n",
              " 'macha dont feel upseti can assume your mindsetbelieve me one evening with me and i have some wonderful plans for both of uslet life begin againcall me anytime',\n",
              " 'oh is it send me the address',\n",
              " 'sfine anytime all the best with it',\n",
              " 'that is wondar full flim',\n",
              " 'ya even those cookies have jelly on them',\n",
              " 'the world is running and i am stillmaybe all are feeling the sameso be itor i have to admiti am madthen where is the correctionor let me call this is lifeand keep running with the worldmay be u r also runninglets run',\n",
              " 'got it it looks scrumptious daddy wants to eat you all night long',\n",
              " 'of cos can lar im not so ba dao ok  pm lor y u never ask where we go ah i said u would ask on fri but he said u will ask today',\n",
              " 'alright omw gotta change my order to a halfth',\n",
              " 'exactly anyways how far is jide her to study or just visiting',\n",
              " 'dunno y u ask me',\n",
              " 'email alertfrom jeri stewartsize kbsubject lowcost prescripiton drvgsto listen to email call ',\n",
              " 'no he didnt spring is coming early yay',\n",
              " 'lol you wont feel bad when i use her money to take you out to a steak dinner d',\n",
              " 'even u dont get in trouble while convincingjust tel him once or twice and just tel neglect his msgs dont c and read itjust dont reply',\n",
              " 'leaving to qatar tonite in search of an opportunityall went fastpls add me in ur prayers dearrakhesh',\n",
              " 'then why no one talking to me',\n",
              " 'thanks for looking out for me i really appreciate',\n",
              " 'hi customer loyalty offerthe new nokia mobile from only £ at txtauction txt word start to no   get yours now tctxt tc pmtmsg',\n",
              " 'wish i were with you now',\n",
              " 'haha mayb ure rite u know me well da feeling of being liked by someone is gd lor u faster go find one then all gals in our group attached liao',\n",
              " 'yes i will be there glad you made it',\n",
              " 'do well all will for little time thing of good times ahead',\n",
              " 'just got up have to be out of the room very soon … i hadnt put the clocks back til at  i shouted at everyone to get up and then realised it was  wahay another hour in bed',\n",
              " 'ok there may be a free gym about',\n",
              " 'men like shorter ladies gaze up into his eyes',\n",
              " 'dunno he jus say go lido same time ',\n",
              " 'i promise to take good care of you princess i have to run now please send pics when you get a chance ttyl',\n",
              " 'u are subscribed to the best mobile content service in the uk for £ per  days until you send stop to  helpline ',\n",
              " 'is there a reason weve not spoken this year anyways have a great week and all the best in your exam',\n",
              " 'by monday next week give me the full gist',\n",
              " 'do you realize that in about  years well have thousands of old ladies running around with tattoos',\n",
              " 'you have an important customer service announcement from premier',\n",
              " 'dont gimme that lip caveboy',\n",
              " 'when did you get to the library',\n",
              " 'realy sorryi dont recognise this number and am now confused  who r u please',\n",
              " 'so why didnt you holla',\n",
              " 'cant think of anyone with  spare room off  top of my head',\n",
              " 'faith makes things possiblehope makes things worklove makes things beautifulmay you have all three this christmasmerry christmas',\n",
              " 'u should have made an appointment',\n",
              " 'call me when youcarlos isare here my phones vibrate is acting up and i might not hear texts',\n",
              " 'romantic paris  nights  flights from £ book now  next year call tscs apply',\n",
              " 'we are at grandmas oh dear u still ill i felt shit this morning but i think i am just hungover another night then we leave on sat',\n",
              " 'urgent ur £ guaranteed award is still unclaimed call  now closingdate claimcode mm £pmmorefrommobilebremovedmobypoboxlsyf',\n",
              " 'nothing but we jus tot u would ask cos u ba gua but we went mt faber yest yest jus went out already mah so today not going out jus call lor',\n",
              " 'wishing you and your family merry x mas and happy new year in advance',\n",
              " 'ur awarded a city break and could win a £ summer shopping spree every wk txt store to   skilgme tscswinawkage £perwksub',\n",
              " 'im nt goin got somethin on unless they meetin  dinner lor haha i wonder who will go tis time',\n",
              " 'sorry ill call later',\n",
              " 'i cant pick the phone right now pls send a message',\n",
              " 'lol i know theyre so dramatic schools already closed for tomorrow apparently we cant drive in the inch of snow were supposed to get',\n",
              " 'not getting anywhere with this damn job hunting over here',\n",
              " 'lol u drunkard just doing my hair at d moment yeah still up  tonight wats the plan',\n",
              " 'idc get over here you are not weaseling your way out of this shit twice in a row',\n",
              " 'i wil be there with in  ltgt  minutes got any space',\n",
              " 'just sleepingand surfing',\n",
              " 'thanks for picking up the trash',\n",
              " 'why dont you go tell your friend youre not sure you want to live with him because he smokes too much then spend hours begging him to come smoke',\n",
              " 'hi its kate it was lovely to see you tonight and ill phone you tomorrow i got to sing and a guy gave me his card xxx',\n",
              " 'happy new year my dear brother i really do miss you just got your number and decided to send you this text wishing you only happiness abiola',\n",
              " 'that means get the door',\n",
              " 'your opinion about me  over  jada  kusruthi  lovable  silent  spl character  not matured  stylish  simple pls reply',\n",
              " 'hmmm  i thought we said  hours slave not   you are late  how should i punish you ',\n",
              " 'beerage',\n",
              " 'you have an important customer service announcement from premier call freephone    now',\n",
              " 'dont think so it turns off like randomlly within min of opening',\n",
              " 'she was supposed to be but couldnt make it shes still in town though',\n",
              " 'it does it on its own most of the time it fixes my spelling but sometimes it gets a completely diff word go figure',\n",
              " 'ever thought about living a good life with a perfect partner just txt back name and age to join the mobile community psms',\n",
              " ' free top polyphonic tones call  national rate get a toppoly tune sent every week just text subpoly to  £ per pole unsub ',\n",
              " 'gud mrng dear hav a nice day',\n",
              " 'this is hoping you enjoyed your game yesterday sorry ive not been in touch but pls know that you are fondly bein thot off have a great week abiola',\n",
              " 'all e best  ur driving tmr ',\n",
              " 'ywhere u at dogbreath its just sounding like jan c that\\x92s al',\n",
              " 'omg i want to scream i weighed myself and i lost more weight woohoo',\n",
              " 'there generally isnt one its an uncountable noun  u in the dictionary pieces of research',\n",
              " 'its really getting me down just hanging around',\n",
              " 'orange customer you may now claim your free camera phone upgrade for your loyalty call now on    offer ends thmarch tcs apply optout availa',\n",
              " 'petey boy whereare you me and all your friendsare in thekingshead come down if you canlove nic',\n",
              " 'ok i msg u b i leave my house',\n",
              " 'gimme a few was  ltgt  minutes ago',\n",
              " 'last chance claim ur £ worth of discount vouchers today text shop to  now savamob offers mobile t cs savamob pobox muz £ sub ',\n",
              " 'appt is at lttimegt am not my fault u dont listen i told u twice',\n",
              " 'free for st week no nokia tone  ur mobile every week just txt nokia to  get txting and tell ur mates wwwgetzedcouk pobox  wwq  normptone',\n",
              " 'you have won a guaranteed £ award or even £ cashto claim ur award call free on    stop getstop on  php rg jx',\n",
              " 'k ill be there before ',\n",
              " 'i dled d its very imp',\n",
              " 'sure but make sure he knows we aint smokin yet',\n",
              " 'boooo you always work just quit',\n",
              " 'i am taking half day leave bec i am not well',\n",
              " 'ugh i dont wanna get out of bed its so warm',\n",
              " 'ssnervous  ltgt ',\n",
              " 'so theres a ring that comes with the guys costumes its there so they can gift their future yowifes hint hint',\n",
              " 'congratulations ur awarded either £ of cd gift vouchers  free entry  our £ weekly draw txt music to  tncs wwwldewcomwinppmxage',\n",
              " 'i borrow ur bag ok',\n",
              " 'u were outbid by simonwatson on the shinco dvd plyr  bid again visit sms acsmsrewards  end bid notifications reply end out',\n",
              " 'wheres my boytoy i miss you  what happened',\n",
              " 'he has lots of used ones babe but the model doesnt help youi have to bring it over and hell match it up',\n",
              " 'also are you bringing galileo or dobby',\n",
              " 'then why you not responding',\n",
              " 'boo babe u enjoyin yourjob u seemed  b gettin on well hunnyhope ure oktake care  i\\x92llspeak u soonlots of loveme xxxx',\n",
              " 'good afternoon starshine hows my boytoy does he crave me yet ache to fuck me  sips cappuccino i miss you babe teasing kiss',\n",
              " 'on the road so cant txt',\n",
              " 'smsservices for yourinclusive text credits pls goto wwwcomuknet login qxj unsubscribe with stop no extra charge help comuk cm ae',\n",
              " 'p  alfie moons children in need song on ur mob tell ur ms txt tone charity to  for nokias or poly charity for polys zed  profit  charity',\n",
              " 'have a good evening ttyl',\n",
              " 'hmm  bits and pieces lol  sighs ',\n",
              " 'hahahause your brain dear',\n",
              " 'hey you got any mail',\n",
              " 'sorry light turned green i meant another friend wanted  ltgt  worth but he may not be around',\n",
              " 'thanks for yesterday sir you have been wonderful hope you enjoyed the burial mojibiola',\n",
              " 'u have a secret admirer reveal who thinks u r so special call  to opt out reply reveal stop  per msg recd cust care ',\n",
              " 'hi mate its rv did u hav a nice hol just a message  say hello coz haven\\x92t sent u  in ages started driving so stay off roadsrvx',\n",
              " 'dear voucher holder to claim this weeks offer at you pc please go to httpwwwetlpcoukexpressoffer tscs apply to stop texts txt stop to ',\n",
              " 'thank you so much when we skyped wit kz and sura we didnt get the pleasure of your company hope you are good weve given you ultimatum oh we are countin down to aburo enjoy this is the message i sent days ago',\n",
              " 'surely result will offer',\n",
              " 'good morning my dear have a great amp successful day',\n",
              " 'do you want  anytime any network mins  text and a new video phone for only five pounds per week call  or reply for delivery tomorrow',\n",
              " 'sir i have been late in paying rent for the past few months and had to pay a  ltgt  charge i felt it would be inconsiderate of me to nag about something you give at great cost to yourself and thats why i didnt speak up i however am in a recession and wont be able to pay the charge this month hence my askin well ahead of months end can you please help thanks',\n",
              " 'we tried to contact you re our offer of new video phone  anytime any network mins half price rental camcorder call  or reply for delivery wed',\n",
              " 'last chance  claim ur £ worth of discount voucherstext yes to  nowsavamobmember offers mobile t cs  £ sub   remove txt x or stop',\n",
              " 'i luv u soo much u don\\x92t understand how special u r  me ring u morrow luv u xxx',\n",
              " 'pls send me a comprehensive mail about who im paying when and how much',\n",
              " 'our prashanthettans mother passed away last night pray for her and family',\n",
              " 'urgent call  from your landline your complimentary  ibiza holiday or  cash await collection sae tcs po box  sk wp  ppm ',\n",
              " 'kkwhen are you going',\n",
              " 'meanwhile in the shit suite xavier decided to give us  ltgt  seconds of warning that samantha was coming over and is playing jays guitar to impress her or some shit also i dont think doug realizes i dont live here anymore',\n",
              " 'my stomach has been thru so much trauma i swear i just cant eat i better lose weight',\n",
              " 'i am in officewhats the mattermsg me nowi will call you at break',\n",
              " 'yeah theres barely enough room for the two of us x has too many fucking shoes sorry man see you later',\n",
              " 'todays offer claim ur £ worth of discount vouchers text yes to  now savamob member offers mobile t cs  £ sub   unsub reply x',\n",
              " 'u reach orchard already u wan  go buy tickets first',\n",
              " 'i am real baby i want to bring out your inner tigress',\n",
              " 'no da if you run that it activate the full version da',\n",
              " 'ah poor babyhope urfeeling bettersn luv probthat overdose of work hey go careful spk  u sn lots of lovejen xxx',\n",
              " 'stop the story ive told him ive returned it and hes saying i should not re order it',\n",
              " 'talk sexy make new friends or fall in love in the worlds most discreet text dating service just text vip to  and see who you could meet',\n",
              " 'going to take your babe out ',\n",
              " 'hai ana tomarrow am coming on morning  ltdecimalgt  ill be there in sathy then we ll go to rto office reply me after came to home',\n",
              " 'spoons it is then okay',\n",
              " 'did he just say somebody is named tampa',\n",
              " 'in work now going have in few min',\n",
              " 'your brother is a genius',\n",
              " 'sorry i guess whenever i can get a hold of my connections maybe an hour or two ill text you',\n",
              " 'did u find out what time the bus is at coz i need to sort some stuff out',\n",
              " 'dude ive been seeing a lotta corvettes lately',\n",
              " 'congratulations ur awarded either a yrs supply of cds from virgin records or a mystery gift guaranteed call  tscs wwwsmsconet £pm approx mins',\n",
              " 'same here but i consider walls and bunkers and shit important just because i never play on peaceful but i guess your place is high enough that it dont matter',\n",
              " 'private your  account statement for  xxxxxx shows  unredeemed s i m points call  identifier code  expires ',\n",
              " 'hello we need some posh birds and chaps to user trial prods for champneys can i put you down i need your address and dob asap ta r',\n",
              " 'what do u want for xmas how about  free text messages  a new video phone with half price line rental call free now on   to find out more',\n",
              " 'well am officially in a philosophical hole so if u wanna call am at home ready to be saved',\n",
              " 'its going goodno problembut still need little experience to understand american customer voice',\n",
              " 'ill text you when i drop x off',\n",
              " 'ugh its been a long day im exhausted just want to cuddle up and take a nap',\n",
              " 'talk with yourself atleast once in a day otherwise you will miss your best friend in this world shakespeare shesil  ltgt',\n",
              " 'shop till u drop is it you either k k £ cash or £ travel voucher call now  ntt po box crbt fixedline cost ppm mobile vary',\n",
              " 'are you in castor you need to see something',\n",
              " 'sunshine quiz wkly q win a top sony dvd player if u know which country liverpool played in mid week txt ansr to  £ sptyrone',\n",
              " 'u have a secret admirer who is looking  make contact with ufind out who they rreveal who thinks ur so specialcall on ',\n",
              " 'u have a secret admirer who is looking  make contact with ufind out who they rreveal who thinks ur so specialcall on stopsms',\n",
              " 'reminder you have not downloaded the content you have already paid for goto httpdoit mymoby tv to collect your content',\n",
              " 'see i knew giving you a break a few times woul lead to you always wanting to miss curfew i was gonna gibe you til one but a midnight movie is not gonna get out til after  you need to come home you need to getsleep and if anything you need to b studdying ear training',\n",
              " 'i love to give massages i use lots of baby oil what is your fave position',\n",
              " 'dude we should go sup again',\n",
              " 'yoyyooo u know how to change permissions for a drive in mac my usb flash drive',\n",
              " 'gibbs unsoldmike hussey',\n",
              " 'i like to talk pa but am not able to i dont know y',\n",
              " 'y dun cut too short leh u dun like ah she failed shes quite sad',\n",
              " 'you unbelievable faglord',\n",
              " 'wifehow she knew the time of murder exactly',\n",
              " 'why do you ask princess',\n",
              " 'i am great princess what are you thinking about me ',\n",
              " 'nutter cutter ctter cttergg cttargg ctargg ctagg ie you',\n",
              " 'its ok i noe ure busy but im really too bored so i msg u i oso dunno wat colour she choose  me one',\n",
              " 'doesnt g have class early tomorrow and thus shouldnt be trying to smoke at  ltgt',\n",
              " 'superb thought be grateful that u dont have everything u want that means u still have an opportunity to be happier tomorrow than u are today',\n",
              " 'hope you are having a good week just checking in',\n",
              " 'im used to it i just hope my agents dont drop me since ive only booked a few things this year this whole me in boston them in nyc was an experiment',\n",
              " 'thursday night yeah sure thing well work it out then',\n",
              " 'your free ringtone is waiting to be collected simply text the password mix to  to verify get usher and britney fml po box  mk h ppw ',\n",
              " 'probably money worries things are coming due and i have several outstanding invoices for work i did two and three months ago',\n",
              " 'how is it possible to teach you and where',\n",
              " 'i wonder if your phone battery went dead  i had to tell you i love you babe',\n",
              " 'lovely smell on this bus and it aint tobacco',\n",
              " 'were all getting worried over here derek and taylor have already assumed the worst',\n",
              " 'hey whats up charles sorry about the late reply',\n",
              " 'all the lastest from stereophonics marley dizzee racal libertines and the strokes win nookii games with flirt click themob wap bookmark or text wap to ',\n",
              " 'ill give her once i have it plus she said grinule greet you whenever we speak',\n",
              " 'white fudge oreos are in stores',\n",
              " 'january male sale hot gay chat now cheaper call  national rate from pmin cheap to pmin peak to stop texts call  pmin',\n",
              " 'my love  how come it took you so long to leave for zahers i got your words on ym and was happy to see them but was sad you had left i miss you',\n",
              " 'i am sorry it hurt you',\n",
              " 'cant i feel nauseous im so pissed i didnt eat any sweets all week cause today i was planning to pig out i was dieting all week and now im not hungry ',\n",
              " 'ok lor but not too early me still having project meeting now',\n",
              " 'call me da i am waiting for your call',\n",
              " 'i could ask carlos if we could get more if anybody else can chip in',\n",
              " 'was actually about to send you a reminder today have a wonderful weekend',\n",
              " 'when people see my msgs they think iam addicted to msging they are wrong bcoz they don\\\\t know that iam addicted to my sweet friends bslvyl',\n",
              " 'hey you gave them your photo when you registered for driving ah tmr wanna meet at yck',\n",
              " 'dont talk to him ever ok its my word',\n",
              " 'when u wana see it then',\n",
              " 'on ma way to school can you pls send me ashleys number',\n",
              " 'it shall be fine i have avalarr now will hollalater',\n",
              " 'she went to attend another two rounds todaybut still didt reach home',\n",
              " 'actually i deleted my old websitenow i m blogging at magicalsongsblogspotcom',\n",
              " 'k wait chikkuil send aftr  ltgt mins',\n",
              " 'but im on a diet and i ate  too many slices of pizza yesterday ugh im always on a diet',\n",
              " 'ki will give my kvb acc details',\n",
              " 'oh all have to come ah',\n",
              " 'money you r a lucky winner   claim your prize text money   over £million to give away  pptxnormal text rate box wtjy',\n",
              " 'im really sorry i wont b able  do this fridayhope u can find an alternativehope yr terms going ok',\n",
              " 'congratulations ore mo owo re wa enjoy it and i wish you many happy moments to and fro wherever you go',\n",
              " 'so do you have samus shoulders yet',\n",
              " 'what time you think youll have it need to know when i should be near campus',\n",
              " 'dear matthew please call  from a landline your complimentary lux tenerife holiday or £ cash await collection ppm sae tcs box skxh',\n",
              " 'then dun wear jeans lor',\n",
              " 'since when which side any fever any vomitin',\n",
              " 'kkare you in college',\n",
              " 'urgent call  from landline your complimentary  tenerife holiday or £ cash await collection sae tcs box  hp yf ppm ',\n",
              " 'better made up for friday and stuffed myself like a pig yesterday now i feel bleh but at least its not writhing pain kind of bleh',\n",
              " 'no we sell it all so well have tons if coins then sell our coins to someone thru paypal voila money back in life pockets',\n",
              " 'theyre doing it to lots of places only hospitals and medical places are safe',\n",
              " 'how about getting in touch with folks waiting for company just txt back your name and age to opt in enjoy the community psms',\n",
              " 'and also ive sorta blown him off a couple times recently so id rather not text him out of the blue looking for weed',\n",
              " 'i sent my scores to sophas and i had to do secondary application for a few schools i think if you are thinking of applying do a research on cost also contact joke ogunrinde her school is one me the less expensive ones',\n",
              " 'i cant wait to see you how were the photos were useful ',\n",
              " 'ur cashbalance is currently  pounds  to maximize ur cashin now send go to  only pmsg cc  po box  tcrw',\n",
              " 'hey i booked the kb on sat already what other lessons are we going for ah keep your sat night free we need to meet and confirm our lodging',\n",
              " 'chk in ur belovd ms dict',\n",
              " 'is that what time you want me to come',\n",
              " 'awesome lemme know whenever youre around',\n",
              " 'shb b ok lor thanx',\n",
              " 'beautiful truth against gravity read carefully our heart feels light when someone is in it but it feels very heavy when someone leaves it good night',\n",
              " 'also remember to get dobbys bowl from your car',\n",
              " 'filthy stories and girls waiting for your',\n",
              " 'sorry i now then c ur msg yar lor so poor thing but only  one night tmr ull have a brand new room  sleep in',\n",
              " 'love isnt a decision its a feeling if we could decide who to love then life would be much simpler but then less magical',\n",
              " 'welp apparently he retired',\n",
              " 'my sort code is  and acc no is  the bank is natwest can you reply to confirm ive sent this to the right person',\n",
              " 'where ',\n",
              " 'u sure u cant take any sick time',\n",
              " 'urgent we are trying to contact u todays draw shows that you have won a £ prize guaranteed call  from land line claim m validhrs only',\n",
              " 'watching cartoon listening music amp at eve had to go temple amp church what about u',\n",
              " 'yo chad which gymnastics class do you wanna take the site says christians class is full',\n",
              " 'are you this much buzy',\n",
              " 'or better still can you catch her and let ask her if she can sell  ltgt  for me',\n",
              " 'i am not sure about night menu   i know only about noon menu',\n",
              " 'what do u want when i come backa beautiful necklace as a token of my heart for youthats what i will give but only to my wife of my likingbe that and seeno one can give you thatdont call mei will wait till i come',\n",
              " 'are you willing to go for aptitude class',\n",
              " 'it wont b until  as trying  sort house out is that ok',\n",
              " 'yar lor he wan  go c horse racing today mah so eat earlier lor i ate chicken rice u',\n",
              " 'haha awesome omw back now then',\n",
              " 'yup i thk so until e shop closes lor',\n",
              " 'what is your account number',\n",
              " 'eh u send wrongly lar',\n",
              " 'hey no i ad a crap nite was borin without ya  boggy with me u boring biatch thanx but u wait til nxt time il ave ya',\n",
              " 'ok i shall talk to him',\n",
              " 'dont hesitate you know this is the second time she has had weakness like that so keep i notebook of what she eat and did the day before or if anything changed the day before so that we can be sure its nothing',\n",
              " 'hey you can pay with salary de only  ltgt ',\n",
              " 'another month i need chocolate weed and alcohol',\n",
              " 'if he started searching he will get job in few dayshe have great potential and talent',\n",
              " 'reckon need to be in town by eightish to walk from  carpark',\n",
              " 'congrats  mobile g videophones r yours call  now videochat wid your mates play java games dload polyph music noline rentl',\n",
              " 'look at the fuckin time what the fuck you think is up',\n",
              " 'yo guess what i just dropped',\n",
              " 'carlos says hell be at mu in  ltgt  minutes',\n",
              " 'im in office now  i will call you  ltgt  min',\n",
              " 'geeee  i miss you already you know  your all i can think about fuck i cant wait till next year when we will be together  loving kiss',\n",
              " 'yun ahthe ubi one say if ü wan call by tomorrowcall  look for ireneere only got bus ubi cresubi tech parkph for st wkg daysèn',\n",
              " 'ugh gotta drive back to sd from la my butt is sore',\n",
              " 'th of july',\n",
              " 'hi im having the most relaxing time ever we have to get up at am every day was the party good the other night i get home tomorrow at ish',\n",
              " 'up to ü ü wan come then come lor but i din c any stripes skirt',\n",
              " 'the xmas story is peace the xmas msg is love the xmas miracle is jesus hav a blessed month ahead amp wish u merry xmas',\n",
              " 'i cant i dont have her number',\n",
              " 'change again its e one next to escalator',\n",
              " 'yetunde im in class can you not run water on it to make it ok pls now',\n",
              " 'not a lot has happened here feels very quiet beth is at her aunts and charlie is working lots just me and helen in at the mo how have you been',\n",
              " 'then ü wait  me at bus stop aft ur lect lar if i dun c ü then i go get my car then come back n pick ü',\n",
              " ...]"
            ]
          },
          "metadata": {
            "tags": []
          },
          "execution_count": 322
        }
      ]
    },
    {
      "cell_type": "markdown",
      "metadata": {
        "id": "60jMS_Jj8ogf",
        "colab_type": "text"
      },
      "source": [
        "**Creating tf-idf Vectors**"
      ]
    },
    {
      "cell_type": "markdown",
      "metadata": {
        "id": "PmAasLXGHuh9",
        "colab_type": "text"
      },
      "source": [
        "*Removing stop words along with tf-idf vectors*"
      ]
    },
    {
      "cell_type": "code",
      "metadata": {
        "id": "7QRKawJX8uEq",
        "colab_type": "code",
        "colab": {}
      },
      "source": [
        "from sklearn.feature_extraction import text\n",
        "stop_words = text.ENGLISH_STOP_WORDS\n",
        "vectorizer = TfidfVectorizer(ngram_range=(1,1),stop_words=stop_words)\n",
        "\n",
        "feature_matrix = vectorizer.fit_transform(clean_text)"
      ],
      "execution_count": 343,
      "outputs": []
    },
    {
      "cell_type": "code",
      "metadata": {
        "id": "mvldvWkz-XDY",
        "colab_type": "code",
        "colab": {
          "base_uri": "https://localhost:8080/",
          "height": 34
        },
        "outputId": "2474b5a8-7854-479e-c30d-402b9bd7e7a0"
      },
      "source": [
        "feature_matrix.shape"
      ],
      "execution_count": 344,
      "outputs": [
        {
          "output_type": "execute_result",
          "data": {
            "text/plain": [
              "(5572, 8341)"
            ]
          },
          "metadata": {
            "tags": []
          },
          "execution_count": 344
        }
      ]
    },
    {
      "cell_type": "code",
      "metadata": {
        "id": "FN5lmaY3-DJE",
        "colab_type": "code",
        "colab": {
          "base_uri": "https://localhost:8080/",
          "height": 54
        },
        "outputId": "e9e21ffe-b007-4727-f406-db130c214920"
      },
      "source": [
        "print(vectorizer.get_feature_names())"
      ],
      "execution_count": 345,
      "outputs": [
        {
          "output_type": "stream",
          "text": [
            "['aa', 'aah', 'aaniye', 'aaooooright', 'aathilove', 'aathiwhere', 'ab', 'abbey', 'abdomen', 'abeg', 'abelu', 'aberdeen', 'abi', 'ability', 'abiola', 'abj', 'able', 'abnormally', 'aboutas', 'abroad', 'absence', 'absolutely', 'abstract', 'abt', 'abta', 'aburo', 'abuse', 'abusers', 'ac', 'academic', 'acc', 'accent', 'accenture', 'accept', 'access', 'accessible', 'accidant', 'accident', 'accidentally', 'accommodation', 'accommodationvouchers', 'accomodate', 'accomodations', 'accordin', 'accordingly', 'accordinglyor', 'account', 'accounting', 'accounts', 'accumulation', 'achanammarakheshqatar', 'ache', 'achieve', 'acid', 'acknowledgement', 'aclpm', 'acnt', 'acoentry', 'acsmsrewards', 'act', 'acted', 'actin', 'acting', 'action', 'activ', 'activate', 'active', 'activities', 'actor', 'actual', 'actually', 'acwicmbcktzr', 'ad', 'adam', 'add', 'addamsfa', 'added', 'addicted', 'addie', 'adding', 'address', 'addressull', 'adds', 'adewale', 'adi', 'adjustable', 'admin', 'administrator', 'admirer', 'admission', 'admit', 'admiti', 'adore', 'adoring', 'adp', 'adress', 'adrian', 'adrink', 'ads', 'adsense', 'adult', 'adults', 'advance', 'adventure', 'adventuring', 'advice', 'advise', 'advising', 'advisors', 'ae', 'aeronautics', 'aeroplane', 'afew', 'affair', 'affairs', 'affection', 'affectionate', 'affectionsamp', 'affidavit', 'afford', 'afghanistan', 'afraid', 'africa', 'african', 'aft', 'afternon', 'afternoon', 'afternoons', 'aftr', 'ag', 'againcall', 'againloving', 'agalla', 'age', 'agency', 'agent', 'agents', 'ageppermesssubscription', 'ages', 'agesring', 'agidhane', 'aging', 'ago', 'agocusoon', 'agree', 'agreen', 'ah', 'aha', 'ahead', 'ahgee', 'ahhh', 'ahhhhjust', 'ahmad', 'ahnow', 'ahold', 'ahsen', 'ahthe', 'ahwhat', 'aid', 'aids', 'aig', 'aight', 'aint', 'air', 'airport', 'airtel', 'aiya', 'aiyah', 'aiyar', 'aiyo', 'aj', 'ajith', 'ak', 'aka', 'akonlonely', 'al', 'alaikkumpride', 'alaipayuthe', 'albi', 'album', 'albumquite', 'alcohol', 'aldrine', 'alert', 'alertfrom', 'alerts', 'aletter', 'alex', 'alexs', 'alfie', 'algarve', 'algebra', 'algorithms', 'ali', 'alian', 'alibi', 'alive', 'alivebetter', 'allah', 'allahmeet', 'allahrakhesh', 'allalo', 'allday', 'alle', 'allo', 'allow', 'allowed', 'allows', 'alls', 'alot', 'alreadysabarish', 'alright', 'alrightokay', 'alrite', 'alritehave', 'alsoor', 'alter', 'alternativehope', 'alwa', 'alwys', 'amanda', 'amazing', 'ambitious', 'ambrithmaduraimet', 'american', 'ami', 'amigos', 'amk', 'ammaelife', 'ammo', 'amnow', 'amore', 'amp', 'amplikater', 'ampm', 'amrca', 'amrita', 'ams', 'amt', 'amused', 'amx', 'amy', 'ana', 'anal', 'analysis', 'anand', 'anderson', 'andor', 'andre', 'andres', 'andrewsboy', 'andros', 'anetworks', 'angels', 'angry', 'animal', 'animation', 'anjie', 'anjolas', 'anna', 'annie', 'anniversary', 'annoncement', 'announced', 'announcement', 'annoyin', 'annoying', 'anonymous', 'anot', 'ans', 'ansr', 'answer', 'answered', 'answerin', 'answering', 'answers', 'answr', 'antelope', 'anthony', 'anti', 'antibiotic', 'anybody', 'anybodys', 'anymore', 'anyones', 'anyplaces', 'anythiing', 'anythin', 'anythings', 'anythingtomorrow', 'anytime', 'anyways', 'aom', 'apart', 'apartment', 'apes', 'apeshit', 'aphex', 'apnt', 'apo', 'apologetic', 'apologise', 'apologize', 'apology', 'app', 'apparently', 'appeal', 'appear', 'appendix', 'applebees', 'appledayno', 'applespairsall', 'application', 'apply', 'applyed', 'applying', 'appointment', 'appointments', 'appreciate', 'appreciated', 'approaches', 'approaching', 'appropriate', 'approve', 'approved', 'approx', 'apps', 'appt', 'appy', 'apr', 'april', 'aproach', 'apt', 'aptitude', 'aquarius', 'ar', 'arab', 'arabian', 'arcade', 'archive', 'ard', 'ardé', 'area', 'arent', 'arestaurant', 'aretaking', 'argentina', 'argh', 'argue', 'arguing', 'argument', 'arguments', 'aries', 'arise', 'arises', 'arithmetic', 'arm', 'armand', 'armands', 'armenia', 'arms', 'arng', 'arngd', 'arnt', 'aroundn', 'arpraveesh', 'arr', 'arrange', 'arranging', 'arrested', 'arrival', 'arrive', 'arrived', 'arrow', 'arsenal', 'art', 'artists', 'arts', 'arty', 'arul', 'arun', 'asa', 'asap', 'asapok', 'asda', 'ashes', 'ashley', 'ashleys', 'ashwini', 'asia', 'asian', 'ask', 'askd', 'asked', 'askin', 'asking', 'asks', 'aslamalaikkuminsha', 'asleep', 'aspects', 'ass', 'assessment', 'asshole', 'assistance', 'associate', 'assume', 'assumed', 'asthere', 'asthma', 'astne', 'astoundingly', 'astrology', 'astronomer', 'asus', 'asusual', 'ate', 'athletic', 'athome', 'atlanta', 'atlast', 'atleast', 'atm', 'atrocious', 'attach', 'attached', 'attack', 'attempt', 'atten', 'attend', 'attended', 'attending', 'attention', 'attitude', 'attractioni', 'attractive', 'attracts', 'attributed', 'atyour', 'auction', 'auctionpunj', 'audiitions', 'audition', 'audrey', 'audreys', 'audrie', 'august', 'aunt', 'auntie', 'aunties', 'aunts', 'aunty', 'auntys', 'aust', 'australia', 'authorise', 'auto', 'autocorrect', 'av', 'ava', 'availa', 'available', 'availablei', 'availablethey', 'avalarr', 'avatar', 'avble', 'ave', 'avenge', 'avent', 'avenue', 'avin', 'avo', 'avoid', 'avoiding', 'avoids', 'await', 'awaiting', 'awake', 'award', 'awarded', 'away', 'awesome', 'awkward', 'aww', 'awww', 'ax', 'axis', 'ay', 'ayn', 'ayo', 'ba', 'baaaaaaaabe', 'baaaaabe', 'babe', 'babeprobpop', 'babes', 'babesozi', 'babies', 'baby', 'babygoodbye', 'babyhope', 'babyjontet', 'babysit', 'babysitting', 'bac', 'backa', 'backdoor', 'backwards', 'bad', 'badass', 'badly', 'badrith', 'bag', 'bagi', 'bags', 'bahamas', 'baig', 'bailiff', 'bajarangabali', 'bak', 'bakra', 'bakrid', 'balance', 'ball', 'baller', 'balloon', 'balls', 'bam', 'bambling', 'band', 'bandages', 'bang', 'bangb', 'bangbabes', 'bani', 'bank', 'banks', 'banned', 'banneduk', 'bannfwflyppm', 'banter', 'bao', 'bar', 'barbie', 'barcelona', 'bare', 'barely', 'bari', 'barkleys', 'barmed', 'barolla', 'barred', 'barrel', 'barring', 'barry', 'bars', 'base', 'bash', 'basic', 'basically', 'basketball', 'baskets', 'basqihave', 'bat', 'batch', 'batchlor', 'bath', 'bathe', 'bathing', 'bathroom', 'batsman', 'batt', 'battery', 'battle', 'bawling', 'bay', 'bb', 'bbc', 'bbdeluxe', 'bbdpooja', 'bbdthts', 'bblue', 'bbq', 'bbs', 'bc', 'bcaz', 'bck', 'bcm', 'bcmsfwcnxx', 'bcmwcnxx', 'bcoz', 'bcozi', 'bcum', 'bcums', 'bcz', 'bday', 'beach', 'beads', 'bear', 'bears', 'beatings', 'beauties', 'beautiful', 'beautifulmay', 'beauty', 'bec', 'becaus', 'becausethey', 'becoz', 'becz', 'bed', 'bedbut', 'bedreal', 'bedrm', 'bedroom', 'bedroomlove', 'beeen', 'beehoon', 'beendropping', 'beer', 'beerage', 'beerrs', 'beers', 'befor', 'beforewent', 'beg', 'beggar', 'begging', 'begin', 'begins', 'begun', 'behalf', 'behave', 'bein', 'believe', 'belive', 'bell', 'bellearlier', 'belligerent', 'belly', 'belong', 'belongs', 'belovd', 'beloved', 'belt', 'ben', 'bend', 'beneath', 'beneficiary', 'benefits', 'bennys', 'bergkamp', 'best', 'bestcongrats', 'bestrply', 'bet', 'beta', 'beth', 'betta', 'better', 'bettersn', 'beverage', 'bevieswaz', 'beware', 'bf', 'bffs', 'bfore', 'bhaskar', 'bhayandar', 'bian', 'biatch', 'bid', 'bids', 'big', 'bigger', 'biggest', 'bike', 'billed', 'billing', 'billion', 'bills', 'billy', 'bilo', 'bimbo', 'bin', 'biola', 'biolas', 'bird', 'birds', 'birla', 'biro', 'birth', 'birthdate', 'birthday', 'bishan', 'bit', 'bitch', 'bitching', 'bite', 'bites', 'bits', 'biz', 'bk', 'black', 'blackand', 'blackberry', 'blackim', 'blacko', 'blah', 'blakes', 'blame', 'blank', 'blanked', 'blanket', 'blankets', 'blastin', 'bleak', 'bleh', 'bless', 'blessed', 'blessget', 'blessing', 'blessings', 'blimey', 'blind', 'block', 'blocked', 'blog', 'blogging', 'bloke', 'blokes', 'blonde', 'bloo', 'blood', 'bloodblood', 'bloodsend', 'bloody', 'bloomberg', 'bloombergcom', 'blow', 'blowing', 'blown', 'blu', 'blue', 'bluetooth', 'bluetoothhdset', 'blueu', 'bluff', 'blur', 'bluray', 'bmw', 'board', 'boat', 'boatin', 'bob', 'body', 'boggy', 'bognor', 'bold', 'bollox', 'boltblue', 'bomb', 'bone', 'bong', 'bonus', 'boo', 'boobs', 'book', 'booked', 'bookedthe', 'booking', 'bookmark', 'books', 'bookshelf', 'boooo', 'boost', 'booty', 'bootydelious', 'borderline', 'bored', 'borin', 'boring', 'born', 'bornplease', 'borrow', 'boss', 'boston', 'bot', 'bother', 'bothering', 'bottle', 'bought', 'boundaries', 'bout', 'boutxx', 'bowa', 'bowl', 'bowls', 'box', 'boxcpm', 'boxm', 'boxnqp', 'boxqu', 'boxskch', 'boxskwpppm', 'boxwrc', 'boy', 'boye', 'boyf', 'boyfriend', 'boys', 'boytoy', 'boyy', 'bpo', 'brah', 'brain', 'braindance', 'brainless', 'brains', 'brainy', 'brand', 'brandy', 'bras', 'brats', 'braved', 'bray', 'brb', 'brdget', 'bread', 'breadstick', 'break', 'breaker', 'breakfast', 'breakin', 'breaking', 'breaks', 'breath', 'breathe', 'breather', 'breathing', 'breeze', 'breezy', 'brekkie', 'bribe', 'bridge', 'bridgwater', 'brief', 'bright', 'brighten', 'brilliant', 'brilliantly', 'brilliantthingi', 'brin', 'bring', 'bringing', 'brings', 'brisk', 'brison', 'bristol', 'british', 'britney', 'bro', 'broad', 'broadband', 'broke', 'broken', 'brolly', 'bros', 'broth', 'brothas', 'brother', 'brothers', 'brought', 'browni', 'brownie', 'brownies', 'browse', 'browser', 'browsin', 'bruce', 'brum', 'bruv', 'bslvyl', 'bsn', 'bsnl', 'bstfrnd', 'bt', 'bthere', 'bthmm', 'btnational', 'btnationalrate', 'btooth', 'btw', 'btwn', 'bu', 'bucks', 'bud', 'buddy', 'buddys', 'budget', 'buen', 'buff', 'buffet', 'buffy', 'bugis', 'build', 'building', 'built', 'bulbs', 'bull', 'bullshit', 'bunch', 'bundle', 'bunkers', 'buns', 'burden', 'burger', 'burgundy', 'burial', 'burn', 'burning', 'burns', 'burnt', 'burrito', 'bus', 'buses', 'busetop', 'business', 'busty', 'busy', 'busyi', 'butt', 'buttheres', 'butting', 'buttons', 'buy', 'buyer', 'buyers', 'buying', 'buz', 'buzy', 'buzz', 'buzzzz', 'bw', 'bx', 'bxipwe', 'byatch', 'bye', 'cab', 'cabin', 'cable', 'cafe', 'cage', 'cake', 'caken', 'cakes', 'cal', 'calculated', 'calculation', 'cali', 'calicut', 'california', 'calis', 'callback', 'callcost', 'callcoz', 'calld', 'calldrove', 'called', 'caller', 'callers', 'callertune', 'callfreefone', 'callin', 'calling', 'callingforgot', 'callon', 'calloptout', 'calloptoutfq', 'calloptouthf', 'calloptoutj', 'calloptoutjq', 'calloptoutlf', 'calloptoutndx', 'calloptoutqf', 'calloptoutyhl', 'calls', 'callsmessagesmissed', 'callsppm', 'callurgent', 'calm', 'cam', 'camcorder', 'came', 'camera', 'cameravideo', 'camp', 'campus', 'camry', 'canada', 'canal', 'canary', 'cancel', 'canceled', 'cancelled', 'cancer', 'candont', 'canlove', 'canname', 'cannt', 'cantdo', 'canteen', 'capacity', 'capital', 'cappuccino', 'caps', 'captain', 'captaining', 'car', 'card', 'cardiff', 'cardin', 'cards', 'care', 'careabout', 'cared', 'career', 'careful', 'carefully', 'careinsha', 'careless', 'carente', 'cares', 'careswt', 'careumma', 'carewhoever', 'caring', 'carlie', 'carlin', 'carlos', 'carlosll', 'carly', 'carolina', 'caroline', 'carpark', 'carry', 'carryin', 'cars', 'carso', 'cartons', 'cartoon', 'case', 'cash', 'cashbalance', 'cashbincouk', 'cashed', 'cashin', 'cashto', 'casing', 'cast', 'casting', 'castor', 'casualty', 'cat', 'catch', 'catches', 'catching', 'categories', 'caught', 'cause', 'causes', 'causing', 'cave', 'caveboy', 'cbe', 'cc', 'ccna', 'ccpmin', 'cd', 'cdgt', 'cds', 'cedar', 'ceiling', 'celeb', 'celebrate', 'celebrated', 'celebration', 'celebrations', 'cell', 'census', 'center', 'centre', 'century', 'cer', 'cereals', 'ceri', 'certainly', 'certificate', 'cfcaa', 'cha', 'chachi', 'chad', 'chain', 'challenge', 'challenging', 'champ', 'champlaxigating', 'champneys', 'chance', 'chances', 'change', 'changed', 'changes', 'changing', 'channel', 'chapel', 'chaps', 'chapter', 'character', 'characters', 'charge', 'charged', 'chargedpmsg', 'charges', 'charity', 'charles', 'charlie', 'charming', 'chart', 'charts', 'chase', 'chasing', 'chastity', 'chat', 'chatim', 'chatlines', 'chatter', 'chatting', 'cheap', 'cheaper', 'cheat', 'cheating', 'chechi', 'check', 'checkboxes', 'checked', 'checkin', 'checking', 'checkmate', 'checkup', 'cheek', 'cheer', 'cheered', 'cheers', 'cheery', 'cheese', 'cheesy', 'cheetos', 'chef', 'chennai', 'chennaibecause', 'chennaii', 'cheque', 'cherish', 'cherthalain', 'chess', 'chest', 'chex', 'cheyyamoand', 'chez', 'chg', 'chgs', 'chic', 'chick', 'chicken', 'chickened', 'chief', 'chik', 'chikku', 'chikkuali', 'chikkub', 'chikkudb', 'chikkugoing', 'chikkuil', 'chikkuk', 'chikkusimple', 'chikkuwat', 'child', 'childish', 'childporn', 'children', 'childs', 'chile', 'chill', 'chillaxin', 'chillin', 'china', 'chinatown', 'chinchillas', 'chinese', 'chinky', 'chiong', 'chip', 'chitchat', 'chk', 'chloe', 'chocolate', 'choice', 'choices', 'choose', 'choosing', 'chop', 'chords', 'chores', 'chosen', 'chrgdp', 'christ', 'christians', 'christmas', 'christmasmerry', 'christmassy', 'chuck', 'chuckin', 'church', 'ciao', 'cin', 'cine', 'cinema', 'citizen', 'city', 'citylink', 'cl', 'claim', 'claimcode', 'claims', 'claire', 'clarification', 'clarify', 'clas', 'clash', 'class', 'classes', 'classic', 'classmates', 'claypot', 'cld', 'clean', 'cleaning', 'clear', 'cleared', 'clearer', 'clearing', 'clearly', 'clever', 'click', 'cliff', 'cliffs', 'clip', 'clock', 'clocks', 'clos', 'close', 'closeby', 'closed', 'closedincluding', 'closer', 'closes', 'closingdate', 'cloth', 'clothes', 'cloud', 'clover', 'club', 'clubmobilescom', 'clue', 'cm', 'cme', 'cmon', 'cn', 'cncl', 'cnl', 'cnn', 'coach', 'coast', 'coat', 'coaxing', 'cocacola', 'coccooning', 'cochin', 'cock', 'cocksuckers', 'coco', 'code', 'codexx', 'coffee', 'coherently', 'coimbatore', 'coin', 'coincidence', 'coins', 'colany', 'cold', 'coldheard', 'colin', 'collages', 'collapsed', 'colleagues', 'collect', 'collected', 'collecting', 'collection', 'colleg', 'college', 'collegexx', 'color', 'colour', 'colourful', 'colourredtextcolourtxtstar', 'colours', 'com', 'comb', 'combination', 'combine', 'come', 'comedy', 'comedycant', 'comei', 'comes', 'cometil', 'comfey', 'comfort', 'comin', 'coming', 'comingdown', 'comingtmorow', 'command', 'comment', 'commercial', 'commit', 'common', 'community', 'comp', 'companies', 'companion', 'company', 'compare', 'compass', 'compensation', 'competition', 'complacent', 'complain', 'complaining', 'complaint', 'complementary', 'complete', 'completed', 'completely', 'completes', 'completing', 'complexities', 'complimentary', 'compliments', 'compofstuff', 'comprehensive', 'compromised', 'compulsory', 'computational', 'computer', 'computerless', 'computers', 'comuk', 'comukcm', 'conacted', 'concentrate', 'concentrating', 'concentration', 'concern', 'concerned', 'concert', 'conclusion', 'condition', 'conditionand', 'conditions', 'conducts', 'conected', 'conference', 'confidence', 'configure', 'confirm', 'confirmd', 'confirmdeny', 'confirmed', 'conform', 'confused', 'confuses', 'congrats', 'congratulations', 'connect', 'connected', 'connection', 'connections', 'cons', 'consensus', 'consent', 'conserve', 'consider', 'considering', 'consistently', 'console', 'constant', 'constantly', 'contact', 'contacted', 'contacts', 'contains', 'content', 'contented', 'contention', 'contents', 'continent', 'continue', 'continued', 'contract', 'contribute', 'control', 'convenience', 'conversations', 'converted', 'converter', 'convey', 'conveying', 'convince', 'convinced', 'convincing', 'convincingjust', 'cook', 'cooked', 'cookies', 'cooking', 'cool', 'coolmob', 'cooped', 'cooperative', 'copied', 'copies', 'coping', 'cops', 'copy', 'corect', 'cornwall', 'corporation', 'corrct', 'correct', 'correction', 'correctionor', 'correctly', 'corrupt', 'corvettes', 'cos', 'cosign', 'cost', 'costa', 'costing', 'costs', 'costume', 'costumes', 'couch', 'cougarpen', 'cough', 'coughing', 'coulda', 'couldn', 'count', 'countin', 'countinlots', 'country', 'counts', 'coupla', 'couple', 'courage', 'courageous', 'course', 'court', 'courtroom', 'cousin', 'cover', 'coveragd', 'covers', 'coz', 'cozsomtimes', 'cozy', 'cps', 'cr', 'crab', 'crack', 'craigslist', 'crammed', 'cramps', 'crap', 'crash', 'crashed', 'crashing', 'crave', 'craving', 'craziest', 'crazy', 'crazyin', 'crbt', 'cream', 'created', 'creative', 'creativity', 'cred', 'credit', 'credited', 'credits', 'creep', 'creepy', 'cresubi', 'cribbs', 'cricket', 'cricketer', 'crickiting', 'cried', 'crisis', 'crisisspk', 'cro', 'crore', 'cross', 'crossing', 'crowd', 'croydon', 'crucial', 'crucify', 'cruel', 'cruise', 'cruisin', 'crushes', 'crying', 'cs', 'csh', 'cst', 'cstore', 'ctagg', 'ctargg', 'cthen', 'ctla', 'cttargg', 'ctter', 'cttergg', 'cu', 'cuck', 'cud', 'cuddle', 'cuddled', 'cuddling', 'cudnt', 'culdnt', 'cultures', 'cum', 'cumin', 'cumming', 'cup', 'cupboard', 'cuppa', 'curfew', 'curious', 'current', 'currently', 'curry', 'curtsey', 'cust', 'custcare', 'custom', 'customer', 'customercare', 'customers', 'customersqueriesnetvisionukcom', 'cut', 'cute', 'cutefrnd', 'cutest', 'cutie', 'cutter', 'cutting', 'cuz', 'cwwx', 'cya', 'cyclists', 'cysts', 'da', 'daal', 'daalways', 'dabbles', 'dabooks', 'dad', 'daddy', 'dado', 'dads', 'dagood', 'dahe', 'dahow', 'dai', 'daily', 'dajst', 'dammit', 'damn', 'dan', 'danalla', 'dancce', 'dance', 'dancin', 'dancing', 'dane', 'dang', 'danger', 'dangerous', 'dao', 'daplease', 'dare', 'dark', 'darker', 'darkest', 'darkness', 'darlin', 'darling', 'darlings', 'darlinim', 'darren', 'dartboard', 'das', 'dasara', 'dat', 'data', 'date', 'dateboxessexcmxn', 'dates', 'dating', 'datingi', 'datoday', 'dats', 'datz', 'daurgent', 'dave', 'dawhats', 'dawhere', 'dawns', 'day', 'dayexcept', 'dayfind', 'dayhas', 'daylove', 'days', 'dayshe', 'daysso', 'dayswill', 'daysèn', 'daytime', 'dayu', 'daywith', 'db', 'dd', 'dead', 'deadwell', 'deal', 'dealer', 'dealers', 'dealfarm', 'dealing', 'deals', 'deam', 'dear', 'dearer', 'deari', 'dearloving', 'dearly', 'dearme', 'dearrakhesh', 'dearregret', 'dearshall', 'dearslp', 'deartake', 'deary', 'death', 'debating', 'dec', 'decades', 'december', 'decent', 'decide', 'decided', 'deciding', 'decimal', 'decision', 'decisions', 'deck', 'decking', 'declare', 'decorating', 'dedicate', 'dedicated', 'deduct', 'deep', 'deepak', 'deepest', 'deer', 'deeraj', 'def', 'defeat', 'defer', 'definite', 'definitely', 'definitly', 'defo', 'degree', 'degrees', 'dehydrated', 'dehydration', 'del', 'delay', 'delayed', 'delete', 'deleted', 'delhi', 'delicious', 'deliver', 'delivered', 'deliveredtomorrow', 'delivery', 'deltomorrow', 'deluxe', 'dem', 'demand', 'den', 'dena', 'dengra', 'denis', 'dent', 'dental', 'dentist', 'dentists', 'denying', 'department', 'dependable', 'dependents', 'depends', 'deposit', 'deposited', 'depressed', 'depression', 'dept', 'der', 'derek', 'dereks', 'derp', 'description', 'desert', 'deserve', 'designation', 'desires', 'desk', 'desparate', 'desparately', 'desperate', 'despite', 'dessert', 'destination', 'destiny', 'detailed', 'details', 'detailsi', 'determine', 'determined', 'detroit', 'deus', 'develop', 'developed', 'developer', 'device', 'devils', 'devouring', 'dey', 'deyhope', 'deyi', 'dha', 'dhina', 'dhoni', 'dhorte', 'di', 'dial', 'dialling', 'dialogue', 'diamond', 'diamonds', 'diapers', 'dice', 'dick', 'dict', 'dictionary', 'did', 'diddy', 'didn', 'didnt', 'didntgive', 'didt', 'die', 'died', 'diesel', 'diet', 'dieting', 'diff', 'differ', 'differbe', 'difference', 'differences', 'different', 'difficult', 'difficulties', 'dificult', 'digi', 'digital', 'digits', 'dignity', 'dileepthank', 'dime', 'dimension', 'din', 'dine', 'dined', 'dinero', 'ding', 'dining', 'dinner', 'dinnermsg', 'dino', 'dint', 'dippeditinadew', 'dips', 'direct', 'directly', 'director', 'directors', 'dirt', 'dirtiest', 'dirty', 'dis', 'disagreeable', 'disappeared', 'disappointment', 'disaster', 'disasters', 'disastrous', 'disc', 'disclose', 'disconnect', 'disconnected', 'discount', 'discreet', 'discuss', 'discussed', 'diseases', 'diskyou', 'dislikes', 'dismay', 'dismissial', 'display', 'distance', 'distract', 'disturb', 'disturbancemight', 'disturbing', 'ditto', 'divert', 'division', 'divorce', 'diwali', 'dizzamn', 'dizzee', 'dl', 'dled', 'dlf', 'dload', 'dnt', 'dob', 'dobby', 'dobbys', 'doc', 'docdplease', 'dock', 'docks', 'docs', 'doctor', 'doctors', 'documents', 'dodda', 'dodgey', 'does', 'doesdiscountshitinnit', 'doesn', 'doesnt', 'dog', 'dogbreath', 'dogg', 'doggin', 'dogging', 'doggy', 'dogs', 'dogwood', 'doin', 'doinat', 'doing', 'doinghow', 'doingwhat', 'doinnearly', 'dointerested', 'doke', 'dokey', 'dollar', 'dollars', 'dolld', 'dolls', 'dom', 'domain', 'don', 'donate', 'donewant', 'donno', 'dont', 'dontcha', 'dontgettext', 'dontignore', 'dontplease', 'donyt', 'dooms', 'door', 'doors', 'dorm', 'dormitory', 'dorothykiefercom', 'dose', 'dosomething', 'dot', 'double', 'doublefaggot', 'doublemins', 'doubles', 'doubletxt', 'doubt', 'doug', 'dough', 'download', 'downloaded', 'downloads', 'downon', 'downs', 'downstem', 'dozens', 'dps', 'dr', 'dracula', 'drama', 'dramastorms', 'dramatic', 'drastic', 'draw', 'drawplease', 'draws', 'dreading', 'dream', 'dreamlove', 'dreams', 'dreamsmuah', 'dreamstake', 'dreamsu', 'dreamz', 'dress', 'dressed', 'dresser', 'drink', 'drinkin', 'drinking', 'drinkpa', 'drinks', 'drive', 'driver', 'drivin', 'driving', 'drizzling', 'drms', 'drmstake', 'drop', 'dropped', 'drops', 'drove', 'drpd', 'drug', 'drugdealer', 'drugs', 'drum', 'drunk', 'drunkard', 'drunken', 'drvgsto', 'dry', 'dryer', 'dsnt', 'dt', 'dual', 'dub', 'dubsack', 'duchess', 'ducking', 'dude', 'dudes', 'dudette', 'duffer', 'dull', 'dumb', 'dump', 'dun', 'dungerees', 'dunno', 'duo', 'durban', 'durham', 'dusk', 'dust', 'duvet', 'dvd', 'dvg', 'dwn', 'dying', 'dysentry', 'ea', 'eachother', 'ear', 'earlier', 'earlierwe', 'earliest', 'early', 'earn', 'earning', 'ears', 'earth', 'earthsofa', 'easier', 'easiest', 'easily', 'east', 'eastenders', 'easter', 'easy', 'eat', 'eaten', 'eatin', 'eating', 'ebay', 'eca', 'echo', 'eckankar', 'ecstacy', 'ecstasy', 'edge', 'edhae', 'edison', 'edition', 'edrunk', 'education', 'educational', 'edukkukayee', 'edward', 'edwards', 'ee', 'eek', 'eerie', 'eerulli', 'effect', 'effects', 'efficient', 'efreefone', 'egbon', 'egf', 'egg', 'eggpotato', 'eggs', 'eggspert', 'ego', 'eh', 'ehrr', 'eighth', 'eightish', 'eire', 'el', 'ela', 'elaborate', 'elaborating', 'elaine', 'elama', 'elaya', 'eldest', 'election', 'elections', 'electricity', 'elephant', 'elliot', 'ello', 'elvis', 'em', 'email', 'emailed', 'embarassed', 'embarassing', 'embarrassed', 'embassy', 'emergency', 'emerging', 'emigrated', 'emily', 'emotion', 'employee', 'employers', 'en', 'enamous', 'enc', 'end', 'ended', 'ending', 'endless', 'endof', 'endowed', 'ends', 'enemies', 'enemy', 'energy', 'eng', 'engaged', 'engagement', 'engalnd', 'engin', 'england', 'english', 'enjoy', 'enjoyed', 'enjoyin', 'enjoying', 'enketa', 'enna', 'ennal', 'enter', 'entered', 'enters', 'entertain', 'entertaining', 'entey', 'entire', 'entirely', 'entitled', 'entrepreneurs', 'entropication', 'entry', 'enufcredeit', 'enuff', 'envelope', 'envy', 'epi', 'epsilon', 'equally', 'er', 'ericson', 'ericsson', 'erm', 'erotic', 'err', 'error', 'errors', 'ertini', 'eruku', 'erupt', 'erutupalam', 'erything', 'esaplanade', 'escalator', 'escape', 'ese', 'eshxxxxxxxxxxx', 'especially', 'espell', 'esplanade', 'essay', 'essential', 'establish', 'eta', 'eternal', 'ethnicity', 'ethreats', 'ettans', 'euro', 'eurodisinc', 'europe', 'eva', 'evaluation', 'evaporated', 'eve', 'eveb', 'evei', 'evening', 'evenings', 'event', 'events', 'eventually', 'everybody', 'everybodys', 'everyboy', 'everyday', 'everyones', 'everyso', 'everythin', 'everytime', 'evey', 'eviction', 'evil', 'evn', 'evng', 'evo', 'evone', 'evr', 'evrey', 'evry', 'evrydy', 'ew', 'ex', 'exact', 'exactly', 'exam', 'exams', 'excellent', 'exchanged', 'excited', 'exciting', 'excuse', 'excused', 'excuses', 'exe', 'executive', 'exercise', 'exeter', 'exhaust', 'exhausted', 'exhibition', 'exist', 'exit', 'exmpel', 'exorcism', 'exorcist', 'exp', 'expect', 'expected', 'expecting', 'expects', 'expensive', 'experience', 'experiencehttpwwwvouchmecometlpdiningasp', 'experiment', 'expert', 'expired', 'expiredso', 'expires', 'expiry', 'explain', 'explicit', 'explicitly', 'explosive', 'exposed', 'exposes', 'express', 'expression', 'ext', 'exterminator', 'extra', 'extract', 'extreme', 'exwife', 'ey', 'eye', 'eyeddont', 'eyes', 'ez', 'fa', 'fab', 'faber', 'face', 'faceasssssholeeee', 'facebook', 'facilities', 'fact', 'factory', 'facts', 'faded', 'faggy', 'faglord', 'failed', 'failing', 'fails', 'failure', 'fainting', 'fair', 'faith', 'faithevening', 'fake', 'fakemy', 'fakeyes', 'fal', 'falconerf', 'fall', 'fallen', 'falling', 'falls', 'fals', 'famamus', 'familiar', 'family', 'familymay', 'famous', 'fan', 'fancied', 'fancies', 'fancy', 'fans', 'fantasies', 'fantastic', 'fantasy', 'far', 'farm', 'farrell', 'farting', 'fassyole', 'fast', 'faster', 'fastest', 'fastpls', 'fat', 'fated', 'father', 'fathima', 'fats', 'fatty', 'fault', 'faultal', 'faultfed', 'fav', 'fave', 'favor', 'favorite', 'favour', 'favourite', 'fb', 'fear', 'feathery', 'features', 'feb', 'febapril', 'february', 'fedex', 'feed', 'feel', 'feelin', 'feeling', 'feelingood', 'feelingwavering', 'feels', 'fees', 'feet', 'fell', 'fellow', 'felt', 'female', 'feng', 'festival', 'fetch', 'fetching', 'fever', 'fffff', 'ffffffffff', 'ffffuuuuuuu', 'fgkslpo', 'fgkslpopw', 'fidalfication', 'field', 'fieldof', 'fiendmake', 'fifa', 'fifth', 'fight', 'fighting', 'fightng', 'fights', 'figure', 'figures', 'figuring', 'fil', 'file', 'files', 'filled', 'filling', 'fills', 'film', 'films', 'filth', 'filthy', 'filthyguys', 'final', 'finalise', 'finally', 'finance', 'financial', 'finding', 'finds', 'fine', 'fineabsolutly', 'fineinshah', 'finest', 'finewhen', 'fingers', 'finish', 'finishd', 'finished', 'finishes', 'finishing', 'fink', 'finns', 'fired', 'firefox', 'fireplace', 'firesare', 'firmware', 'firsg', 'fish', 'fishhead', 'fishrman', 'fit', 'fiting', 'fix', 'fixd', 'fixed', 'fixedline', 'fixes', 'fizz', 'flag', 'flaked', 'flaky', 'flame', 'flash', 'flat', 'flatter', 'flavour', 'flea', 'fletcher', 'flew', 'flies', 'flight', 'flights', 'flim', 'flip', 'flippin', 'flirt', 'flirting', 'floating', 'flood', 'floor', 'floppy', 'florida', 'flow', 'flower', 'flowers', 'flowing', 'fluids', 'flung', 'flurries', 'flute', 'fly', 'flyim', 'flying', 'flyng', 'fml', 'fmyou', 'fne', 'fo', 'fold', 'foley', 'folks', 'follow', 'followed', 'followin', 'following', 'follows', 'fond', 'fondly', 'fone', 'foned', 'fones', 'fonin', 'food', 'fool', 'fooled', 'fools', 'foot', 'football', 'footblcrckt', 'footie', 'footprints', 'footy', 'force', 'forced', 'foregate', 'foreign', 'forever', 'forevr', 'forfeit', 'forget', 'forgets', 'forgive', 'forgiven', 'forgiveness', 'forgot', 'forgotten', 'forgt', 'formal', 'formallypls', 'format', 'formatting', 'formclark', 'forms', 'formsdon', 'forth', 'fortune', 'forum', 'forums', 'forward', 'forwarded', 'forwarding', 'foundurself', 'fourth', 'foward', 'fowler', 'fox', 'fps', 'fr', 'fraction', 'fran', 'frankgood', 'frankie', 'franxx', 'franyxxxxx', 'frauds', 'freak', 'freaked', 'freaking', 'freaky', 'fredericksburg', 'free', 'freeday', 'freedom', 'freeentry', 'freefone', 'freek', 'freely', 'freemessage', 'freemsg', 'freemsgfav', 'freemsgfeelin', 'freenokia', 'freephone', 'freeringtone', 'freeringtonereply', 'freesend', 'freezing', 'freinds', 'fren', 'french', 'frens', 'frequently', 'fresh', 'freshers', 'fret', 'fri', 'friday', 'fridayhope', 'fridays', 'fridge', 'fried', 'friend', 'friendofafriend', 'friends', 'friendsare', 'friendship', 'friendshipmotherfatherteacherschildrens', 'friendships', 'fring', 'fringe', 'frm', 'frmcloud', 'frnd', 'frnds', 'frndship', 'frndshp', 'frndsship', 'frndz', 'frnt', 'fro', 'frog', 'frogaxel', 'fromm', 'fromwrk', 'frontierville', 'frosty', 'fruit', 'frwd', 'frying', 'ft', 'fuck', 'fucked', 'fuckin', 'fucking', 'fuckinniceselfishdeviousbitchanywayi', 'fucks', 'fudge', 'fuelled', 'fujitsu', 'ful', 'fulfil', 'fullonsmscom', 'fumbling', 'fun', 'function', 'functions', 'fund', 'fundamentals', 'funeral', 'funk', 'funky', 'funny', 'funs', 'furniture', 'fusion', 'future', 'fuuuuck', 'fwiw', 'fyi', 'ga', 'gail', 'gailxx', 'gain', 'gained', 'gal', 'galcan', 'galileo', 'galno', 'gals', 'galsu', 'gam', 'game', 'games', 'gamestar', 'gandhipuram', 'ganesh', 'gang', 'gap', 'gaps', 'garage', 'garbage', 'garden', 'gardener', 'gari', 'garments', 'gary', 'gas', 'gastroenteritis', 'gate', 'gauge', 'gautham', 'gave', 'gay', 'gayd', 'gayle', 'gays', 'gaytextbuddycom', 'gaze', 'gb', 'gbp', 'gbpmonth', 'gbpmtmsg', 'gbpsms', 'gbpweek', 'gd', 'gdeve', 'gdnow', 'gdthe', 'ge', 'gee', 'geeee', 'geeeee', 'geelater', 'gei', 'gek', 'gender', 'general', 'generally', 'genes', 'genius', 'gent', 'gentle', 'gentleman', 'gently', 'genuine', 'genus', 'geoenvironmental', 'georges', 'gep', 'ger', 'germany', 'getanth', 'getha', 'getiing', 'geting', 'gets', 'getsleep', 'getstop', 'gettin', 'getting', 'getzedcouk', 'geva', 'gf', 'gga', 'ghodbandar', 'ghost', 'gibbs', 'gibe', 'gift', 'gifted', 'gifts', 'giggle', 'gigolo', 'gimme', 'gimmi', 'gin', 'girl', 'girld', 'girlfrnd', 'girlie', 'girls', 'gist', 'giv', 'given', 'gives', 'giving', 'givits', 'glad', 'glands', 'glasgow', 'glass', 'glo', 'global', 'glorious', 'glory', 'gloucesterroad', 'gmgngegn', 'gmgngegnt', 'gmw', 'gn', 'gnarls', 'goa', 'goal', 'goals', 'goalsteam', 'gobi', 'god', 'godi', 'godid', 'godnot', 'gods', 'godtaken', 'godyou', 'goes', 'goggles', 'goigng', 'goin', 'goinbed', 'going', 'gokila', 'gold', 'golddigger', 'golden', 'goldviking', 'golf', 'gon', 'gona', 'gone', 'goneu', 'gong', 'gonna', 'gonnamissu', 'good', 'gooddhanush', 'goodenvironment', 'goodevening', 'goodfine', 'goodfriend', 'goodies', 'goodmate', 'goodmorning', 'goodmorningmy', 'goodnight', 'goodnite', 'goodno', 'goodnoon', 'goodo', 'goods', 'goodtimeoli', 'goodwhen', 'google', 'gopalettan', 'gorgeous', 'gosh', 'gosri', 'gossip', 'gossx', 'got', 'gota', 'gotany', 'goten', 'gotmarried', 'goto', 'gotta', 'gotten', 'gotto', 'goverment', 'govtinstituitions', 'gowait', 'gower', 'gprs', 'gpu', 'gr', 'grab', 'grace', 'graduated', 'grahmbell', 'gram', 'grams', 'gran', 'grand', 'grandfather', 'grandma', 'grandmas', 'granite', 'granted', 'graphics', 'grasp', 'grateful', 'grave', 'gravel', 'gravity', 'gravy', 'gray', 'grazed', 'gre', 'great', 'greatbhaji', 'greatbye', 'greatest', 'greatly', 'greatness', 'greece', 'green', 'greeni', 'greet', 'greeting', 'greetings', 'grfun', 'grief', 'grinder', 'grins', 'grinule', 'grl', 'grocers', 'grooved', 'groovy', 'groovying', 'ground', 'groundamla', 'group', 'grow', 'growing', 'grown', 'grownup', 'growrandom', 'grprizes', 'grr', 'grumble', 'grumpy', 'gs', 'gsex', 'gsoh', 'gt', 'gthr', 'gua', 'guai', 'guarantee', 'guaranteed', 'gucci', 'gud', 'gudk', 'gudni', 'gudnite', 'gudnitetcpractice', 'gudnyt', 'guess', 'guessed', 'guesses', 'guessin', 'guessing', 'guidance', 'guide', 'guides', 'guild', 'guilty', 'guitar', 'gumbys', 'guoyang', 'gurl', 'gut', 'guy', 'guys', 'gv', 'gving', 'gwr', 'gym', 'gymnastics', 'gynae', 'gyno', 'ha', 'habbahw', 'habit', 'hack', 'hadnt', 'hadya', 'haf', 'haha', 'hahahause', 'hahatake', 'hai', 'hail', 'hair', 'haircut', 'hairdressers', 'haiyoh', 'haiz', 'half', 'halfth', 'hall', 'halla', 'hallaq', 'halloween', 'ham', 'hamper', 'hamster', 'hand', 'handed', 'handing', 'handle', 'hands', 'handset', 'handsome', 'handsomes', 'hang', 'hanger', 'hangin', 'hanging', 'hanks', 'hannaford', 'hanuman', 'hanumanji', 'happen', 'happend', 'happened', 'happenin', 'happening', 'happens', 'happier', 'happiest', 'happily', 'happiness', 'happy', 'hard', 'hardcore', 'harder', 'hardest', 'hardly', 'hari', 'harishs', 'harlem', 'harri', 'harry', 'hasbroin', 'hassling', 'hat', 'hate', 'hates', 'haughaighgtujhyguj', 'haul', 'haunt', 'hav', 'hava', 'havbeen', 'havebeen', 'haven', 'havent', 'haventcn', 'havhear', 'havin', 'having', 'havnt', 'hcl', 'hdd', 'head', 'headache', 'headin', 'heading', 'heads', 'headset', 'headstart', 'heal', 'healer', 'healthy', 'heap', 'hear', 'heard', 'hearin', 'hearing', 'heart', 'hearted', 'heartgn', 'heartheart', 'hearts', 'heartsnot', 'heat', 'heater', 'heaven', 'heavily', 'heavy', 'hectic', 'hee', 'heehee', 'hehe', 'height', 'held', 'helen', 'helens', 'hell', 'hella', 'hello', 'hellodrivbyquit', 'helloed', 'hellogorgeous', 'hellohow', 'helloooo', 'helloyou', 'help', 'helpful', 'helping', 'helpline', 'helpp', 'helps', 'heltiniiyo', 'hen', 'henry', 'hep', 'herepls', 'hereremember', 'herethanksi', 'heri', 'herlove', 'hermy', 'heroes', 'heroi', 'heron', 'hershe', 'herwho', 'herwill', 'hes', 'hesitant', 'hesitate', 'hesitation', 'hex', 'hey', 'heygreat', 'hgsuitelands', 'hgsuitelandsrowwjhl', 'hhahhaahahah', 'hi', 'hicts', 'hidden', 'hide', 'hides', 'hidid', 'hiding', 'high', 'highest', 'hii', 'hilariousalso', 'hill', 'hills', 'hillsborough', 'himso', 'himthen', 'hint', 'hip', 'hiphop', 'hire', 'hisher', 'history', 'hit', 'hitechnical', 'hitler', 'hitman', 'hits', 'hitteranyway', 'hittng', 'hiwhat', 'hiya', 'hl', 'hlday', 'hlp', 'hm', 'hme', 'hmm', 'hmmbad', 'hmmm', 'hmmmbut', 'hmmmhow', 'hmmmkbut', 'hmmmm', 'hmmmstill', 'hmmmy', 'hmph', 'hmv', 'ho', 'hockey', 'hogidhechinnu', 'hogli', 'hogolo', 'hol', 'holby', 'hold', 'holder', 'holding', 'hole', 'holiday', 'holidayso', 'holla', 'hollalater', 'hols', 'holy', 'home', 'homebut', 'homecheck', 'homeleft', 'homelove', 'homeowners', 'homewot', 'hon', 'honest', 'honestly', 'honesty', 'honey', 'honeybee', 'honeydid', 'honeymoon', 'honi', 'hont', 'hoo', 'hooch', 'hoody', 'hook', 'hooked', 'hoops', 'hop', 'hope', 'hopeafternoon', 'hoped', 'hopeful', 'hopefully', 'hopeing', 'hopes', 'hopeso', 'hopeu', 'hoping', 'hor', 'horniest', 'horny', 'horo', 'horrible', 'horse', 'hos', 'hospital', 'hospitals', 'hostbased', 'hostel', 'hostile', 'hot', 'hotel', 'hotels', 'hotmix', 'hottest', 'hour', 'hourish', 'hours', 'house', 'houseful', 'housemaid', 'housewives', 'housework', 'housing', 'howard', 'howda', 'howdy', 'howre', 'hows', 'howu', 'howve', 'howz', 'hp', 'hppnss', 'hr', 'hrishi', 'hrs', 'hsbc', 'html', 'httpaltocoukwavewaveaspo', 'httpcareers', 'httpdoit', 'httpgotbabescouk', 'httpimg', 'httptms', 'httpwap', 'httpwwwbubbletextcom', 'httpwwwetlpcoukexpressoffer', 'httpwwwetlpcoukreward', 'httpwwwgrprizescom', 'httpwwwurawinnercom', 'httpwwwwtlpcouktext', 'hu', 'huai', 'hubby', 'hubbys', 'hudgi', 'hug', 'huge', 'hugging', 'hugh', 'hugs', 'huh', 'hui', 'huiming', 'hum', 'humanities', 'humans', 'hun', 'hundredhe', 'hundreds', 'hungover', 'hungry', 'hunks', 'hunlove', 'hunny', 'hunnyhope', 'hunnyjust', 'hunnywot', 'hunonbus', 'hunt', 'hunting', 'hurricanes', 'hurried', 'hurry', 'hurt', 'hurting', 'hurts', 'husband', 'hussey', 'hustle', 'hut', 'hv', 'hvae', 'hw', 'hwd', 'hwkeep', 'hyde', 'hypertension', 'hypotheticalhuagauahahuagahyuhagga', 'iam', 'ias', 'ibh', 'ibhltd', 'ibiza', 'ibm', 'ibn', 'ibored', 'ibuprofens', 'ic', 'iccha', 'ice', 'icic', 'icicibankcom', 'icky', 'icon', 'id', 'idc', 'idconvey', 'idea', 'ideal', 'ideas', 'identification', 'identifier', 'idiot', 'idk', 'idps', 'idu', 'iff', 'ifink', 'ifwhenhow', 'ig', 'ignorant', 'ignore', 'ignoring', 'ijust', 'ikea', 'ikno', 'iknow', 'il', 'ileave', 'ill', 'illness', 'illspeak', 'ilol', 'im', 'ima', 'image', 'images', 'imaginationmy', 'imagine', 'imat', 'imf', 'imin', 'imma', 'immed', 'immediately', 'immunisation', 'imp', 'impatient', 'implications', 'important', 'importantly', 'imposed', 'impossible', 'imposter', 'impress', 'impressed', 'impression', 'impressively', 'improve', 'improved', 'imprtant', 'inch', 'inches', 'incident', 'inclu', 'include', 'includes', 'including', 'inclusive', 'incomm', 'inconsiderate', 'inconvenience', 'inconvenient', 'incorrect', 'increase', 'incredible', 'increments', 'inde', 'independence', 'independently', 'india', 'indian', 'indianpls', 'indians', 'indicate', 'individual', 'individualtime', 'indyarockscom', 'inever', 'infact', 'infections', 'infernal', 'influx', 'info', 'inforingtonekingcouk', 'inform', 'information', 'informed', 'informedrgdsrakheshkerala', 'infotxtcouk', 'infovipclubu', 'infowwwpercentrealcom', 'infra', 'infront', 'ing', 'ingredients', 'initiate', 'ink', 'inlude', 'inmind', 'inner', 'innings', 'innocent', 'innu', 'inour', 'inperialmusic', 'inpersonation', 'inr', 'insects', 'insha', 'inshah', 'inside', 'inspection', 'inst', 'install', 'installation', 'installing', 'instant', 'instantly', 'instead', 'instructions', 'insurance', 'intelligent', 'intend', 'intention', 'intentions', 'interested', 'interesting', 'interflora', 'interfued', 'internal', 'internet', 'internetservice', 'interview', 'interviews', 'interviw', 'intha', 'intimate', 'intrepid', 'intro', 'intrude', 'invaders', 'invention', 'invest', 'investigate', 'invitation', 'invite', 'invited', 'inviting', 'invnted', 'invoices', 'involve', 'involved', 'iouri', 'ip', 'ipad', 'ipaditan', 'ipads', 'iphone', 'ipod', 'iq', 'iraq', 'ireneere', 'iriver', 'iron', 'ironing', 'irritated', 'irritates', 'irritating', 'irritation', 'irulinae', 'isaiahd', 'isare', 'iscoming', 'ish', 'ishtamayoohappy', 'island', 'islands', 'islove', 'isn', 'isnt', 'issue', 'issues', 'isvimportant', 'italian', 'itboth', 'itc', 'itcould', 'items', 'iter', 'ithink', 'ithis', 'iti', 'itjust', 'itleave', 'itlet', 'itll', 'itmail', 'itmay', 'itna', 'itnow', 'itor', 'itplspls', 'itriedtell', 'itsnot', 'ittb', 'itu', 'itwhichturnedinto', 'itxt', 'itxx', 'itz', 'ivatte', 'ive', 'iwana', 'iwasmarinethat', 'iz', 'izzit', 'ja', 'jabo', 'jack', 'jacket', 'jackpot', 'jackson', 'jacuzzi', 'jada', 'jade', 'jaklin', 'jam', 'james', 'jamster', 'jamstercouk', 'jamsterget', 'jamz', 'jan', 'janarige', 'jane', 'janinexx', 'january', 'janx', 'jap', 'japanese', 'jason', 'java', 'jay', 'jaya', 'jaykwon', 'jays', 'jaz', 'jazz', 'jb', 'jd', 'je', 'jealous', 'jeans', 'jeetey', 'jeevithathile', 'jelly', 'jen', 'jenne', 'jenny', 'jenxxx', 'jeremiah', 'jeri', 'jerk', 'jerry', 'jersey', 'jess', 'jesus', 'jet', 'jetton', 'jewelry', 'jez', 'ji', 'jia', 'jiayin', 'jide', 'jiu', 'jjc', 'jo', 'joanna', 'job', 'jobs', 'jobyet', 'jocks', 'jod', 'jog', 'jogging', 'john', 'join', 'joined', 'joinedhope', 'joinedso', 'joining', 'joke', 'joker', 'jokes', 'jokethet', 'jokin', 'joking', 'jolly', 'jolt', 'jon', 'jones', 'jontin', 'jordan', 'jordantxt', 'jorgeshock', 'jos', 'jot', 'journey', 'joy', 'joys', 'jp', 'js', 'jsco', 'jst', 'jstfrnd', 'jsut', 'juan', 'judgementali', 'juicy', 'jules', 'juliana', 'julianaland', 'july', 'jump', 'jumpers', 'june', 'jungle', 'junna', 'jurong', 'jus', 'just', 'justbeen', 'justify', 'justthought', 'juswoke', 'juz', 'jx', 'kaaj', 'kadeem', 'kafter', 'kaiez', 'kaila', 'kaitlyn', 'kalaachutaarama', 'kalainar', 'kalisidare', 'kall', 'kallis', 'kalstiyathen', 'kama', 'kanagu', 'kane', 'kanji', 'kano', 'kanoanyway', 'kanoil', 'kanowhr', 'kappa', 'karaoke', 'karnan', 'karo', 'kate', 'katexxx', 'kath', 'kavalan', 'kay', 'kaypoh', 'kb', 'kbsubject', 'kbut', 'kdo', 'ke', 'keen', 'keeping', 'keepintouch', 'keeps', 'kegger', 'keluviri', 'keng', 'kens', 'kent', 'kept', 'kerala', 'keralacircle', 'keris', 'kettoda', 'key', 'keypad', 'keys', 'keyword', 'kfc', 'kg', 'kgive', 'kgood', 'khelate', 'ki', 'kicchu', 'kick', 'kickboxing', 'kickoff', 'kicks', 'kid', 'kidding', 'kids', 'kidz', 'kill', 'killed', 'killing', 'kills', 'kilos', 'kim', 'kind', 'kinda', 'kindly', 'king', 'kingdom', 'kintu', 'kiosk', 'kip', 'kisi', 'kiss', 'kisses', 'kissing', 'kit', 'kits', 'kittum', 'kitty', 'kkadvance', 'kkany', 'kkapo', 'kkare', 'kkcongratulation', 'kkfrom', 'kkgoodstudy', 'kkhow', 'kkim', 'kkits', 'kkthis', 'kkwhat', 'kkwhen', 'kkwhere', 'kkwhy', 'kkyesterday', 'kl', 'knackered', 'knees', 'knew', 'knickers', 'knock', 'knocking', 'know', 'knowhe', 'knowing', 'known', 'knowneway', 'knows', 'knowthis', 'knowwait', 'knowyetunde', 'knw', 'ko', 'kochi', 'kodstini', 'kodthini', 'konw', 'korche', 'korean', 'korli', 'korte', 'kotees', 'kothi', 'kr', 'ksry', 'kthen', 'ktv', 'ku', 'kuch', 'kudiyarasu', 'kusruthi', 'kvb', 'kwish', 'kyou', 'kz', 'la', 'lab', 'labor', 'lac', 'lacking', 'lacsthats', 'lacsthere', 'laden', 'ladies', 'ladiesu', 'lady', 'lag', 'lage', 'lager', 'laid', 'laidwant', 'lakhs', 'lambda', 'lambu', 'lamp', 'lancaster', 'land', 'landing', 'landline', 'landlineonly', 'landlines', 'landmark', 'lands', 'lane', 'langport', 'language', 'lanka', 'lanre', 'lap', 'lapdancer', 'laptop', 'lar', 'lara', 'laready', 'large', 'largest', 'lark', 'lasagna', 'lastest', 'lasting', 'late', 'latebut', 'latei', 'lately', 'latelyxxx', 'later', 'lateso', 'latest', 'latests', 'latr', 'laugh', 'laughed', 'laughing', 'laughs', 'laundry', 'laurie', 'lautech', 'lavender', 'law', 'lawu', 'laxinorficated', 'lay', 'layin', 'laying', 'lays', 'lazy', 'lb', 'lccltd', 'ldn', 'ldnwarw', 'ldnwh', 'le', 'lead', 'leadership', 'leading', 'leads', 'leafcutter', 'leafdayno', 'league', 'leannewhat', 'learn', 'learned', 'leasttimes', 'leastwhich', 'leave', 'leaves', 'leaving', 'lect', 'lecture', 'lecturer', 'left', 'leftovers', 'leg', 'legal', 'legitimat', 'legs', 'leh', 'lehhaha', 'lei', 'lekdog', 'lemme', 'lemondayno', 'length', 'lengths', 'lennon', 'leo', 'leona', 'leonardo', 'leonas', 'ler', 'les', 'lesser', 'lesson', 'lessons', 'let', 'lets', 'letter', 'letters', 'leu', 'level', 'li', 'liao', 'liaoso', 'liaotoo', 'lib', 'libertines', 'library', 'lick', 'licks', 'lido', 'lie', 'lies', 'life', 'lifeand', 'lifebook', 'lifeis', 'lifethis', 'lifetime', 'lifeyou', 'lifpartnr', 'lift', 'lifted', 'lifting', 'light', 'lighters', 'lightly', 'lik', 'like', 'liked', 'likely', 'likes', 'likeyour', 'likingbe', 'lil', 'lily', 'lim', 'limit', 'limited', 'limiting', 'limits', 'limping', 'lindsay', 'line', 'linear', 'lined', 'linerental', 'lines', 'lineyou', 'lingerie', 'lingo', 'link', 'links', 'linux', 'lion', 'lionm', 'lionp', 'lions', 'lip', 'lipo', 'lips', 'liquor', 'list', 'listed', 'listen', 'listener', 'listening', 'listeningthe', 'listn', 'lists', 'lit', 'literally', 'litres', 'little', 'live', 'lived', 'liver', 'liverpool', 'lives', 'living', 'lk', 'lkpoboxhpfl', 'll', 'llspeak', 'lm', 'lmao', 'lmaonice', 'lnly', 'lo', 'load', 'loads', 'loan', 'loans', 'lobby', 'local', 'location', 'locations', 'locaxx', 'lock', 'locks', 'lodge', 'lodging', 'log', 'logged', 'logging', 'login', 'logo', 'logoff', 'logon', 'logopic', 'logos', 'logosmusicnews', 'loko', 'lol', 'lolnice', 'lololo', 'londn', 'london', 'loneliness', 'lonely', 'long', 'longer', 'lonlines', 'loo', 'look', 'lookatme', 'looked', 'lookin', 'looking', 'looks', 'lool', 'loooooool', 'looovvve', 'loose', 'loosing', 'loosu', 'lor', 'lord', 'lorgoin', 'lorwe', 'lose', 'losers', 'loses', 'losing', 'loss', 'lost', 'lot', 'loti', 'lotr', 'lots', 'lotsly', 'lotsof', 'lotta', 'lotto', 'lotwill', 'lotz', 'lou', 'loud', 'lounge', 'lousy', 'lov', 'lovable', 'love', 'loveable', 'loved', 'lovejen', 'lovely', 'loveme', 'lover', 'loverakhesh', 'loverboy', 'lovers', 'loves', 'lovin', 'loving', 'lovingly', 'lovly', 'low', 'lowcost', 'lower', 'lowes', 'loxahatchee', 'loyal', 'loyalty', 'lp', 'lr', 'lrg', 'ls', 'lsbb', 'lshb', 'lst', 'lt', 'ltdecimalgt', 'ltdhelpdesk', 'ltemailgt', 'ltgt', 'ltr', 'lttimegt', 'lttrs', 'lturlgt', 'lubly', 'luck', 'luckily', 'lucky', 'lucozade', 'lucozadecoukwrc', 'lucy', 'lucyxx', 'luks', 'lul', 'lunch', 'lunchtime', 'lunchyou', 'lunsford', 'lush', 'luton', 'luv', 'luvd', 'luvnight', 'luvs', 'lux', 'luxury', 'lv', 'lvblefrnd', 'lyf', 'lyfu', 'lying', 'lyk', 'lyricalladief', 'lyrics', 'ma', 'maaaan', 'maangalyam', 'maat', 'mac', 'macedonia', 'macha', 'machan', 'machiany', 'machines', 'macho', 'mack', 'macleran', 'macs', 'mad', 'madam', 'madamregret', 'madodu', 'madoke', 'madstini', 'madthen', 'mag', 'maga', 'magazine', 'maggi', 'magic', 'magical', 'magicalsongsblogspotcom', 'mah', 'mahal', 'mahaveer', 'mahfuuzmeaning', 'mail', 'mailbox', 'mailed', 'maili', 'mails', 'main', 'maintain', 'maintaining', 'major', 'make', 'makes', 'makiing', 'makin', 'making', 'malaria', 'malarky', 'male', 'mall', 'mallika', 'man', 'manage', 'manageable', 'managed', 'management', 'manchester', 'manda', 'mandan', 'mandara', 'mandy', 'maneesha', 'manege', 'mango', 'maniac', 'manky', 'manual', 'map', 'mapquest', 'maps', 'maq', 'maraikara', 'marandratha', 'march', 'maretare', 'margaret', 'margin', 'mark', 'market', 'marketing', 'marking', 'marley', 'marrgeremembr', 'marriage', 'marriageprogram', 'married', 'marrow', 'marry', 'marsms', 'maruti', 'marvel', 'mary', 'mas', 'masked', 'massages', 'massagetiepos', 'massive', 'masteriastering', 'masters', 'mat', 'match', 'matched', 'matches', 'mate', 'mates', 'math', 'mathe', 'mathematics', 'mathews', 'maths', 'matra', 'matric', 'matrix', 'matter', 'mattermsg', 'matters', 'matthew', 'matured', 'maturity', 'max', 'maximize', 'maximum', 'maxmins', 'maxmonth', 'mayb', 'maybe', 'mb', 'mbp', 'mc', 'mca', 'mcat', 'mcflyall', 'mcr', 'meal', 'meals', 'mean', 'meaning', 'meaningful', 'meaningless', 'means', 'meant', 'meare', 'measure', 'meat', 'meatballs', 'mecause', 'med', 'medical', 'medicine', 'medont', 'meds', 'mee', 'meet', 'meetgreet', 'meetin', 'meeting', 'meetins', 'meetitz', 'meets', 'mega', 'meh', 'mei', 'meim', 'meis', 'meive', 'mel', 'melike', 'melle', 'melnite', 'melody', 'melt', 'member', 'members', 'membership', 'membershiptake', 'memorable', 'memories', 'memory', 'men', 'meneed', 'mens', 'mental', 'mention', 'mentionedtomorrow', 'mentionned', 'mentor', 'menu', 'meok', 'meow', 'meowd', 'merely', 'merememberin', 'meremove', 'merry', 'mesages', 'meshe', 'meso', 'mess', 'message', 'messaged', 'messageit', 'messageits', 'messageno', 'messagepandy', 'messages', 'messagesim', 'messagesome', 'messagestext', 'messagethanks', 'messaging', 'messed', 'messenger', 'messy', 'met', 'method', 'meummifyingbye', 'mf', 'mfl', 'mgs', 'mi', 'mia', 'michael', 'mid', 'middle', 'midnight', 'mids', 'miiiiiiissssssssss', 'mila', 'mileage', 'miles', 'milk', 'milkdayno', 'millers', 'million', 'millions', 'miltazindgi', 'min', 'mina', 'minapn', 'mind', 'minded', 'mindi', 'mindsetbelieve', 'mineall', 'minecraft', 'mines', 'mini', 'minimum', 'minmobsmore', 'minmobsmorelkpoboxhpfl', 'minmoremobsemspoboxpowa', 'minnaminunginte', 'minor', 'mins', 'minscall', 'minstand', 'minstexts', 'minstxtmth', 'mint', 'minus', 'minute', 'minutes', 'minuts', 'miracle', 'mirror', 'mis', 'misbehaved', 'miserable', 'misfits', 'mising', 'misplaced', 'miss', 'misscall', 'missed', 'missin', 'missing', 'missionary', 'missions', 'misss', 'misstake', 'missunderstding', 'missy', 'mist', 'mistake', 'mistakes', 'mistakeu', 'misundrstud', 'mite', 'mitsake', 'mittelschmertz', 'miwa', 'mix', 'mj', 'mjzgroup', 'mk', 'ml', 'mls', 'mm', 'mmm', 'mmmm', 'mmmmm', 'mmmmmm', 'mmmmmmm', 'mmsto', 'mns', 'mnth', 'mnths', 'mo', 'moan', 'mob', 'mobcudb', 'mobile', 'mobiles', 'mobilesdirect', 'mobilesvary', 'mobileupd', 'mobno', 'mobs', 'mobsicom', 'mobstorequizppm', 'moby', 'mode', 'model', 'modelsony', 'modl', 'module', 'modules', 'mofo', 'moji', 'mojibiola', 'mokka', 'molestedsomeone', 'mom', 'moment', 'moments', 'moms', 'mon', 'monday', 'mondaynxt', 'moneeppolum', 'money', 'moneyas', 'moneyi', 'monkeespeople', 'monkey', 'monkeyaround', 'monkeys', 'monlrsx', 'mono', 'monoc', 'monos', 'monster', 'month', 'monthly', 'monthlysubscriptionpmsg', 'monthnot', 'months', 'mood', 'moon', 'moons', 'moral', 'moraldont', 'moralone', 'morefrmmob', 'morn', 'mornin', 'morning', 'mornings', 'morningtake', 'moro', 'morow', 'morphine', 'morro', 'morrow', 'morrowxxxx', 'moseley', 'mother', 'motherfucker', 'motherinlaw', 'motivate', 'motivating', 'motive', 'motor', 'motorola', 'mountain', 'mountains', 'mouse', 'mouth', 'moved', 'moves', 'movie', 'movies', 'moviewat', 'moving', 'moyep', 'mp', 'mph', 'mquiz', 'mr', 'mre', 'mrng', 'mro', 'mrt', 'mrur', 'mrw', 'ms', 'msg', 'msging', 'msgp', 'msgrcvd', 'msgs', 'msgsd', 'msgsometext', 'msgsp', 'msgsubscription', 'msgticketkioskvalid', 'msgwe', 'msn', 'mssuman', 'mt', 'mtalk', 'mth', 'mths', 'mtmsgrcvd', 'mtnl', 'mu', 'muchand', 'muchi', 'muchimpede', 'muchxxlove', 'mudyadhu', 'mufti', 'muhommad', 'muht', 'multimedia', 'multiply', 'multis', 'mum', 'mumbai', 'mumhas', 'mummy', 'mummys', 'mums', 'mumtaz', 'mumtazs', 'mundhe', 'munsters', 'murali', 'murder', 'murdered', 'murderer', 'mus', 'mush', 'mushy', 'music', 'musical', 'musta', 'musthu', 'mustprovide', 'mutai', 'mutations', 'muz', 'mw', 'mwahs', 'mwen', 'mxy', 'mycallsu', 'mylife', 'mymoby', 'myparents', 'mys', 'myspace', 'mystery', 'mytonecomenjoy', 'na', 'naal', 'nachos', 'nag', 'nagar', 'nah', 'nahi', 'nails', 'naked', 'nalla', 'nalli', 'named', 'namemy', 'names', 'nammanna', 'nan', 'nange', 'nanny', 'nannys', 'nap', 'narcotics', 'nasdaq', 'naseeb', 'nasty', 'nat', 'natalie', 'natalja', 'national', 'nationwide', 'nattil', 'natuition', 'natural', 'nature', 'natwest', 'naughty', 'nauseous', 'nav', 'navigate', 'nb', 'nbme', 'nd', 'ne', 'near', 'nearby', 'nearer', 'nearly', 'necesity', 'necessarily', 'necessary', 'necessity', 'neck', 'necklace', 'ned', 'need', 'needa', 'needed', 'neededsalary', 'needing', 'needle', 'needs', 'needy', 'neekunna', 'neft', 'negative', 'neglect', 'neglet', 'neighbor', 'neighbors', 'neighbour', 'nelson', 'neo', 'nervous', 'neshanthtel', 'net', 'netcollex', 'netflix', 'nething', 'netno', 'network', 'networking', 'networks', 'neva', 'nevamindwe', 'nevering', 'neville', 'nevr', 'new', 'neway', 'newest', 'newport', 'newquaysend', 'news', 'newsby', 'newscaster', 'newshype', 'newspapers', 'ngage', 'nhite', 'nhs', 'ni', 'nic', 'nice', 'nicenicehow', 'nichols', 'nick', 'nickey', 'nicky', 'nig', 'nigeria', 'nigh', 'night', 'nighters', 'nightnight', 'nightnobody', 'nights', 'nightsexcellent', 'nightswe', 'nightswt', 'nigpun', 'nigro', 'nike', 'nikiyunet', 'nimbomsons', 'nimya', 'nimyapls', 'ninish', 'nino', 'nipost', 'niswt', 'nit', 'nite', 'nitetell', 'nitro', 'nitros', 'nitw', 'nitz', 'njan', 'nmde', 'nobbing', 'noble', 'nobodys', 'nobut', 'noe', 'nofew', 'nohe', 'noi', 'noice', 'noise', 'noisy', 'noits', 'nojst', 'nok', 'nokia', 'nokiap', 'nokias', 'noline', 'nolistenedthe', 'non', 'noncomittal', 'nonenowhere', 'nonetheless', 'nookii', 'noon', 'nooooooo', 'noooooooo', 'nope', 'nora', 'norcorp', 'nordstrom', 'norm', 'normal', 'normally', 'normptone', 'north', 'northampton', 'nos', 'nose', 'nosh', 'nosy', 'note', 'notebook', 'notes', 'nothin', 'nothis', 'notice', 'notifications', 'notified', 'notixiquating', 'nottel', 'nottingham', 'notxtcouk', 'noun', 'novelty', 'november', 'nowadays', 'nowadayslot', 'nowcan', 'nowi', 'nownyt', 'nowonion', 'noworriesloanscom', 'nowreply', 'nowsavamobmember', 'nowsend', 'nowsky', 'nowstill', 'nowt', 'nowtcs', 'nowuse', 'nqp', 'nr', 'nri', 'nt', 'nte', 'ntswt', 'ntt', 'ntwk', 'nuclear', 'nudist', 'nuerologist', 'num', 'number', 'numberpls', 'numberrespectful', 'numbers', 'numberso', 'nursery', 'nurses', 'nurungu', 'nus', 'nusstu', 'nuther', 'nutter', 'nver', 'nvm', 'nvq', 'nw', 'nxt', 'nyc', 'nydc', 'nys', 'nyt', 'nytecalpmsgp', 'nytho', 'nyusa', 'nz', 'nìte', 'oath', 'obedient', 'obese', 'obey', 'objection', 'oblisingately', 'oblivious', 'obviously', 'occasion', 'occupied', 'occupy', 'occur', 'occurs', 'oceand', 'oclock', 'ocoukgames', 'october', 'odalebeku', 'odi', 'ofcourse', 'offc', 'offcampus', 'offdam', 'offense', 'offer', 'offered', 'offering', 'offers', 'offerthe', 'office', 'officer', 'officestill', 'officethenampet', 'officeunderstand', 'officewhats', 'official', 'officially', 'offline', 'ofice', 'oficegot', 'ofsi', 'ofwd', 'oga', 'ogunrinde', 'oh', 'ohas', 'ohi', 'oi', 'oic', 'oil', 'oja', 'ok', 'okay', 'okcome', 'okday', 'okden', 'okey', 'okie', 'okies', 'okmail', 'okok', 'okors', 'oktake', 'okthenwhats', 'okvarunnathu', 'ola', 'olage', 'olave', 'olayiwolas', 'old', 'ollubut', 'olol', 'olowoyey', 'olympics', 'omg', 'omw', 'onam', 'oncall', 'ondu', 'onedge', 'ones', 'oneta', 'oni', 'onionrs', 'onit', 'online', 'onlinewhy', 'onluy', 'onlybettr', 'onlydon', 'onlyfound', 'onlymore', 'onum', 'onwards', 'onwords', 'ooh', 'oooh', 'oooooh', 'ooooooh', 'oops', 'open', 'opened', 'opener', 'openin', 'opening', 'openings', 'operate', 'operator', 'opinion', 'opinions', 'opponenter', 'opportunity', 'opportunityall', 'opportunitypls', 'opposed', 'opposite', 'opps', 'opt', 'opted', 'optical', 'optimistic', 'optin', 'option', 'optout', 'optoutdwv', 'oral', 'orange', 'orangei', 'oranges', 'orc', 'orchard', 'order', 'ordered', 'ore', 'oredi', 'oreo', 'oreos', 'organise', 'organizer', 'orh', 'orig', 'original', 'orno', 'oroptouthvd', 'ors', 'orstoptxt', 'ortxt', 'oru', 'os', 'oscar', 'oso', 'otbox', 'othrs', 'otside', 'ou', 'ouch', 'ourbacks', 'oursso', 'outage', 'outages', 'outbid', 'outdoors', 'outfit', 'outfor', 'outgoing', 'outhave', 'outif', 'outlrjust', 'outrageous', 'outreach', 'outs', 'outside', 'outsider', 'outsomewhere', 'outstanding', 'outta', 'ovarian', 'overa', 'overdid', 'overdose', 'overemphasiseor', 'overheating', 'overs', 'overtime', 'ovr', 'ovulatewhen', 'ovulation', 'ow', 'owe', 'owed', 'owl', 'owned', 'owns', 'ownyouve', 'owo', 'oxygen', 'oyea', 'oyster', 'oz', 'pa', 'paces', 'pack', 'package', 'packalso', 'packing', 'packs', 'padhegm', 'page', 'pages', 'pai', 'paid', 'pain', 'painful', 'painhope', 'paining', 'painit', 'painting', 'pale', 'palm', 'pan', 'panalambut', 'panasonic', 'pandy', 'panic', 'panicks', 'panren', 'pansy', 'panther', 'panties', 'pants', 'pap', 'papa', 'paper', 'papers', 'paperwork', 'paracetamol', 'parachute', 'parade', 'paragon', 'paragraphs', 'paranoid', 'parantella', 'parchi', 'parco', 'parent', 'parentnot', 'parents', 'parentsi', 'paris', 'parisfree', 'parish', 'park', 'parked', 'parkin', 'parking', 'parkph', 'participate', 'particular', 'particularly', 'parties', 'partner', 'partners', 'partnership', 'parts', 'party', 'partys', 'paru', 'pases', 'pass', 'passable', 'passed', 'passes', 'passion', 'passionate', 'passport', 'passthey', 'password', 'passwordsatmsms', 'past', 'pataistha', 'patent', 'path', 'pathaya', 'paths', 'patients', 'patrick', 'pattern', 'patty', 'pattys', 'paul', 'pause', 'pavanaputra', 'pax', 'pay', 'payasam', 'payback', 'payed', 'payedday', 'payee', 'paying', 'payment', 'payments', 'payoh', 'paypal', 'pc', 'pdatenow', 'pday', 'peace', 'peaceful', 'peach', 'peak', 'pears', 'pee', 'peeps', 'pehle', 'pei', 'pen', 'pence', 'pendent', 'pending', 'pendingi', 'penis', 'penny', 'people', 'peoples', 'percent', 'percentages', 'perf', 'perfect', 'perform', 'performance', 'performed', 'perfume', 'peril', 'period', 'peripherals', 'permanent', 'permission', 'permissions', 'perpetual', 'persevered', 'persian', 'person', 'personal', 'personality', 'personally', 'persondie', 'personmeet', 'persons', 'perspective', 'perumbavoor', 'perweeksub', 'perwksub', 'pes', 'pesky', 'pest', 'pete', 'peteis', 'petexxx', 'petey', 'peteynoi', 'petrol', 'petrolrs', 'pg', 'ph', 'pharmacy', 'phasing', 'phd', 'phews', 'phil', 'philosophical', 'philosophy', 'phne', 'phoenix', 'phone', 'phonebook', 'phoned', 'phones', 'phony', 'photo', 'photos', 'photoshop', 'php', 'phrase', 'physics', 'piah', 'pic', 'pick', 'picked', 'picking', 'pickle', 'pics', 'picsfree', 'picture', 'pictures', 'pictxt', 'pie', 'piece', 'pieces', 'pierre', 'pig', 'piggy', 'pilates', 'pile', 'pillows', 'pimples', 'pimpleseven', 'pin', 'pink', 'pinku', 'pints', 'pisces', 'piss', 'pissed', 'pity', 'pix', 'pixels', 'pizza', 'pl', 'place', 'placed', 'placement', 'placeno', 'places', 'plaid', 'plan', 'plane', 'planet', 'planeti', 'planettalkinstantcom', 'planned', 'planning', 'plans', 'plate', 'platt', 'play', 'played', 'player', 'players', 'playerwhy', 'playi', 'playin', 'playing', 'playng', 'plaza', 'pleasant', 'pleased', 'pleassssssseeeeee', 'pleasure', 'pleasured', 'plenty', 'plm', 'ploughing', 'pls', 'plsi', 'plum', 'plumbers', 'plumbingremixed', 'plural', 'plus', 'plyr', 'plz', 'pm', 'pmeg', 'pmin', 'pmmorefrommobilebremovedmobypoboxlsyf', 'pmsg', 'pmsgp', 'pmsgrcvd', 'pmsgrcvdhgsuitelandsrowwjhl', 'pmt', 'pmtmsg', 'pmtmsgrcvd', 'po', 'pobox', 'poboxldns', 'poboxntf', 'poboxntfp', 'poboxowwq', 'poboxoxwwq', 'poboxtcrw', 'poboxwtgp', 'poboxwwq', 'pocay', 'pocked', 'pocketbabecouk', 'pockets', 'pocy', 'pod', 'poem', 'poet', 'point', 'points', 'poker', 'poking', 'pokkiri', 'pole', 'police', 'politicians', 'polo', 'poly', 'polyc', 'polyh', 'polyp', 'polyph', 'polyphonic', 'polys', 'polytruepixringtonesgames', 'pongal', 'pongaldo', 'ponnungale', 'poo', 'pookie', 'pool', 'poop', 'poor', 'poorly', 'poortiyagi', 'pop', 'popcorn', 'popcornjust', 'popped', 'popping', 'porn', 'porridge', 'port', 'portal', 'portege', 'portions', 'pose', 'posh', 'posible', 'position', 'positions', 'positive', 'possession', 'possessive', 'possessiveness', 'possibility', 'possible', 'possiblehope', 'possibly', 'post', 'postal', 'postcard', 'postcode', 'posted', 'posterode', 'posting', 'postponed', 'posts', 'potato', 'potential', 'potter', 'pouch', 'pound', 'pounded', 'pounds', 'poured', 'pours', 'pouts', 'power', 'powerful', 'poyyarikaturkolathupalayamunjalur', 'ppermesssubscription', 'ppl', 'pple', 'ppm', 'ppmpoboxbhambxe', 'ppmsg', 'pptxnormal', 'pptxt', 'ppw', 'prabha', 'prabhaim', 'prabu', 'pract', 'practical', 'practice', 'practicing', 'practicum', 'practising', 'praises', 'prakasam', 'prakasamanu', 'prakesh', 'praps', 'prasad', 'prasanth', 'prashanthettans', 'pray', 'prayers', 'praying', 'prayingwill', 'prayrs', 'prcvd', 'pre', 'prebook', 'predict', 'predicte', 'predicting', 'prediction', 'predictive', 'prefer', 'preferably', 'prem', 'premaricakindly', 'premier', 'premium', 'prepaid', 'prepare', 'prepared', 'prepayment', 'preponed', 'preschoolcoordinator', 'prescribed', 'prescripiton', 'prescription', 'presence', 'present', 'presents', 'president', 'presleys', 'presnts', 'press', 'pressies', 'pressure', 'prestige', 'pretend', 'pretsorginta', 'pretsovru', 'pretty', 'prevent', 'previews', 'previous', 'previously', 'prey', 'price', 'prices', 'priceso', 'pride', 'priest', 'prin', 'prince', 'princegn', 'princes', 'princess', 'print', 'printed', 'printer', 'printing', 'prior', 'priority', 'priscillas', 'privacy', 'private', 'prix', 'priya', 'prize', 'prizeawaiting', 'prizes', 'prizeswith', 'prizeto', 'pro', 'prob', 'probably', 'problem', 'problematic', 'problembut', 'problemfree', 'problemi', 'problems', 'problms', 'problum', 'probs', 'probthat', 'process', 'processed', 'processexcellent', 'processits', 'processnetworking', 'prods', 'products', 'prof', 'professional', 'professors', 'profile', 'profiles', 'profit', 'program', 'programs', 'progress', 'project', 'projects', 'prolly', 'prometazine', 'prominent', 'promise', 'promised', 'promises', 'promo', 'promoting', 'promotion', 'promptly', 'prompts', 'prone', 'proof', 'proove', 'proper', 'properly', 'property', 'propose', 'props', 'propsd', 'pros', 'prospects', 'protect', 'prove', 'proverb', 'provided', 'provider', 'province', 'proze', 'prsn', 'ps', 'pshewmissing', 'psms', 'psp', 'psxtra', 'psychiatrist', 'psychic', 'psychologist', 'pt', 'ptbo', 'ptext', 'pthis', 'ptone', 'ptxt', 'pub', 'pubcafe', 'public', 'publish', 'pubs', 'pudunga', 'pull', 'pulling', 'pulls', 'pump', 'punch', 'punish', 'punishment', 'punto', 'puppy', 'pura', 'purchase', 'purchases', 'pure', 'purity', 'purpleu', 'purpose', 'purse', 'push', 'pushbutton', 'pushes', 'pussy', 'puts', 'puttin', 'putting', 'puzzeles', 'puzzles', 'pw', 'pwk', 'px', 'qatar', 'qatarrakhesh', 'qbank', 'qet', 'qi', 'qing', 'qlynnbv', 'quality', 'quarter', 'que', 'queen', 'queries', 'ques', 'question', 'questioned', 'questions', 'questionstd', 'quick', 'quickly', 'quiet', 'quit', 'quite', 'quiteamuzing', 'quitting', 'quiz', 'quizclub', 'quizwin', 'quizzes', 'quote', 'quoting', 'qxj', 'racal', 'racing', 'radiator', 'radio', 'raed', 'rael', 'raglan', 'rahul', 'raiden', 'railway', 'rain', 'raining', 'raise', 'raised', 'raj', 'rajas', 'rajini', 'rajipls', 'rajitha', 'rajnikant', 'rakhesh', 'raksha', 'rally', 'ralphs', 'ramaduth', 'ramen', 'ran', 'random', 'randomlly', 'randomly', 'randy', 'rang', 'range', 'ranjith', 'ranju', 'raping', 'rate', 'rates', 'ratetcs', 'ratio', 'rats', 'raviyog', 'rawring', 'rayan', 'rayman', 'rays', 'rcbbattle', 'rcd', 'rct', 'rcv', 'rcvd', 'rd', 'rdy', 'reach', 'reache', 'reached', 'reaching', 'reacting', 'reaction', 'read', 'readers', 'readiness', 'reading', 'ready', 'readyall', 'real', 'realise', 'realised', 'realising', 'reality', 'realize', 'realized', 'realizes', 'really', 'reallyneed', 'realy', 'reapply', 'rearrange', 'reason', 'reasonable', 'reasons', 'reassurance', 'reassuring', 'rebel', 'reboot', 'rebooting', 'rebtel', 'rec', 'recd', 'recdthirtyeight', 'receipt', 'receipts', 'receive', 'receivea', 'received', 'receiving', 'recent', 'recently', 'reception', 'recession', 'recharge', 'recharged', 'rechargerakhesh', 'recieve', 'reckon', 'recognise', 'recognises', 'record', 'recorded', 'recorder', 'records', 'recount', 'recovery', 'recpt', 'recreation', 'recycling', 'red', 'redeemable', 'redim', 'redred', 'reduce', 'ree', 'ref', 'reference', 'references', 'referin', 'reffering', 'refilled', 'reflection', 'reflex', 'reformat', 'refreshed', 'refund', 'refundedthis', 'refused', 'reg', 'regard', 'regarding', 'regards', 'register', 'registered', 'registration', 'regret', 'regretted', 'regular', 'rejected', 'related', 'relation', 'relationshipits', 'relatives', 'relax', 'relaxing', 'released', 'reliant', 'relieved', 'religiously', 'relocate', 'reltnship', 'rem', 'remain', 'remains', 'remb', 'remember', 'remembered', 'rememberi', 'remembr', 'remembrs', 'remet', 'remind', 'reminded', 'reminder', 'reminding', 'reminds', 'removal', 'remove', 'removed', 'rencontre', 'renewal', 'renewed', 'renewing', 'rent', 'rental', 'renting', 'rentl', 'rents', 'repair', 'repairs', 'repeat', 'repeating', 'repent', 'replace', 'replacement', 'replacing', 'replied', 'replies', 'reply', 'replybe', 'replying', 'replys', 'report', 'reppurcussions', 'representative', 'republic', 'request', 'requests', 'require', 'required', 'requirements', 'requires', 'reschedule', 'research', 'resend', 'resent', 'reservations', 'reserve', 'reserved', 'reserves', 'reset', 'residency', 'resizing', 'reslove', 'resolution', 'resolved', 'resort', 'respect', 'respectful', 'responcewhat', 'respond', 'responding', 'response', 'responsibilities', 'responsibility', 'responsible', 'rest', 'restaurant', 'restock', 'restocked', 'restrict', 'restrictions', 'restuwud', 'restwish', 'resub', 'resubbing', 'resubmit', 'result', 'results', 'resume', 'resuming', 'retard', 'retired', 'retrieve', 'return', 'returned', 'returning', 'returns', 'reunion', 'reveal', 'revealed', 'revealing', 'reverse', 'review', 'revision', 'reward', 'rewarding', 'rg', 'rgds', 'rgent', 'rhode', 'rhythm', 'rice', 'rich', 'riddance', 'ridden', 'ride', 'right', 'rightio', 'rightly', 'rights', 'rileys', 'rimac', 'ring', 'ringing', 'ringsreturn', 'ringtone', 'ringtonefrom', 'ringtoneget', 'ringtoneking', 'ringtones', 'rinu', 'rip', 'ripped', 'rise', 'risk', 'risks', 'rite', 'ritten', 'river', 'road', 'roads', 'roadsrvx', 'roast', 'rob', 'robinson', 'robs', 'rock', 'rocking', 'rocks', 'rodds', 'rodger', 'rofl', 'roger', 'role', 'roles', 'rolled', 'roller', 'romantic', 'romcapspam', 'ron', 'rons', 'room', 'roomate', 'roommate', 'roommates', 'rooms', 'ros', 'rose', 'roses', 'rough', 'round', 'rounderso', 'rounds', 'route', 'row', 'rowdy', 'rows', 'rowwjhl', 'royal', 'rp', 'rpl', 'rply', 'rr', 'rreveal', 'rs', 'rsi', 'rstm', 'rtking', 'rtm', 'rto', 'ru', 'rub', 'rubber', 'rude', 'rudi', 'rugby', 'ruin', 'ruining', 'rule', 'rules', 'rum', 'rumbling', 'rummer', 'rumour', 'run', 'running', 'runninglets', 'runs', 'rupaul', 'rush', 'rushing', 'rv', 'ryan', 'ryans', 'ryder', 'sac', 'sachin', 'sachinjust', 'sack', 'sacked', 'sacrifice', 'sad', 'sae', 'saeed', 'safe', 'safely', 'safety', 'sagamu', 'saibaba', 'said', 'saidif', 'sake', 'salad', 'salam', 'salary', 'sale', 'sales', 'salesman', 'salespee', 'sall', 'salmon', 'salon', 'salt', 'sam', 'samachara', 'samantha', 'sambarlife', 'sameso', 'samus', 'sandiago', 'sane', 'sang', 'sankatmochan', 'sankranti', 'santa', 'santha', 'sao', 'sapna', 'sar', 'sara', 'sarasota', 'sarcasm', 'sarcastic', 'saristar', 'sariyag', 'sary', 'sashimi', 'sat', 'satanic', 'sathy', 'sathya', 'satisfied', 'satisfy', 'satjust', 'satlove', 'satsgettin', 'satsound', 'satthen', 'saturday', 'satü', 'saucy', 'sausagelove', 'savamob', 'save', 'saved', 'saves', 'savings', 'saw', 'say', 'sayask', 'sayhey', 'sayin', 'saying', 'says', 'sayy', 'sbut', 'sc', 'scallies', 'scammers', 'scarcasim', 'scared', 'scary', 'scenario', 'scenery', 'sch', 'schedule', 'school', 'schools', 'science', 'scold', 'scool', 'scorable', 'score', 'scores', 'scoring', 'scotch', 'scotland', 'scotsman', 'scouse', 'scraped', 'scrappy', 'scratches', 'scratching', 'scream', 'screamed', 'screaming', 'screen', 'screwd', 'scrounge', 'scrumptious', 'sculpture', 'sd', 'sday', 'sdrybi', 'se', 'sea', 'search', 'searching', 'season', 'seat', 'sec', 'second', 'secondary', 'seconds', 'secret', 'secretary', 'secretly', 'secrets', 'secs', 'section', 'sections', 'secure', 'secured', 'sed', 'seeds', 'seeing', 'seekers', 'seeking', 'seen', 'seeno', 'sees', 'sef', 'seh', 'sehwag', 'seing', 'select', 'selected', 'selection', 'self', 'selfindependence', 'selfish', 'selflessness', 'sell', 'selling', 'sells', 'sem', 'semester', 'semi', 'semiobscure', 'sen', 'send', 'sender', 'sendername', 'sending', 'sends', 'senor', 'senrddnot', 'sense', 'sensesrespect', 'sensible', 'sensitive', 'sent', 'sentdate', 'sentence', 'senthil', 'senthilhsbc', 'sentiment', 'seperated鈥', 'sept', 'september', 'serena', 'series', 'seriously', 'served', 'server', 'service', 'services', 'serving', 'servs', 'set', 'setting', 'settings', 'settle', 'settled', 'settling', 'seven', 'seventeen', 'sex', 'sexiest', 'sextextukcom', 'sexual', 'sexy', 'sexychat', 'sez', 'sf', 'sfine', 'sfirst', 'sfrom', 'sh', 'sha', 'shades', 'shadow', 'shag', 'shagged', 'shah', 'shahjahan', 'shahjahans', 'shakara', 'shake', 'shakespeare', 'shaking', 'shall', 'shame', 'shampain', 'shangela', 'shanghai', 'shanilrakhesh', 'shant', 'shaping', 'share', 'shared', 'sharing', 'shattered', 'shaved', 'shb', 'shd', 'sheet', 'sheets', 'sheffield', 'shelf', 'shell', 'shelves', 'sherawat', 'shes', 'shesil', 'shexy', 'shhhhh', 'shifad', 'shijas', 'shijutta', 'shinco', 'shindig', 'shining', 'shiny', 'ship', 'shipped', 'shipping', 'shirt', 'shirts', 'shit', 'shite', 'shitin', 'shitjustfound', 'shitload', 'shits', 'shitstorm', 'shivratri', 'shjas', 'shld', 'shldxxxx', 'shock', 'shocking', 'shoes', 'shola', 'shoot', 'shop', 'shoppin', 'shopping', 'shopthe', 'shopwe', 'shoranur', 'shore', 'shorethe', 'short', 'shortage', 'shortcode', 'shorter', 'shortly', 'shorts', 'shot', 'shoul', 'shoulders', 'shouldn', 'shouldnt', 'shouted', 'shouting', 'shove', 'shoving', 'showed', 'shower', 'showered', 'showers', 'showing', 'showr', 'showroomscity', 'shows', 'shracomorsglsuplt', 'shrek', 'shrink', 'shrub', 'shu', 'shud', 'shudvetold', 'shuhui', 'shun', 'shut', 'shy', 'si', 'sian', 'sib', 'sic', 'sick', 'sickness', 'sicomo', 'sif', 'sigh', 'sighs', 'sight', 'sign', 'signal', 'significance', 'significant', 'signin', 'signing', 'siguviri', 'silence', 'silent', 'silently', 'silly', 'silver', 'sim', 'simonwatson', 'simple', 'simpler', 'simply', 'simpsons', 'simulate', 'sinco', 'sindu', 'sing', 'singapore', 'singing', 'single', 'singles', 'sink', 'sip', 'sipix', 'sips', 'sir', 'siri', 'sirjii', 'sirs', 'sirsalam', 'sis', 'sister', 'sisters', 'sit', 'site', 'sitll', 'sitter', 'sittin', 'sitting', 'situation', 'situations', 'siva', 'sivatats', 'size', 'sized', 'sk', 'skallis', 'skateboarding', 'skilgme', 'skilgmetscswinawkage', 'skillgame', 'skillgamewinaweek', 'skills', 'skinny', 'skins', 'skint', 'skip', 'skirt', 'skxh', 'sky', 'skye', 'skype', 'skyped', 'skyving', 'slaaaaave', 'slacking', 'slap', 'slave', 'sleep', 'sleepin', 'sleeping', 'sleepingand', 'sleepingwith', 'sleeps', 'sleepsweet', 'sleepwellamptake', 'sleepy', 'slept', 'slice', 'slices', 'slide', 'sliding', 'slightly', 'slip', 'slippers', 'slippery', 'slo', 'slob', 'slomsgs', 'slots', 'slovely', 'slow', 'slower', 'slowing', 'slowly', 'slurp', 'smacks', 'small', 'smaller', 'smart', 'smartcall', 'smarter', 'smartthough', 'smash', 'smashed', 'smear', 'smell', 'smells', 'smeone', 'smidgin', 'smile', 'smiled', 'smiles', 'smiley', 'smiling', 'smith', 'smithswitch', 'smoke', 'smoked', 'smokes', 'smokin', 'smoking', 'smoothly', 'sms', 'smsd', 'smsing', 'smsservices', 'smsshsexnetun', 'smth', 'sn', 'snake', 'snap', 'snappy', 'snatch', 'snd', 'sneham', 'snickering', 'sno', 'snogs', 'snoringthey', 'snow', 'snowball', 'snowboarding', 'snowman', 'snuggles', 'soany', 'soc', 'sochte', 'social', 'sofa', 'soft', 'software', 'soil', 'soiree', 'sol', 'soladha', 'sold', 'solihull', 'solve', 'solved', 'somebody', 'someday', 'someones', 'someonethat', 'someonone', 'someplace', 'somerset', 'somethin', 'somethings', 'sometimerakheshvisitor', 'sometme', 'somewhat', 'somewheresomeone', 'somewhr', 'somone', 'somtimes', 'sonathaya', 'sonetimes', 'song', 'songs', 'sonot', 'sony', 'sonyericsson', 'soo', 'soon', 'soonc', 'sooner', 'soonlots', 'soonxxx', 'sooo', 'soooo', 'sooooo', 'sophas', 'sore', 'sorrow', 'sorrowsi', 'sorry', 'sorryi', 'sorryin', 'sort', 'sorta', 'sorted', 'sortedbut', 'sorting', 'sorts', 'sory', 'sorydarealyfrm', 'sos', 'soso', 'soul', 'sound', 'sounding', 'sounds', 'soundtrack', 'soup', 'source', 'sources', 'south', 'southern', 'souveniers', 'soz', 'sp', 'space', 'spacebucks', 'spaces', 'spageddies', 'spain', 'spam', 'spanish', 'spare', 'spares', 'spark', 'sparkling', 'spatula', 'speak', 'speaking', 'special', 'specialcall', 'speciale', 'specialisation', 'specialise', 'specially', 'specific', 'specify', 'specs', 'speechless', 'speed', 'speedchat', 'speeding', 'speling', 'spell', 'spelled', 'spelling', 'spend', 'spending', 'spent', 'spice', 'spider', 'spiderman', 'spiffing', 'spile', 'spin', 'spinout', 'spiral', 'spirit', 'spiritual', 'spjanuary', 'spk', 'spl', 'splash', 'splashmobile', 'splat', 'splendid', 'split', 'splleing', 'splwat', 'spoil', 'spoiled', 'spoilt', 'spoke', 'spoken', 'sponsors', 'spontaneously', 'spook', 'spoon', 'spoons', 'sporadically', 'sport', 'sports', 'sportsx', 'spose', 'spot', 'spotty', 'spouse', 'sppok', 'spreadsheet', 'spree', 'spring', 'springs', 'sprint', 'sprwm', 'sptv', 'sptyrone', 'spunout', 'spys', 'sq', 'squatting', 'squeeeeeze', 'squeezed', 'squid', 'squishy', 'srs', 'srsly', 'srt', 'sry', 'ss', 'ssi', 'ssindia', 'ssnervous', 'st', 'stability', 'stable', 'stadium', 'staff', 'staffsciencenusedusgphyhcmkteachingpc', 'stage', 'stagwood', 'stairs', 'stalk', 'stalking', 'stamped', 'stamps', 'stand', 'standard', 'standing', 'stands', 'stapati', 'star', 'starer', 'staring', 'starring', 'stars', 'starshine', 'start', 'started', 'startedindia', 'starti', 'starting', 'starts', 'starve', 'starving', 'starwars', 'stash', 'stated', 'statement', 'statements', 'station', 'stations', 'status', 'stay', 'stayed', 'stayin', 'staying', 'stays', 'stchoicecouk', 'std', 'stdtxtrate', 'steak', 'steal', 'stealing', 'steam', 'steamboat', 'steed', 'steering', 'step', 'steps', 'stereo', 'stereophonics', 'sterling', 'sterm', 'steve', 'stevelike', 'stewartsize', 'steyn', 'sth', 'sthis', 'stick', 'sticky', 'stifled', 'stil', 'stillmaybe', 'stink', 'stitch', 'stock', 'stocked', 'stockport', 'stolen', 'stomach', 'stomps', 'stone', 'stoners', 'stones', 'stool', 'stop', 'stopbcm', 'stopcost', 'stopcs', 'stopped', 'stops', 'stopsms', 'stopsmsppm', 'stopstop', 'stoptx', 'stoptxt', 'stoptxtstop', 'store', 'storelike', 'stores', 'stories', 'storming', 'story', 'str', 'straight', 'strain', 'strange', 'stranger', 'strangersaw', 'stream', 'street', 'streetshall', 'stress', 'stressed', 'stressful', 'stressfull', 'stretch', 'strewn', 'strict', 'strike', 'strings', 'strip', 'stripes', 'strips', 'strokes', 'strong', 'strongbuy', 'strongly', 'strt', 'strtd', 'struggling', 'sts', 'stterms', 'stu', 'stubborn', 'stuck', 'studdying', 'student', 'studentfinancial', 'students', 'studentsthis', 'studies', 'studio', 'study', 'studying', 'studyn', 'stuff', 'stuffed', 'stuffing', 'stuffleaving', 'stuffmoro', 'stuffs', 'stuffwhy', 'stunning', 'stupid', 'stupidits', 'style', 'styles', 'styling', 'stylish', 'stylist', 'sub', 'subject', 'subletting', 'submitted', 'submitting', 'subpoly', 'subs', 'subscribe', 'subscribed', 'subscribegbpmnth', 'subscriber', 'subscribers', 'subscription', 'subscriptions', 'subscriptngbpwk', 'subscrition', 'subsequent', 'subtoitles', 'success', 'successful', 'successfully', 'sucker', 'suckers', 'sucks', 'sudden', 'suddenly', 'sudn', 'sue', 'suffer', 'suffering', 'suffers', 'sufficient', 'sugababes', 'suganya', 'sugar', 'sugardad', 'suggest', 'suggestion', 'suggestions', 'suite', 'suitemates', 'suits', 'sullivan', 'sum', 'sumfing', 'summer', 'summers', 'summon', 'sumthin', 'sumthinxx', 'sun', 'sunday', 'sundayish', 'sunlight', 'sunny', 'sunoco', 'sunroof', 'sunscreen', 'sunshine', 'suntec', 'sup', 'super', 'superb', 'superior', 'supervisor', 'suply', 'supose', 'suppliers', 'supplies', 'supply', 'support', 'supportproviding', 'supports', 'supportvery', 'suppose', 'supposed', 'supreme', 'suprman', 'sura', 'sure', 'surely', 'surf', 'surfing', 'surgical', 'surly', 'surname', 'surprise', 'surprised', 'surrender', 'surrounded', 'survey', 'surya', 'sutra', 'sux', 'suzy', 'svc', 'sw', 'swalpa', 'swan', 'swann', 'swap', 'swashbuckling', 'swat', 'swatch', 'sway', 'swayze', 'swear', 'sweater', 'sweatter', 'sweet', 'sweetest', 'sweetheart', 'sweetie', 'sweets', 'swell', 'swhrt', 'swimming', 'swimsuit', 'swing', 'swiss', 'switch', 'swollen', 'swoop', 'swss', 'swt', 'swtheart', 'sxy', 'syd', 'syllabus', 'symbol', 'sympathetic', 'symptoms', 'synced', 'syria', 'syrup', 'systems', 'ta', 'table', 'tables', 'tablet', 'tablets', 'tackle', 'tacos', 'tactful', 'tactless', 'tadaaaaa', 'tag', 'tagged', 'tahan', 'tai', 'tait', 'taj', 'taka', 'takecare', 'taken', 'takenonly', 'takes', 'takin', 'taking', 'talent', 'talents', 'talk', 'talkbut', 'talked', 'talkin', 'talking', 'talks', 'tall', 'tallahassee', 'tallent', 'tamilnaduthen', 'tampa', 'tank', 'tantrums', 'tap', 'tape', 'tariffs', 'tarot', 'tarpon', 'tas', 'taste', 'tasts', 'tat', 'tata', 'tattoos', 'tau', 'taught', 'taunton', 'taxes', 'taxi', 'taxless', 'taxt', 'taylor', 'taylors', 'tayseertissco', 'tb', 'tbspersolvo', 'tc', 'tcllc', 'tcrw', 'tcs', 'tcsbcmwcnxx', 'tcsbcmwcnxxcallcostppmmobilesvary', 'tcsc', 'tcsstop', 'tctxt', 'tddnewsletteremccouk', 'tea', 'teach', 'teacher', 'teaches', 'teaching', 'teacoffee', 'team', 'teams', 'tear', 'tears', 'tease', 'teasing', 'tech', 'technical', 'technologies', 'tee', 'teenager', 'teeth', 'teethif', 'teethis', 'teju', 'tel', 'telephone', 'telephonic', 'teletext', 'tell', 'telling', 'tellmiss', 'tells', 'telly', 'telphone', 'telugu', 'teluguthts', 'temales', 'temp', 'temper', 'temple', 'tenants', 'tendencies', 'tenerife', 'tensed', 'tension', 'teresa', 'term', 'terminatedwe', 'terms', 'termsapply', 'terrible', 'terrific', 'terror', 'terrorist', 'terry', 'tescos', 'tessypls', 'test', 'testing', 'tests', 'tex', 'texas', 'texd', 'text', 'textand', 'textbook', 'textbuddy', 'textcomp', 'texted', 'textin', 'texting', 'textoperator', 'textpod', 'texts', 'textsweekend', 'tfp', 'tgxxrz', 'th', 'thandiyachu', 'thangam', 'thangamits', 'thank', 'thanks', 'thanksgiving', 'thanku', 'thankyou', 'thanx', 'thanxxx', 'thasa', 'thatd', 'thatdont', 'thati', 'thatll', 'thatmum', 'thatnow', 'thats', 'thatworzels', 'theacusations', 'theater', 'theatre', 'thecd', 'thedailydraw', 'theirs', 'thekingshead', 'themed', 'themes', 'themob', 'themobhit', 'themobyo', 'themp', 'thenwill', 'theoretically', 'theory', 'theplace', 'thepub', 'theredo', 'theregoodnight', 'therell', 'therere', 'theres', 'therexx', 'thesedays', 'theseyours', 'thesis', 'thesmszonecom', 'theth', 'thewend', 'theyll', 'theyre', 'thfebtcs', 'thgt', 'thia', 'thing', 'thinghow', 'things', 'think', 'thinked', 'thinkin', 'thinking', 'thinks', 'thinkthis', 'thinl', 'thirunelvali', 'thisdon', 'thk', 'thkin', 'thm', 'thmarch', 'thnk', 'thnovbehind', 'thnq', 'thnx', 'tho', 'thoso', 'thot', 'thou', 'thought', 'thoughts', 'thoughtsi', 'thousadi', 'thousands', 'thout', 'thread', 'threats', 'threw', 'thriller', 'throat', 'throw', 'throwin', 'throwing', 'thrown', 'throws', 'thrurespect', 'ths', 'tht', 'thts', 'thuglyfe', 'thurs', 'thursday', 'thx', 'thy', 'tick', 'ticket', 'tickets', 'tiempo', 'tiger', 'tight', 'tightly', 'tigress', 'tihs', 'tiime', 'til', 'till', 'tim', 'time', 'timedhoni', 'timegud', 'timehope', 'times', 'timeslil', 'timeyou', 'timeyour', 'timi', 'timin', 'timing', 'timings', 'tiny', 'tip', 'tips', 'tired', 'tiring', 'tirunelvai', 'tirunelvali', 'tirupur', 'tis', 'tisscotayseer', 'title', 'titles', 'titleso', 'tiwary', 'tix', 'tiz', 'tke', 'tkts', 'tlk', 'tm', 'tming', 'tmobile', 'tmorrowpls', 'tmr', 'tmrw', 'tmw', 'tnc', 'tncs', 'toa', 'toaday', 'tobacco', 'tobed', 'tocallshall', 'toclaim', 'today', 'todaybut', 'todaydo', 'todayfrom', 'todaygood', 'todayhe', 'todays', 'todaysundaysunday', 'todo', 'tog', 'tohar', 'toilet', 'tok', 'token', 'toking', 'tol', 'told', 'toldshe', 'toledo', 'tolerance', 'toleratbcs', 'toll', 'tom', 'tomarrow', 'tome', 'tomeandsaidthis', 'tomo', 'tomocant', 'tomorro', 'tomorrow', 'tomorrowcall', 'tomorrowtoday', 'tomorw', 'tone', 'tones', 'tonesreply', 'tonesu', 'tonesyoucouk', 'tonexs', 'tonght', 'tongued', 'tonight', 'tonights', 'tonite', 'tonitebusy', 'tonitethings', 'tons', 'tonsolitusaswell', 'took', 'tookplace', 'tool', 'toolets', 'tooo', 'toopray', 'toot', 'toothpaste', 'tootsie', 'topic', 'topicsorry', 'toplay', 'topped', 'toppoly', 'tops', 'tor', 'torch', 'torrents', 'tortilla', 'torture', 'tosend', 'toshiba', 'toss', 'tot', 'total', 'totally', 'totes', 'touch', 'touched', 'tough', 'toughest', 'tour', 'town', 'towncud', 'towndontmatter', 'toxic', 'toyota', 'tp', 'track', 'trackmarque', 'trade', 'traditions', 'traffic', 'train', 'trained', 'training', 'trainners', 'trains', 'tram', 'tranquility', 'transaction', 'transcribing', 'transfer', 'transferacc', 'transfered', 'transferred', 'transfr', 'transfred', 'transport', 'trash', 'trauma', 'trav', 'travel', 'traveling', 'travelled', 'travelling', 'treacle', 'treadmill', 'treasure', 'treat', 'treated', 'treatin', 'treats', 'trebles', 'tree', 'trek', 'trends', 'trial', 'tried', 'trip', 'triple', 'trips', 'trishul', 'triumphed', 'tron', 'trouble', 'troubleshooting', 'trouser', 'truble', 'truck', 'true', 'truekdo', 'truffles', 'truly', 'truro', 'trust', 'trusting', 'truth', 'truthful', 'try', 'tryin', 'trying', 'trywales', 'ts', 'tsandcs', 'tscs', 'tscswinawkage', 'tshirt', 'tsunami', 'tsunamis', 'tt', 'tts', 'ttyl', 'tue', 'tues', 'tuesday', 'tui', 'tuition', 'tul', 'tulip', 'tulsi', 'tunde', 'tune', 'tunji', 'turkeys', 'turn', 'turned', 'turning', 'turns', 'tuth', 'tv', 'tvhe', 'tvlol', 'twat', 'twice', 'twiggs', 'twilight', 'twinks', 'twins', 'twittering', 'tx', 'txt', 'txtauction', 'txtauctiontxt', 'txtcom', 'txtin', 'txting', 'txtjourney', 'txtno', 'txtp', 'txts', 'txtx', 'txtú', 'tyler', 'tylers', 'type', 'typelyk', 'types', 'typical', 'uawakefeellikw', 'ubandu', 'ubi', 'ucall', 'ufind', 'ugadi', 'ugh', 'ugos', 'uh', 'uhhhhrmm', 'ui', 'uif', 'uin', 'ujhhhhhhh', 'uk', 'ukmobiledate', 'ukp', 'uks', 'ull', 'ultimate', 'ultimately', 'ultimatum', 'um', 'umma', 'ummmawill', 'ummmmmaah', 'umoro', 'unable', 'unbelievable', 'unbreakable', 'unclaimed', 'uncle', 'uncles', 'uncomfortable', 'unconditionally', 'unconscious', 'unconsciously', 'unconvinced', 'uncountable', 'uncut', 'underdtand', 'understand', 'understanding', 'understood', 'underwear', 'undrstnd', 'undrstndng', 'unemployed', 'uneventful', 'unfolds', 'unfortunately', 'unfortuntly', 'unhappiness', 'unhappy', 'uni', 'unicefs', 'uniform', 'unintentional', 'unintentionally', 'unique', 'uniquei', 'united', 'units', 'univ', 'university', 'unkempt', 'unknown', 'unless', 'unlike', 'unlimited', 'unmits', 'unnecessarily', 'unni', 'unrecognized', 'unredeemed', 'unsecured', 'unsold', 'unsoldmike', 'unsoldnow', 'unspoken', 'unsub', 'unsubscribe', 'unsubscribed', 'untamed', 'unusual', 'uothrwise', 'upcharge', 'upd', 'updat', 'update', 'updatenow', 'upgrade', 'upgrading', 'upgrdcentre', 'uphad', 'upload', 'uploaded', 'uploads', 'upnot', 'upping', 'ups', 'upset', 'upseti', 'upsetits', 'upstairs', 'upto', 'uptown', 'upyeh', 'ur', 'ure', 'urfeeling', 'urgent', 'urgentbut', 'urgentlyits', 'urgh', 'urgnt', 'urgoin', 'urgran', 'urination', 'url', 'urmomi', 'urn', 'urself', 'usb', 'usc', 'uscedu', 'use', 'used', 'useful', 'useless', 'user', 'uses', 'usf', 'usget', 'usher', 'using', 'uslet', 'usmle', 'usno', 'uso', 'usps', 'usual', 'usualiam', 'usually', 'uterus', 'utter', 'uttered', 'utxt', 'uu', 'uup', 'uv', 'uve', 'uwana', 'uwant', 'uworld', 'uxxxx', 'uz', 'vaazhthukkal', 'vague', 'vaguely', 'vai', 'vale', 'valentine', 'valentines', 'valid', 'validhrs', 'valuable', 'value', 'valued', 'valuemorning', 'values', 'valuing', 'varaya', 'vargu', 'various', 'varma', 'vary', 'vasai', 'vat', 'vatian', 'vava', 'vco', 'vday', 've', 'vegas', 'vegetables', 'veggie', 'vehicle', 'velachery', 'velly', 'velusamy', 'venaam', 'venugopal', 'verified', 'verify', 'verifying', 'version', 'versus', 'vettam', 'vewy', 'vibrant', 'vibrate', 'vibrator', 'vic', 'victoria', 'victors', 'vid', 'video', 'videochat', 'videophones', 'videopic', 'videos', 'videosound', 'videosounds', 'vidnot', 'view', 'vijay', 'vijaykanth', 'vikky', 'vikkyim', 'vilikkamt', 'vill', 'villa', 'village', 'vinobanagar', 'violated', 'violence', 'violet', 'vip', 'virgils', 'virgin', 'virgins', 'virtual', 'visa', 'visionsmscom', 'visit', 'visiting', 'visitneed', 'visitors', 'vital', 'vitamin', 'viva', 'vivek', 'vivekanand', 'viveki', 'vl', 'vldo', 'voda', 'vodafone', 'vodka', 'voice', 'voicemail', 'voila', 'volcanoes', 'vomit', 'vomitin', 'vomiting', 'vote', 'voted', 'voucher', 'vouchers', 'voucherstext', 'vpist', 'vpod', 'vry', 'vs', 'vth', 'vtired', 'vu', 'wa', 'waaaat', 'wad', 'wadebridgei', 'wah', 'wahala', 'wahay', 'waheed', 'waheeda', 'wahleykkumsharing', 'waht', 'wait', 'waited', 'waiti', 'waitin', 'waiting', 'waitshould', 'waitu', 'wake', 'waking', 'wales', 'waliking', 'walk', 'walkabout', 'walked', 'walkin', 'walking', 'walks', 'wall', 'wallet', 'wallpaper', 'wallpaperall', 'walls', 'walmart', 'walsall', 'wamma', 'wan', 'wana', 'wanna', 'wannatell', 'want', 'wantcome', 'wanted', 'wanting', 'wants', 'wap', 'waqt', 'ward', 'warm', 'warming', 'warned', 'warner', 'warning', 'warranty', 'warwick', 'washob', 'wasn', 'wasnt', 'waste', 'wasted', 'wasting', 'wat', 'watch', 'watched', 'watches', 'watchin', 'watching', 'watchng', 'water', 'watershd', 'watever', 'watevr', 'wating', 'watll', 'watrdayno', 'wats', 'watts', 'waves', 'waxsto', 'way', 'waysmscom', 'waythis', 'wb', 'wc', 'wcn', 'wcnxx', 'weak', 'weakness', 'weaknesses', 'weapon', 'wear', 'wearing', 'weaseling', 'weasels', 'weather', 'weathers', 'web', 'webadres', 'webeburnin', 'webmobile', 'webpage', 'website', 'websitenow', 'wed', 'weddin', 'wedding', 'weddingfriend', 'wedlunch', 'wednesday', 'weds', 'wee', 'weed', 'weeddeficient', 'week', 'weekdays', 'weekend', 'weekends', 'weekly', 'weeks', 'weekstop', 'weigh', 'weighed', 'weight', 'weighthaha', 'weightloss', 'weird', 'weirdest', 'weirdo', 'weirdy', 'weiyi', 'welcome', 'welcomes', 'wellda', 'welli', 'welltake', 'wellyou', 'welp', 'wen', 'wendy', 'wenever', 'went', 'wenwecan', 'wer', 'wereare', 'werebored', 'werent', 'werethe', 'wesley', 'wesleys', 'west', 'western', 'westlife', 'westonzoyland', 'westshore', 'wet', 'wetherspoons', 'weve', 'wewa', 'whassup', 'whats', 'whatsup', 'wheat', 'wheel', 'wheellock', 'whenevr', 'whenre', 'whens', 'whenwhere', 'whereare', 'wherebtw', 'wheres', 'wherevr', 'wherres', 'whileamp', 'whilltake', 'whispers', 'white', 'whn', 'whore', 'whos', 'whr', 'wi', 'wicked', 'wicket', 'wicklow', 'wid', 'widelivecomindex', 'wif', 'wife', 'wifedont', 'wifehow', 'wifes', 'wifi', 'wihtuot', 'wikipediacom', 'wil', 'wild', 'wildest', 'wildlife', 'willing', 'willpower', 'win', 'winaweek', 'winawk', 'wind', 'window', 'windows', 'winds', 'windy', 'wine', 'wined', 'wings', 'wining', 'winner', 'winnersclub', 'winning', 'winppmxage', 'wins', 'winterstone', 'wipe', 'wipro', 'wiproyou', 'wirenet', 'wisdom', 'wise', 'wish', 'wisheds', 'wishes', 'wishin', 'wishing', 'wishlist', 'wiskey', 'wit', 'withdraw', 'wither', 'witin', 'witot', 'witout', 'wiv', 'wizzle', 'wj', 'wk', 'wkend', 'wkentp', 'wkg', 'wkly', 'wknd', 'wks', 'wktxt', 'wlcome', 'wld', 'wmlidadafirsttrue', 'wmlidbaeceffffirsttruejul', 'wn', 'wnevr', 'wnt', 'wo', 'woah', 'wocay', 'woke', 'woken', 'woman', 'womdarfull', 'women', 'won', 'wondar', 'wondarfull', 'wonder', 'wonderful', 'wondering', 'wonders', 'wont', 'woo', 'woodland', 'woods', 'woohoo', 'woot', 'woould', 'woozles', 'worc', 'word', 'wordcollect', 'wordnot', 'words', 'wordsevry', 'wordstart', 'work', 'workage', 'workand', 'workin', 'working', 'worklove', 'workout', 'works', 'world', 'worldgnun', 'worldmay', 'worlds', 'worldvery', 'worms', 'worried', 'worriedx', 'worries', 'worry', 'worryc', 'worrying', 'worryuse', 'worse', 'worst', 'worth', 'worthless', 'wot', 'wotu', 'wotz', 'woul', 'woulda', 'wouldnt', 'wounds', 'wow', 'wp', 'wq', 'wquestion', 'wrc', 'wrd', 'wrecked', 'wrench', 'wrenching', 'wrg', 'wright', 'write', 'writhing', 'wrk', 'wrki', 'wrkin', 'wrking', 'wrks', 'wrld', 'wrnog', 'wrong', 'wrongly', 'wrongtake', 'wrote', 'ws', 'wt', 'wtc', 'wtf', 'wth', 'wthout', 'wtjy', 'wu', 'wud', 'wudnt', 'wuld', 'wuldnt', 'wun', 'wwq', 'wwwapplausestorecom', 'wwwareyouuniquecouk', 'wwwasjesuscom', 'wwwbiz', 'wwwbridalpetticoatdreamscouk', 'wwwbutelecom', 'wwwcashbincouk', 'wwwclubmobycom', 'wwwclubzedcouk', 'wwwcnupdatescomnewsletter', 'wwwcom', 'wwwcomuknet', 'wwwdbuknet', 'wwwflirtpartyus', 'wwwfullonsmscom', 'wwwgambtv', 'wwwgetzedcouk', 'wwwidewcom', 'wwwldewcom', 'wwwldewcomsubswinppmx', 'wwwldewcomwinppmxage', 'wwwldewcomwinppmxagesubscription', 'wwwmovietriviatv', 'wwwmusictrivianet', 'wwworangecoukow', 'wwwphbcom', 'wwwregalportfoliocouk', 'wwwringtonekingcouk', 'wwwringtonescouk', 'wwwrtfsphostingcom', 'wwwsantacallingcom', 'wwwshortbreaksorguk', 'wwwsmsacubootydelious', 'wwwsmsacugoldviking', 'wwwsmsacuhmmross', 'wwwsmsacunat', 'wwwsmsacunataliek', 'wwwsmsconet', 'wwwtcbiz', 'wwwtelediscountcouk', 'wwwtextcompcom', 'wwwtextpodnet', 'wwwtklscom', 'wwwtxtcom', 'wwwtxtshopcom', 'wwwtxttowincouk', 'wwwwincouk', 'wwx', 'wylie', 'xafter', 'xam', 'xavier', 'xchat', 'xclusiveclubsaisai', 'xin', 'xins', 'xmas', 'xnet', 'xoxo', 'xpwk', 'xt', 'xuhui', 'xx', 'xxsp', 'xxuk', 'xxx', 'xxxmobilemovieclub', 'xxxmobilemovieclubcomnqjkgighjjgcbl', 'xxxx', 'xxxxx', 'xxxxxx', 'xxxxxxx', 'xxxxxxxx', 'xxxxxxxxx', 'xxxxxxxxxxxxxx', 'xy', 'xyour', 'ya', 'yagoing', 'yah', 'yahoo', 'yalrigu', 'yalru', 'yam', 'yan', 'yar', 'yards', 'yavnt', 'yaxx', 'yaxxx', 'yay', 'yck', 'yday', 'yeah', 'yeahand', 'year', 'years', 'yeesh', 'yeh', 'yelling', 'yellow', 'yelowi', 'yen', 'yeovil', 'yep', 'yer', 'yes', 'yesbut', 'yesfrom', 'yesgauti', 'yeshe', 'yeshere', 'yesim', 'yesmum', 'yessura', 'yest', 'yesterday', 'yettys', 'yetunde', 'yf', 'yi', 'yifeng', 'yijue', 'yijuehotmailcom', 'ym', 'ymca', 'yo', 'yoga', 'yogasana', 'yohere', 'yor', 'yorge', 'youany', 'youcarlos', 'youclean', 'youd', 'youdearwith', 'youdoing', 'youhow', 'youi', 'youkwhere', 'yould', 'youll', 'youmoney', 'youmy', 'young', 'younger', 'youphone', 'youre', 'yourinclusive', 'yourjob', 'youso', 'youthats', 'youto', 'youuuuu', 'youve', 'youwanna', 'youwhen', 'yoville', 'yowifes', 'yoyyooo', 'yr', 'yrs', 'ystrdayice', 'yt', 'yummmm', 'yummy', 'yun', 'yunny', 'yuo', 'yuou', 'yup', 'yupz', 'ywhere', 'zac', 'zahers', 'zealand', 'zebra', 'zed', 'zeros', 'zf', 'zhong', 'zindgi', 'zoe', 'zogtorius', 'zoom', 'zouk', 'zs', 'zyada', 'üll', '〨ud']\n"
          ],
          "name": "stdout"
        }
      ]
    },
    {
      "cell_type": "markdown",
      "metadata": {
        "id": "KUpN6IzyE8Y4",
        "colab_type": "text"
      },
      "source": [
        "**Splitting in train and test data**"
      ]
    },
    {
      "cell_type": "code",
      "metadata": {
        "id": "1tTs8KqsF1Ai",
        "colab_type": "code",
        "colab": {}
      },
      "source": [
        "y = spam_class_dataset['Label'].to_numpy()"
      ],
      "execution_count": 346,
      "outputs": []
    },
    {
      "cell_type": "code",
      "metadata": {
        "id": "QYkkPV-QF8pO",
        "colab_type": "code",
        "colab": {
          "base_uri": "https://localhost:8080/",
          "height": 34
        },
        "outputId": "e9e16a79-d17c-4434-ae23-08e03ff5c477"
      },
      "source": [
        "y"
      ],
      "execution_count": 347,
      "outputs": [
        {
          "output_type": "execute_result",
          "data": {
            "text/plain": [
              "array(['0', '0', '1', ..., '0', '0', '0'], dtype=object)"
            ]
          },
          "metadata": {
            "tags": []
          },
          "execution_count": 347
        }
      ]
    },
    {
      "cell_type": "code",
      "metadata": {
        "id": "3XZYHyF-E719",
        "colab_type": "code",
        "colab": {}
      },
      "source": [
        "X_train, X_test, y_train, y_test = train_test_split(feature_matrix, y, test_size=0.20) # , random_state=42)        # 80:20 ratio"
      ],
      "execution_count": 348,
      "outputs": []
    },
    {
      "cell_type": "markdown",
      "metadata": {
        "id": "D1JkThhN-rbY",
        "colab_type": "text"
      },
      "source": [
        "### **MODEL 1: Multinomial Naive Bayes**"
      ]
    },
    {
      "cell_type": "markdown",
      "metadata": {
        "id": "UUYSXxZlGgnU",
        "colab_type": "text"
      },
      "source": [
        "*Training the Model*"
      ]
    },
    {
      "cell_type": "code",
      "metadata": {
        "id": "snuuWnMk-two",
        "colab_type": "code",
        "colab": {
          "base_uri": "https://localhost:8080/",
          "height": 34
        },
        "outputId": "c2da6204-2bcc-4d59-d85b-8b73a6216fe6"
      },
      "source": [
        "clf_nb = MultinomialNB()\n",
        "clf_nb.fit(X_train, y_train)              #training the NB model using the TF-IDF matrix and the labels of training data"
      ],
      "execution_count": 350,
      "outputs": [
        {
          "output_type": "execute_result",
          "data": {
            "text/plain": [
              "MultinomialNB(alpha=1.0, class_prior=None, fit_prior=True)"
            ]
          },
          "metadata": {
            "tags": []
          },
          "execution_count": 350
        }
      ]
    },
    {
      "cell_type": "markdown",
      "metadata": {
        "id": "YZ4ioGUOGdQk",
        "colab_type": "text"
      },
      "source": [
        "*Predicting the results*"
      ]
    },
    {
      "cell_type": "code",
      "metadata": {
        "id": "d4_6uAaF_ln2",
        "colab_type": "code",
        "colab": {}
      },
      "source": [
        "#predicting the results of the test data\n",
        "y_pred = clf_nb.predict(X_test)"
      ],
      "execution_count": 351,
      "outputs": []
    },
    {
      "cell_type": "markdown",
      "metadata": {
        "id": "bvF8uCwNGkrJ",
        "colab_type": "text"
      },
      "source": [
        "*Accuracy of the prediction*"
      ]
    },
    {
      "cell_type": "code",
      "metadata": {
        "id": "Sh82P3CK-UG6",
        "colab_type": "code",
        "colab": {
          "base_uri": "https://localhost:8080/",
          "height": 34
        },
        "outputId": "93222237-b43c-4277-ffa1-d400e53175ef"
      },
      "source": [
        "from sklearn.metrics import accuracy_score\n",
        "\n",
        "print(accuracy_score(y_test, y_pred))"
      ],
      "execution_count": 352,
      "outputs": [
        {
          "output_type": "stream",
          "text": [
            "0.9614349775784753\n"
          ],
          "name": "stdout"
        }
      ]
    },
    {
      "cell_type": "code",
      "metadata": {
        "id": "McqpwERqG4iW",
        "colab_type": "code",
        "colab": {
          "base_uri": "https://localhost:8080/",
          "height": 51
        },
        "outputId": "bf906b99-91e7-4554-9678-8823730cb071"
      },
      "source": [
        "from sklearn.metrics import confusion_matrix\n",
        "confusion_matrix(y_test, y_pred)"
      ],
      "execution_count": 353,
      "outputs": [
        {
          "output_type": "execute_result",
          "data": {
            "text/plain": [
              "array([[958,   0],\n",
              "       [ 43, 114]])"
            ]
          },
          "metadata": {
            "tags": []
          },
          "execution_count": 353
        }
      ]
    },
    {
      "cell_type": "markdown",
      "metadata": {
        "id": "nnnfo0m-hv92",
        "colab_type": "text"
      },
      "source": [
        "###**MODEL 2: SVM**"
      ]
    },
    {
      "cell_type": "markdown",
      "metadata": {
        "id": "NwhECRrTMeux",
        "colab_type": "text"
      },
      "source": [
        "*Training the Model*"
      ]
    },
    {
      "cell_type": "code",
      "metadata": {
        "id": "OGu3i745GrXH",
        "colab_type": "code",
        "colab": {
          "base_uri": "https://localhost:8080/",
          "height": 85
        },
        "outputId": "689cabbd-9076-47c4-bd62-a7fb39b47cdd"
      },
      "source": [
        "from sklearn.svm import SVC\n",
        "svm = SVC(kernel='linear', C=1.0, random_state = 11)\n",
        "svm.fit(X_train, y_train)"
      ],
      "execution_count": 354,
      "outputs": [
        {
          "output_type": "execute_result",
          "data": {
            "text/plain": [
              "SVC(C=1.0, break_ties=False, cache_size=200, class_weight=None, coef0=0.0,\n",
              "    decision_function_shape='ovr', degree=3, gamma='scale', kernel='linear',\n",
              "    max_iter=-1, probability=False, random_state=11, shrinking=True, tol=0.001,\n",
              "    verbose=False)"
            ]
          },
          "metadata": {
            "tags": []
          },
          "execution_count": 354
        }
      ]
    },
    {
      "cell_type": "code",
      "metadata": {
        "id": "jbCCqadrDQPh",
        "colab_type": "code",
        "colab": {}
      },
      "source": [
        "y_pred = svm.predict(X_test)"
      ],
      "execution_count": 355,
      "outputs": []
    },
    {
      "cell_type": "markdown",
      "metadata": {
        "id": "SIv8Tu1XLHzm",
        "colab_type": "text"
      },
      "source": [
        "*Accuracy of prediction*"
      ]
    },
    {
      "cell_type": "code",
      "metadata": {
        "id": "zayMUGpXFdMY",
        "colab_type": "code",
        "colab": {
          "base_uri": "https://localhost:8080/",
          "height": 34
        },
        "outputId": "a72204f5-b64e-476a-930d-9a8aa1014b77"
      },
      "source": [
        "print(accuracy_score(y_test, y_pred))"
      ],
      "execution_count": 356,
      "outputs": [
        {
          "output_type": "stream",
          "text": [
            "0.9838565022421525\n"
          ],
          "name": "stdout"
        }
      ]
    },
    {
      "cell_type": "code",
      "metadata": {
        "id": "mswGpsbBHkPW",
        "colab_type": "code",
        "colab": {
          "base_uri": "https://localhost:8080/",
          "height": 51
        },
        "outputId": "92f9ddc4-c07d-44f2-925a-8fdf798d5e38"
      },
      "source": [
        "confusion_matrix(y_test, y_pred)"
      ],
      "execution_count": 357,
      "outputs": [
        {
          "output_type": "execute_result",
          "data": {
            "text/plain": [
              "array([[957,   1],\n",
              "       [ 17, 140]])"
            ]
          },
          "metadata": {
            "tags": []
          },
          "execution_count": 357
        }
      ]
    },
    {
      "cell_type": "markdown",
      "metadata": {
        "id": "Qp9SSJDPIQYv",
        "colab_type": "text"
      },
      "source": [
        "###**MODEL 3: Logistic Regression**"
      ]
    },
    {
      "cell_type": "markdown",
      "metadata": {
        "id": "_Xe4Z4FlMi7m",
        "colab_type": "text"
      },
      "source": [
        "*Training the Model*"
      ]
    },
    {
      "cell_type": "code",
      "metadata": {
        "id": "mqmzsGjXHpqK",
        "colab_type": "code",
        "colab": {
          "base_uri": "https://localhost:8080/",
          "height": 102
        },
        "outputId": "1d9eb304-2402-440b-8a9a-9e58ffe3809c"
      },
      "source": [
        "from sklearn.datasets import load_iris\n",
        "from sklearn.linear_model import LogisticRegression\n",
        "lr = LogisticRegression(solver='liblinear', penalty='l1')\n",
        "lr.fit(X_train,y_train)\n"
      ],
      "execution_count": 358,
      "outputs": [
        {
          "output_type": "execute_result",
          "data": {
            "text/plain": [
              "LogisticRegression(C=1.0, class_weight=None, dual=False, fit_intercept=True,\n",
              "                   intercept_scaling=1, l1_ratio=None, max_iter=100,\n",
              "                   multi_class='auto', n_jobs=None, penalty='l1',\n",
              "                   random_state=None, solver='liblinear', tol=0.0001, verbose=0,\n",
              "                   warm_start=False)"
            ]
          },
          "metadata": {
            "tags": []
          },
          "execution_count": 358
        }
      ]
    },
    {
      "cell_type": "code",
      "metadata": {
        "id": "9FOMW3M-JZu3",
        "colab_type": "code",
        "colab": {}
      },
      "source": [
        "y_pred=lr.predict(X_test)"
      ],
      "execution_count": 359,
      "outputs": []
    },
    {
      "cell_type": "markdown",
      "metadata": {
        "id": "kviGWFS5K6p1",
        "colab_type": "text"
      },
      "source": [
        "*Accuracy of prediction*"
      ]
    },
    {
      "cell_type": "code",
      "metadata": {
        "id": "O9i_w61fJtNY",
        "colab_type": "code",
        "colab": {
          "base_uri": "https://localhost:8080/",
          "height": 34
        },
        "outputId": "88434130-4954-4c77-bc0f-48284773bed5"
      },
      "source": [
        "print(accuracy_score(y_test, y_pred))"
      ],
      "execution_count": 360,
      "outputs": [
        {
          "output_type": "stream",
          "text": [
            "0.9587443946188341\n"
          ],
          "name": "stdout"
        }
      ]
    },
    {
      "cell_type": "code",
      "metadata": {
        "id": "LX7ssScPJv-m",
        "colab_type": "code",
        "colab": {
          "base_uri": "https://localhost:8080/",
          "height": 51
        },
        "outputId": "664971b9-2ce1-4c2c-93b0-d6a0e553edfc"
      },
      "source": [
        "confusion_matrix(y_test, y_pred)"
      ],
      "execution_count": 361,
      "outputs": [
        {
          "output_type": "execute_result",
          "data": {
            "text/plain": [
              "array([[954,   4],\n",
              "       [ 42, 115]])"
            ]
          },
          "metadata": {
            "tags": []
          },
          "execution_count": 361
        }
      ]
    },
    {
      "cell_type": "code",
      "metadata": {
        "id": "n2rSTNT2MZkf",
        "colab_type": "code",
        "colab": {}
      },
      "source": [
        ""
      ],
      "execution_count": null,
      "outputs": []
    }
  ]
}